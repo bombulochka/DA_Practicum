{
 "cells": [
  {
   "cell_type": "markdown",
   "id": "76e80ad9",
   "metadata": {},
   "source": [
    "<div style=\"border:solid Chocolate 2px; padding: 40px\">\n",
    "\n",
    "<b>Привет!</b>\n",
    "\n",
    "Давай знакомиться? Меня зовут Евгений Головин, я буду ревьюером твоего проекта. Если ты не против, то предлагаю построить наше общение на \"ты\" ;) Если удобнее на \"вы\", то нет проблем, только скажи об этом. \n",
    "\n",
    "В ходе работы я оставил тебе комментарии <font color='green'>зеленого</font>, <font color='gold'>желтого</font> и <font color='red'>красного</font> цветов. Сейчас объясню, что они значат:\n",
    "\n",
    "<br/>\n",
    "\n",
    "<div class=\"alert alert-success\">\n",
    "<h2> Комментарий ревьюера <a class=\"tocSkip\"> </h2>\n",
    "\n",
    "<b>Все супер!👍:</b> Решение на этом шаге является полностью правильным.\n",
    "</div>\n",
    "\n",
    "<br/>\n",
    "\n",
    "<div class=\"alert alert-warning\">\n",
    "    <h2> Комментарий ревьюера <a class=\"tocSkip\"> </h2>\n",
    "    \n",
    "<b>Небольшие замечания и рекомендации💡:</b> Решение на этом шаге станет еще лучше, если внести небольшие коррективы.\n",
    "</div>\n",
    "\n",
    "\n",
    "<br/>\n",
    "<div class=\"alert alert-block alert-danger\">\n",
    "<h2> Комментарий ревьюера <a class=\"tocSkip\"></h2>\n",
    "\n",
    "    \n",
    "<b>На доработку🤔:</b>\n",
    " Решение на этом шаге требует существенной переработки и внесения правок. Напоминаю, что проект не может быть принят с первого раза, если ревью содержит комментарии, рекомендующие доработать шаги.\n",
    "</div>\n",
    "    \n",
    "Увидев мой комментарий, не удаляй его, он будет очень полезен в случае повторной проверки работы :)\n",
    "    \n",
    "<div class=\"alert alert-info\">\n",
    "<b>А свой помечай вот так, чтобы я его не потерял ;)</b> \n",
    "</div>\n",
    "    \n",
    "На мои комменатрии можно и нужно реагировать, только делать это стоит так, чтобы твои и мои комменты не смешались: выделяй свои цветами, сильно отличающимися от моих.\n",
    "    \n",
    "Увидев у тебя неточность, в первый раз я лишь укажу на ее наличие и дам тебе возможность самому найти и исправить ее. На реальной работе твой руководитель будет поступать также, и я пытаюсь подготовить тебя именно к работе аналитиком. Но если ты пока не справишься с такой задачей - при следующей проверке я дам более точную подсказку!"
   ]
  },
  {
   "cell_type": "markdown",
   "id": "8e52777b",
   "metadata": {
    "toc": true
   },
   "source": [
    "<h1>Содержание<span class=\"tocSkip\"></span></h1>\n",
    "<div class=\"toc\"><ul class=\"toc-item\"><li><span><a href=\"#Шаг-1.-Загрузка-данных\" data-toc-modified-id=\"Шаг-1.-Загрузка-данных-1\">Шаг 1. Загрузка данных</a></span></li><li><span><a href=\"#Шаг-2.-Предобработка-данных\" data-toc-modified-id=\"Шаг-2.-Предобработка-данных-2\">Шаг 2. Предобработка данных</a></span></li><li><span><a href=\"#Шаг-3.-Исследовательский-анализ-данных\" data-toc-modified-id=\"Шаг-3.-Исследовательский-анализ-данных-3\">Шаг 3. Исследовательский анализ данных</a></span></li><li><span><a href=\"#Шаг-4.-Объединение-данных\" data-toc-modified-id=\"Шаг-4.-Объединение-данных-4\">Шаг 4. Объединение данных</a></span></li><li><span><a href=\"#Шаг-5.-Подсчёт-выручки\" data-toc-modified-id=\"Шаг-5.-Подсчёт-выручки-5\">Шаг 5. Подсчёт выручки</a></span></li><li><span><a href=\"#Шаг-6.-Проверка-гипотез\" data-toc-modified-id=\"Шаг-6.-Проверка-гипотез-6\">Шаг 6. Проверка гипотез</a></span></li></ul></div>"
   ]
  },
  {
   "cell_type": "markdown",
   "id": "b973aa7b",
   "metadata": {},
   "source": [
    "<h1>Цель проекта</h1>\n",
    "\n",
    "Проанализировать данные сервиса аренды самокатов GoFast о пользователях и их поездках и на основе этих данных проверить ряд гипотез, которые могут помочь бизнесу вырасти.\n",
    "\n",
    "<h1>Описание проекта</h1>\n",
    "\n",
    "Чтобы совершать поездки по городу, пользователи сервиса GoFast пользуются мобильным приложением. Сервисом можно пользоваться:\n",
    "* без подписки\n",
    " * абонентская плата отсутствует;\n",
    " * стоимость одной минуты поездки — 8 рублей;\n",
    " * стоимость старта (начала поездки) — 50 рублей;\n",
    "* с подпиской Ultra\n",
    " * абонентская плата — 199 рублей в месяц;\n",
    " * стоимость одной минуты поездки — 6 рублей;\n",
    " * стоимость старта — бесплатно.\n",
    " \n",
    "<h1>Описание данных</h1>\n",
    "\n",
    "* user_id\tуникальный идентификатор пользователя\n",
    "* name\tимя пользователя\n",
    "* age\tвозраст\n",
    "* city\tгород\n",
    "* subscription_type\tтип подписки (free, ultra)\n",
    "* distance\tрасстояние, которое пользователь проехал в текущей сессии (в метрах)\n",
    "* duration\tпродолжительность сессии (в минутах) — время с того момента, как пользователь нажал кнопку «Начать поездку» до момента, как он нажал кнопку «Завершить поездку»\n",
    "* date\tдата совершения поездки\n",
    "* minute_price\tстоимость одной минуты поездки по данной подписке\n",
    "* start_ride_price\tстоимость начала поездки\n",
    "* subscription_fee\tстоимость ежемесячного платежа"
   ]
  },
  {
   "cell_type": "markdown",
   "id": "9705ee09",
   "metadata": {},
   "source": [
    "<div class=\"alert alert-warning\">\n",
    "    <h2> Комментарий ревьюера v1<a class=\"tocSkip\"> </h2>\n",
    "    \n",
    "<b>Небольшие замечания и рекомендации💡:</b>Хорошее введние! Есть план работы, описание данных, но не хватает цели"
   ]
  },
  {
   "cell_type": "markdown",
   "id": "91e9ed23",
   "metadata": {},
   "source": [
    "<div class=\"alert alert-success\">\n",
    "<h2> Комментарий ревьюера v2 <a class=\"tocSkip\"> </h2>\n",
    "\n",
    "<b>Все супер!👍:</b> Доработано!"
   ]
  },
  {
   "cell_type": "code",
   "execution_count": 1,
   "id": "72576667",
   "metadata": {},
   "outputs": [],
   "source": [
    "import pandas as pd\n",
    "import numpy as np\n",
    "import matplotlib.pyplot as plot\n",
    "from scipy import stats as st"
   ]
  },
  {
   "cell_type": "markdown",
   "id": "c33860f7",
   "metadata": {},
   "source": [
    "<div class=\"alert alert-success\">\n",
    "<h2> Комментарий ревьюера v1 <a class=\"tocSkip\"> </h2>\n",
    "\n",
    "<b>Все супер!👍:</b> Здорово, что выделяешь в отдельную ячейку имопрт. Это одно из правил этикета"
   ]
  },
  {
   "cell_type": "markdown",
   "id": "c42cbe00",
   "metadata": {},
   "source": [
    "#### Шаг 1. Загрузка данных"
   ]
  },
  {
   "cell_type": "code",
   "execution_count": 2,
   "id": "eff9f206",
   "metadata": {},
   "outputs": [],
   "source": [
    "users = pd.read_csv('/datasets/users_go.csv')\n",
    "rides = pd.read_csv('/datasets/rides_go.csv', parse_dates=['date'])\n",
    "subs = pd.read_csv('/datasets/subscriptions_go.csv')"
   ]
  },
  {
   "cell_type": "code",
   "execution_count": 3,
   "id": "f71af47b",
   "metadata": {},
   "outputs": [
    {
     "data": {
      "text/html": [
       "<div>\n",
       "<style scoped>\n",
       "    .dataframe tbody tr th:only-of-type {\n",
       "        vertical-align: middle;\n",
       "    }\n",
       "\n",
       "    .dataframe tbody tr th {\n",
       "        vertical-align: top;\n",
       "    }\n",
       "\n",
       "    .dataframe thead th {\n",
       "        text-align: right;\n",
       "    }\n",
       "</style>\n",
       "<table border=\"1\" class=\"dataframe\">\n",
       "  <thead>\n",
       "    <tr style=\"text-align: right;\">\n",
       "      <th></th>\n",
       "      <th>user_id</th>\n",
       "      <th>name</th>\n",
       "      <th>age</th>\n",
       "      <th>city</th>\n",
       "      <th>subscription_type</th>\n",
       "    </tr>\n",
       "  </thead>\n",
       "  <tbody>\n",
       "    <tr>\n",
       "      <th>0</th>\n",
       "      <td>1</td>\n",
       "      <td>Кира</td>\n",
       "      <td>22</td>\n",
       "      <td>Тюмень</td>\n",
       "      <td>ultra</td>\n",
       "    </tr>\n",
       "    <tr>\n",
       "      <th>1</th>\n",
       "      <td>2</td>\n",
       "      <td>Станислав</td>\n",
       "      <td>31</td>\n",
       "      <td>Омск</td>\n",
       "      <td>ultra</td>\n",
       "    </tr>\n",
       "    <tr>\n",
       "      <th>2</th>\n",
       "      <td>3</td>\n",
       "      <td>Алексей</td>\n",
       "      <td>20</td>\n",
       "      <td>Москва</td>\n",
       "      <td>ultra</td>\n",
       "    </tr>\n",
       "    <tr>\n",
       "      <th>3</th>\n",
       "      <td>4</td>\n",
       "      <td>Константин</td>\n",
       "      <td>26</td>\n",
       "      <td>Ростов-на-Дону</td>\n",
       "      <td>ultra</td>\n",
       "    </tr>\n",
       "    <tr>\n",
       "      <th>4</th>\n",
       "      <td>5</td>\n",
       "      <td>Адель</td>\n",
       "      <td>28</td>\n",
       "      <td>Омск</td>\n",
       "      <td>ultra</td>\n",
       "    </tr>\n",
       "    <tr>\n",
       "      <th>5</th>\n",
       "      <td>6</td>\n",
       "      <td>Регина</td>\n",
       "      <td>25</td>\n",
       "      <td>Краснодар</td>\n",
       "      <td>ultra</td>\n",
       "    </tr>\n",
       "    <tr>\n",
       "      <th>6</th>\n",
       "      <td>7</td>\n",
       "      <td>Игорь</td>\n",
       "      <td>23</td>\n",
       "      <td>Омск</td>\n",
       "      <td>ultra</td>\n",
       "    </tr>\n",
       "    <tr>\n",
       "      <th>7</th>\n",
       "      <td>8</td>\n",
       "      <td>Юрий</td>\n",
       "      <td>23</td>\n",
       "      <td>Краснодар</td>\n",
       "      <td>ultra</td>\n",
       "    </tr>\n",
       "    <tr>\n",
       "      <th>8</th>\n",
       "      <td>9</td>\n",
       "      <td>Ян</td>\n",
       "      <td>21</td>\n",
       "      <td>Пятигорск</td>\n",
       "      <td>ultra</td>\n",
       "    </tr>\n",
       "    <tr>\n",
       "      <th>9</th>\n",
       "      <td>10</td>\n",
       "      <td>Валерий</td>\n",
       "      <td>18</td>\n",
       "      <td>Екатеринбург</td>\n",
       "      <td>ultra</td>\n",
       "    </tr>\n",
       "  </tbody>\n",
       "</table>\n",
       "</div>"
      ],
      "text/plain": [
       "   user_id        name  age            city subscription_type\n",
       "0        1        Кира   22          Тюмень             ultra\n",
       "1        2   Станислав   31            Омск             ultra\n",
       "2        3     Алексей   20          Москва             ultra\n",
       "3        4  Константин   26  Ростов-на-Дону             ultra\n",
       "4        5       Адель   28            Омск             ultra\n",
       "5        6      Регина   25       Краснодар             ultra\n",
       "6        7       Игорь   23            Омск             ultra\n",
       "7        8        Юрий   23       Краснодар             ultra\n",
       "8        9          Ян   21       Пятигорск             ultra\n",
       "9       10     Валерий   18    Екатеринбург             ultra"
      ]
     },
     "execution_count": 3,
     "metadata": {},
     "output_type": "execute_result"
    }
   ],
   "source": [
    "users.head(10)"
   ]
  },
  {
   "cell_type": "code",
   "execution_count": 4,
   "id": "f265f273",
   "metadata": {},
   "outputs": [
    {
     "name": "stdout",
     "output_type": "stream",
     "text": [
      "<class 'pandas.core.frame.DataFrame'>\n",
      "RangeIndex: 1565 entries, 0 to 1564\n",
      "Data columns (total 5 columns):\n",
      " #   Column             Non-Null Count  Dtype \n",
      "---  ------             --------------  ----- \n",
      " 0   user_id            1565 non-null   int64 \n",
      " 1   name               1565 non-null   object\n",
      " 2   age                1565 non-null   int64 \n",
      " 3   city               1565 non-null   object\n",
      " 4   subscription_type  1565 non-null   object\n",
      "dtypes: int64(2), object(3)\n",
      "memory usage: 61.3+ KB\n"
     ]
    }
   ],
   "source": [
    "users.info()"
   ]
  },
  {
   "cell_type": "code",
   "execution_count": 5,
   "id": "4395b311",
   "metadata": {},
   "outputs": [
    {
     "data": {
      "text/html": [
       "<div>\n",
       "<style scoped>\n",
       "    .dataframe tbody tr th:only-of-type {\n",
       "        vertical-align: middle;\n",
       "    }\n",
       "\n",
       "    .dataframe tbody tr th {\n",
       "        vertical-align: top;\n",
       "    }\n",
       "\n",
       "    .dataframe thead th {\n",
       "        text-align: right;\n",
       "    }\n",
       "</style>\n",
       "<table border=\"1\" class=\"dataframe\">\n",
       "  <thead>\n",
       "    <tr style=\"text-align: right;\">\n",
       "      <th></th>\n",
       "      <th>user_id</th>\n",
       "      <th>distance</th>\n",
       "      <th>duration</th>\n",
       "      <th>date</th>\n",
       "    </tr>\n",
       "  </thead>\n",
       "  <tbody>\n",
       "    <tr>\n",
       "      <th>0</th>\n",
       "      <td>1</td>\n",
       "      <td>4409.919140</td>\n",
       "      <td>25.599769</td>\n",
       "      <td>2021-01-01</td>\n",
       "    </tr>\n",
       "    <tr>\n",
       "      <th>1</th>\n",
       "      <td>1</td>\n",
       "      <td>2617.592153</td>\n",
       "      <td>15.816871</td>\n",
       "      <td>2021-01-18</td>\n",
       "    </tr>\n",
       "    <tr>\n",
       "      <th>2</th>\n",
       "      <td>1</td>\n",
       "      <td>754.159807</td>\n",
       "      <td>6.232113</td>\n",
       "      <td>2021-04-20</td>\n",
       "    </tr>\n",
       "    <tr>\n",
       "      <th>3</th>\n",
       "      <td>1</td>\n",
       "      <td>2694.783254</td>\n",
       "      <td>18.511000</td>\n",
       "      <td>2021-08-11</td>\n",
       "    </tr>\n",
       "    <tr>\n",
       "      <th>4</th>\n",
       "      <td>1</td>\n",
       "      <td>4028.687306</td>\n",
       "      <td>26.265803</td>\n",
       "      <td>2021-08-28</td>\n",
       "    </tr>\n",
       "    <tr>\n",
       "      <th>5</th>\n",
       "      <td>1</td>\n",
       "      <td>2770.890808</td>\n",
       "      <td>16.650138</td>\n",
       "      <td>2021-10-09</td>\n",
       "    </tr>\n",
       "    <tr>\n",
       "      <th>6</th>\n",
       "      <td>1</td>\n",
       "      <td>3039.020292</td>\n",
       "      <td>14.927879</td>\n",
       "      <td>2021-10-19</td>\n",
       "    </tr>\n",
       "    <tr>\n",
       "      <th>7</th>\n",
       "      <td>1</td>\n",
       "      <td>2842.118050</td>\n",
       "      <td>23.117468</td>\n",
       "      <td>2021-11-06</td>\n",
       "    </tr>\n",
       "    <tr>\n",
       "      <th>8</th>\n",
       "      <td>1</td>\n",
       "      <td>3412.690668</td>\n",
       "      <td>15.238072</td>\n",
       "      <td>2021-11-14</td>\n",
       "    </tr>\n",
       "    <tr>\n",
       "      <th>9</th>\n",
       "      <td>1</td>\n",
       "      <td>748.690645</td>\n",
       "      <td>15.041884</td>\n",
       "      <td>2021-11-22</td>\n",
       "    </tr>\n",
       "  </tbody>\n",
       "</table>\n",
       "</div>"
      ],
      "text/plain": [
       "   user_id     distance   duration       date\n",
       "0        1  4409.919140  25.599769 2021-01-01\n",
       "1        1  2617.592153  15.816871 2021-01-18\n",
       "2        1   754.159807   6.232113 2021-04-20\n",
       "3        1  2694.783254  18.511000 2021-08-11\n",
       "4        1  4028.687306  26.265803 2021-08-28\n",
       "5        1  2770.890808  16.650138 2021-10-09\n",
       "6        1  3039.020292  14.927879 2021-10-19\n",
       "7        1  2842.118050  23.117468 2021-11-06\n",
       "8        1  3412.690668  15.238072 2021-11-14\n",
       "9        1   748.690645  15.041884 2021-11-22"
      ]
     },
     "execution_count": 5,
     "metadata": {},
     "output_type": "execute_result"
    }
   ],
   "source": [
    "rides.head(10)"
   ]
  },
  {
   "cell_type": "code",
   "execution_count": 6,
   "id": "7919d515",
   "metadata": {},
   "outputs": [
    {
     "name": "stdout",
     "output_type": "stream",
     "text": [
      "<class 'pandas.core.frame.DataFrame'>\n",
      "RangeIndex: 18068 entries, 0 to 18067\n",
      "Data columns (total 4 columns):\n",
      " #   Column    Non-Null Count  Dtype         \n",
      "---  ------    --------------  -----         \n",
      " 0   user_id   18068 non-null  int64         \n",
      " 1   distance  18068 non-null  float64       \n",
      " 2   duration  18068 non-null  float64       \n",
      " 3   date      18068 non-null  datetime64[ns]\n",
      "dtypes: datetime64[ns](1), float64(2), int64(1)\n",
      "memory usage: 564.8 KB\n"
     ]
    }
   ],
   "source": [
    "rides.info()"
   ]
  },
  {
   "cell_type": "code",
   "execution_count": 7,
   "id": "a45de1bf",
   "metadata": {},
   "outputs": [
    {
     "data": {
      "text/html": [
       "<div>\n",
       "<style scoped>\n",
       "    .dataframe tbody tr th:only-of-type {\n",
       "        vertical-align: middle;\n",
       "    }\n",
       "\n",
       "    .dataframe tbody tr th {\n",
       "        vertical-align: top;\n",
       "    }\n",
       "\n",
       "    .dataframe thead th {\n",
       "        text-align: right;\n",
       "    }\n",
       "</style>\n",
       "<table border=\"1\" class=\"dataframe\">\n",
       "  <thead>\n",
       "    <tr style=\"text-align: right;\">\n",
       "      <th></th>\n",
       "      <th>subscription_type</th>\n",
       "      <th>minute_price</th>\n",
       "      <th>start_ride_price</th>\n",
       "      <th>subscription_fee</th>\n",
       "    </tr>\n",
       "  </thead>\n",
       "  <tbody>\n",
       "    <tr>\n",
       "      <th>0</th>\n",
       "      <td>free</td>\n",
       "      <td>8</td>\n",
       "      <td>50</td>\n",
       "      <td>0</td>\n",
       "    </tr>\n",
       "    <tr>\n",
       "      <th>1</th>\n",
       "      <td>ultra</td>\n",
       "      <td>6</td>\n",
       "      <td>0</td>\n",
       "      <td>199</td>\n",
       "    </tr>\n",
       "  </tbody>\n",
       "</table>\n",
       "</div>"
      ],
      "text/plain": [
       "  subscription_type  minute_price  start_ride_price  subscription_fee\n",
       "0              free             8                50                 0\n",
       "1             ultra             6                 0               199"
      ]
     },
     "execution_count": 7,
     "metadata": {},
     "output_type": "execute_result"
    }
   ],
   "source": [
    "subs.head(10)"
   ]
  },
  {
   "cell_type": "code",
   "execution_count": 8,
   "id": "d8da2693",
   "metadata": {},
   "outputs": [
    {
     "name": "stdout",
     "output_type": "stream",
     "text": [
      "<class 'pandas.core.frame.DataFrame'>\n",
      "RangeIndex: 2 entries, 0 to 1\n",
      "Data columns (total 4 columns):\n",
      " #   Column             Non-Null Count  Dtype \n",
      "---  ------             --------------  ----- \n",
      " 0   subscription_type  2 non-null      object\n",
      " 1   minute_price       2 non-null      int64 \n",
      " 2   start_ride_price   2 non-null      int64 \n",
      " 3   subscription_fee   2 non-null      int64 \n",
      "dtypes: int64(3), object(1)\n",
      "memory usage: 192.0+ bytes\n"
     ]
    }
   ],
   "source": [
    "subs.info()"
   ]
  },
  {
   "cell_type": "markdown",
   "id": "9d64da18",
   "metadata": {},
   "source": [
    "<div class=\"alert alert-block alert-danger\">\n",
    "<h2> Комментарий ревьюера v1<a class=\"tocSkip\"></h2>\n",
    "\n",
    "<b>На доработку🤔:</b> Добавь, пожалуйста, вывод"
   ]
  },
  {
   "cell_type": "markdown",
   "id": "bea32642",
   "metadata": {},
   "source": [
    "<div class=\"alert alert-info\" style=\"border-radius: 10px; box-shadow: 2px 2px 2px; border: 1px solid; padding: 10px \"> \n",
    "У нас есть три таблицы с данными о пользователях, поездках и подписках.\n",
    "\n",
    "Все поля заполнены корректно, пропуски в данных отсутствуют, типы данных соответствуют содержимому.\n",
    "</div>"
   ]
  },
  {
   "cell_type": "markdown",
   "id": "5592f3f3",
   "metadata": {},
   "source": [
    "<div class=\"alert alert-success\">\n",
    "<h2> Комментарий ревьюера v2 <a class=\"tocSkip\"> </h2>\n",
    "\n",
    "<b>Все супер!👍:</b> Хорошо!"
   ]
  },
  {
   "cell_type": "markdown",
   "id": "e95ebca7",
   "metadata": {},
   "source": [
    "#### Шаг 2. Предобработка данных"
   ]
  },
  {
   "cell_type": "markdown",
   "id": "803d5fc9",
   "metadata": {},
   "source": [
    "Столбец date приведен к типу даты при считывании."
   ]
  },
  {
   "cell_type": "code",
   "execution_count": 9,
   "id": "af6d202c",
   "metadata": {},
   "outputs": [],
   "source": [
    "#добавим новый столбец с номером месяца\n",
    "rides['month'] = rides['date'].astype('datetime64[M]')"
   ]
  },
  {
   "cell_type": "markdown",
   "id": "f4bdbef3",
   "metadata": {},
   "source": [
    "<div class=\"alert alert-success\">\n",
    "<h2> Комментарий ревьюера v1 <a class=\"tocSkip\"> </h2>\n",
    "\n",
    "<b>Все супер!👍:</b> Дата приведена к дате верно"
   ]
  },
  {
   "cell_type": "code",
   "execution_count": 10,
   "id": "948acf58",
   "metadata": {},
   "outputs": [
    {
     "data": {
      "text/plain": [
       "user_id              0\n",
       "name                 0\n",
       "age                  0\n",
       "city                 0\n",
       "subscription_type    0\n",
       "dtype: int64"
      ]
     },
     "execution_count": 10,
     "metadata": {},
     "output_type": "execute_result"
    }
   ],
   "source": [
    "#проверим наличие пропусков в данных\n",
    "users.isna().sum()"
   ]
  },
  {
   "cell_type": "code",
   "execution_count": 11,
   "id": "24d04273",
   "metadata": {},
   "outputs": [
    {
     "data": {
      "text/plain": [
       "user_id     0\n",
       "distance    0\n",
       "duration    0\n",
       "date        0\n",
       "month       0\n",
       "dtype: int64"
      ]
     },
     "execution_count": 11,
     "metadata": {},
     "output_type": "execute_result"
    }
   ],
   "source": [
    "rides.isna().sum()"
   ]
  },
  {
   "cell_type": "code",
   "execution_count": 12,
   "id": "4a32dc5e",
   "metadata": {},
   "outputs": [
    {
     "data": {
      "text/plain": [
       "subscription_type    0\n",
       "minute_price         0\n",
       "start_ride_price     0\n",
       "subscription_fee     0\n",
       "dtype: int64"
      ]
     },
     "execution_count": 12,
     "metadata": {},
     "output_type": "execute_result"
    }
   ],
   "source": [
    "subs.isna().sum()"
   ]
  },
  {
   "cell_type": "markdown",
   "id": "295dbad7",
   "metadata": {},
   "source": [
    "Пропуски в данных отсутствуют."
   ]
  },
  {
   "cell_type": "code",
   "execution_count": 13,
   "id": "876f8f59",
   "metadata": {},
   "outputs": [
    {
     "data": {
      "text/plain": [
       "31"
      ]
     },
     "execution_count": 13,
     "metadata": {},
     "output_type": "execute_result"
    }
   ],
   "source": [
    "#проверим наличие явных дубликатов в данных\n",
    "users.duplicated().sum()"
   ]
  },
  {
   "cell_type": "code",
   "execution_count": 14,
   "id": "44d332fd",
   "metadata": {},
   "outputs": [
    {
     "data": {
      "text/plain": [
       "0"
      ]
     },
     "execution_count": 14,
     "metadata": {},
     "output_type": "execute_result"
    }
   ],
   "source": [
    "rides.duplicated().sum()"
   ]
  },
  {
   "cell_type": "code",
   "execution_count": 15,
   "id": "59befa21",
   "metadata": {},
   "outputs": [
    {
     "data": {
      "text/plain": [
       "0"
      ]
     },
     "execution_count": 15,
     "metadata": {},
     "output_type": "execute_result"
    }
   ],
   "source": [
    "subs.duplicated().sum()"
   ]
  },
  {
   "cell_type": "markdown",
   "id": "2ca9ad13",
   "metadata": {},
   "source": [
    "В таблице users обнаружен 31 дубликат."
   ]
  },
  {
   "cell_type": "code",
   "execution_count": 16,
   "id": "6ba497c1",
   "metadata": {},
   "outputs": [],
   "source": [
    "#Устраним дубликаты в таблице users\n",
    "users = users.drop_duplicates()"
   ]
  },
  {
   "cell_type": "code",
   "execution_count": 17,
   "id": "51105e99",
   "metadata": {},
   "outputs": [
    {
     "data": {
      "text/plain": [
       "0"
      ]
     },
     "execution_count": 17,
     "metadata": {},
     "output_type": "execute_result"
    }
   ],
   "source": [
    "users.duplicated().sum()"
   ]
  },
  {
   "cell_type": "markdown",
   "id": "cd8b4412",
   "metadata": {},
   "source": [
    "<div class=\"alert alert-success\">\n",
    "<h2> Комментарий ревьюера v1 <a class=\"tocSkip\"> </h2>\n",
    "\n",
    "<b>Все супер!👍:</b> Верное решение по дублям"
   ]
  },
  {
   "cell_type": "markdown",
   "id": "8f63d987",
   "metadata": {},
   "source": [
    "Явных дубликатов не обнаружено."
   ]
  },
  {
   "cell_type": "code",
   "execution_count": 18,
   "id": "b5b07717",
   "metadata": {},
   "outputs": [
    {
     "data": {
      "text/plain": [
       "array(['Кира', 'Станислав', 'Алексей', 'Константин', 'Адель', 'Регина',\n",
       "       'Игорь', 'Юрий', 'Ян', 'Валерий', 'Агата', 'Марк', 'Ева',\n",
       "       'Антонина', 'Валерия', 'Амалия', 'Даниил', 'Аделина', 'Святогор',\n",
       "       'Борис', 'Вероника', 'Ростислав', 'Назар', 'Эдуард', 'Василий',\n",
       "       'Денис', 'Тамара', 'Николай', 'Эвелина', 'Федор', 'Руслан', 'Иван',\n",
       "       'Любовь', 'Ярослава', 'Майя', 'Ильдар', 'Данила', 'Нина',\n",
       "       'Стефания', 'Ясмина', 'Дмитрий', 'Александр', 'Одиссей', 'Арсений',\n",
       "       'Алла', 'Таисия', 'Максим', 'Юлиана', 'Павел', 'Карина', 'Алиса',\n",
       "       'Лидия', 'Рамиль', 'Родион', 'Ника', 'Оксана', 'Анастасия',\n",
       "       'Маргарита', 'Вера', 'Тимур', 'Никита', 'Лев', 'Влад', 'Артур',\n",
       "       'Анна', 'Ольга', 'Вячеслав', 'Ксения', 'Виталина', 'Владислав',\n",
       "       'Тамерлан', 'Амина', 'Вадим', 'Олеся', 'Зарина', 'Егор', 'Гордей',\n",
       "       'Лилия', 'Святослав', 'Роберт', 'Амир', 'Влада', 'Богдан',\n",
       "       'Полина', 'Марат', 'Елисей', 'Макар', 'Алина', 'Глеб', 'Андрей',\n",
       "       'Альбина', 'Людмила', 'Марсель', 'Милена', 'Диана', 'Дарина',\n",
       "       'Данил', 'Артемий', 'Лиана', 'Альберт', 'Герман', 'Жанна', 'Нелли',\n",
       "       'Евгения', 'Ариана', 'Самира', 'Захар', 'Эльвира', 'Екатерина',\n",
       "       'Инна', 'Демид', 'Яна', 'Михаил', 'Татьяна', 'Степан', 'Мелания',\n",
       "       'Тимофей', 'Ирина', 'Анжелика', 'Владислава', 'Елизавета',\n",
       "       'Мадина', 'Снежана', 'Даниэль', 'Рустам', 'Каролина', 'Ангелина',\n",
       "       'Владимир', 'Виктория', 'Валентина', 'Семен', 'Арина', 'Лариса',\n",
       "       'Есения', 'Галина', 'Кирилл', 'Игнат', 'Виталий', 'Эмилия',\n",
       "       'Виолетта', 'Яромир', 'Софья', 'Мирослава', 'Евгений', 'Варвара',\n",
       "       'Платон', 'Наталия', 'Анатолий', 'Кристина', 'Всеволод', 'Дарья',\n",
       "       'Наташа', 'Мария', 'Марина', 'Василиса', 'Юлия', 'Илья', 'Злата',\n",
       "       'Роман', 'Наталья', 'Элина', 'Арсен', 'Айдар', 'Алия', 'Виктор',\n",
       "       'Мирон', 'Ульяна', 'Георгий', 'Петр', 'Эльмира', 'Олег', 'Дамир',\n",
       "       'Самир', 'Ярослав', 'Камилла', 'Сергей', 'Эмиль', 'Радмир',\n",
       "       'Савелий', 'Елена', 'Антон', 'Мирослав', 'София', 'Тихон', 'Артём',\n",
       "       'Давид', 'Григорий', 'Алёна', 'Светлана', 'Леонид', 'Александра',\n",
       "       'Василина', 'Милана', 'Матвей'], dtype=object)"
      ]
     },
     "execution_count": 18,
     "metadata": {},
     "output_type": "execute_result"
    }
   ],
   "source": [
    "#Проверим наличие неявных дубликатов в данных\n",
    "users['name'].unique()"
   ]
  },
  {
   "cell_type": "code",
   "execution_count": 19,
   "id": "da5d47cc",
   "metadata": {},
   "outputs": [
    {
     "data": {
      "text/plain": [
       "array(['Тюмень', 'Омск', 'Москва', 'Ростов-на-Дону', 'Краснодар',\n",
       "       'Пятигорск', 'Екатеринбург', 'Сочи'], dtype=object)"
      ]
     },
     "execution_count": 19,
     "metadata": {},
     "output_type": "execute_result"
    }
   ],
   "source": [
    "users['city'].unique()"
   ]
  },
  {
   "cell_type": "markdown",
   "id": "5ba9642d",
   "metadata": {},
   "source": [
    "Неявных дубликатов не найдено."
   ]
  },
  {
   "cell_type": "markdown",
   "id": "212593c7",
   "metadata": {},
   "source": [
    "#### Шаг 3. Исследовательский анализ данных"
   ]
  },
  {
   "cell_type": "code",
   "execution_count": 20,
   "id": "e3a4274c",
   "metadata": {},
   "outputs": [
    {
     "data": {
      "text/html": [
       "<div>\n",
       "<style scoped>\n",
       "    .dataframe tbody tr th:only-of-type {\n",
       "        vertical-align: middle;\n",
       "    }\n",
       "\n",
       "    .dataframe tbody tr th {\n",
       "        vertical-align: top;\n",
       "    }\n",
       "\n",
       "    .dataframe thead th {\n",
       "        text-align: right;\n",
       "    }\n",
       "</style>\n",
       "<table border=\"1\" class=\"dataframe\">\n",
       "  <thead>\n",
       "    <tr style=\"text-align: right;\">\n",
       "      <th></th>\n",
       "      <th>Город</th>\n",
       "      <th>Количество пользователей</th>\n",
       "    </tr>\n",
       "  </thead>\n",
       "  <tbody>\n",
       "    <tr>\n",
       "      <th>4</th>\n",
       "      <td>Пятигорск</td>\n",
       "      <td>219</td>\n",
       "    </tr>\n",
       "    <tr>\n",
       "      <th>0</th>\n",
       "      <td>Екатеринбург</td>\n",
       "      <td>204</td>\n",
       "    </tr>\n",
       "    <tr>\n",
       "      <th>5</th>\n",
       "      <td>Ростов-на-Дону</td>\n",
       "      <td>198</td>\n",
       "    </tr>\n",
       "    <tr>\n",
       "      <th>1</th>\n",
       "      <td>Краснодар</td>\n",
       "      <td>193</td>\n",
       "    </tr>\n",
       "    <tr>\n",
       "      <th>6</th>\n",
       "      <td>Сочи</td>\n",
       "      <td>189</td>\n",
       "    </tr>\n",
       "    <tr>\n",
       "      <th>3</th>\n",
       "      <td>Омск</td>\n",
       "      <td>183</td>\n",
       "    </tr>\n",
       "    <tr>\n",
       "      <th>7</th>\n",
       "      <td>Тюмень</td>\n",
       "      <td>180</td>\n",
       "    </tr>\n",
       "    <tr>\n",
       "      <th>2</th>\n",
       "      <td>Москва</td>\n",
       "      <td>168</td>\n",
       "    </tr>\n",
       "  </tbody>\n",
       "</table>\n",
       "</div>"
      ],
      "text/plain": [
       "            Город  Количество пользователей\n",
       "4       Пятигорск                       219\n",
       "0    Екатеринбург                       204\n",
       "5  Ростов-на-Дону                       198\n",
       "1       Краснодар                       193\n",
       "6            Сочи                       189\n",
       "3            Омск                       183\n",
       "7          Тюмень                       180\n",
       "2          Москва                       168"
      ]
     },
     "execution_count": 20,
     "metadata": {},
     "output_type": "execute_result"
    }
   ],
   "source": [
    "#проанализируем частоту встречаемости городов\n",
    "users_gr = users.groupby('city')['user_id'].count()\n",
    "users_gr.reset_index().sort_values(by='user_id', ascending=False).rename(columns={'city':'Город', 'user_id':'Количество пользователей'})"
   ]
  },
  {
   "cell_type": "code",
   "execution_count": 21,
   "id": "cf51d205",
   "metadata": {},
   "outputs": [
    {
     "data": {
      "image/png": "[encoded data removed]",
      "text/plain": [
       "<Figure size 432x288 with 1 Axes>"
      ]
     },
     "metadata": {
      "needs_background": "light"
     },
     "output_type": "display_data"
    }
   ],
   "source": [
    "users_gr.sort_values().plot(kind='barh', title='Частота встречаемости городов')\n",
    "plot.xlabel('Количество пользователей')\n",
    "plot.ylabel('Город')\n",
    "for i, v in enumerate(users_gr.sort_values()):\n",
    "    plot.text(v+3, i, str(v), color='black', fontweight='bold', verticalalignment = 'center')"
   ]
  },
  {
   "cell_type": "markdown",
   "id": "153231d1",
   "metadata": {},
   "source": [
    "<div class=\"alert alert-block alert-danger\">\n",
    "<h2> Комментарий ревьюера v1<a class=\"tocSkip\"></h2>\n",
    "\n",
    "<b>На доработку🤔:</b>  Выбран неудачный тип визуализации - здесь больше подходит столбчатая диаграмма. Вместо процентов млучше вывести количественные значения"
   ]
  },
  {
   "cell_type": "markdown",
   "id": "7a69d3f9",
   "metadata": {},
   "source": [
    "<div class=\"alert alert-info\" style=\"border-radius: 10px; box-shadow: 2px 2px 2px; border: 1px solid; padding: 10px \"> \n",
    "Использовала столбчатую диаграмму.\n",
    "</div>"
   ]
  },
  {
   "cell_type": "markdown",
   "id": "7185a6af",
   "metadata": {},
   "source": [
    "<div class=\"alert alert-block alert-danger\">\n",
    "<h2> Комментарий ревьюера v2 <a class=\"tocSkip\"></h2>\n",
    "   \n",
    "<b>На доработку🤔:</b> Отлично! Выведди еще, пожалуйста, количественные значения у каждого из городов. Также подписи обе оси и добавь заголовок"
   ]
  },
  {
   "cell_type": "markdown",
   "id": "71e2fd2c",
   "metadata": {},
   "source": [
    "<div class=\"alert alert-info\" style=\"border-radius: 10px; box-shadow: 2px 2px 2px; border: 1px solid; padding: 10px \"> \n",
    "Вывела количественные значения и подписала оси.\n",
    "</div>"
   ]
  },
  {
   "cell_type": "markdown",
   "id": "bf38f652",
   "metadata": {},
   "source": [
    "<div class=\"alert alert-success\">\n",
    "<h2> Комментарий ревьюера v3 <a class=\"tocSkip\"> </h2>\n",
    "\n",
    "<b>Все супер!👍:</b> Отлично!"
   ]
  },
  {
   "cell_type": "markdown",
   "id": "c87653a5",
   "metadata": {},
   "source": [
    "Наиболее часто самокатами пользуются в Пятигорске (219 пользователей), реже всего - в Москве (168 пользователей). В среднем распределение пользователей по городам достаточно равномерное."
   ]
  },
  {
   "cell_type": "code",
   "execution_count": 22,
   "id": "1eb026e6",
   "metadata": {},
   "outputs": [
    {
     "data": {
      "text/html": [
       "<div>\n",
       "<style scoped>\n",
       "    .dataframe tbody tr th:only-of-type {\n",
       "        vertical-align: middle;\n",
       "    }\n",
       "\n",
       "    .dataframe tbody tr th {\n",
       "        vertical-align: top;\n",
       "    }\n",
       "\n",
       "    .dataframe thead th {\n",
       "        text-align: right;\n",
       "    }\n",
       "</style>\n",
       "<table border=\"1\" class=\"dataframe\">\n",
       "  <thead>\n",
       "    <tr style=\"text-align: right;\">\n",
       "      <th></th>\n",
       "      <th>Тип подписки</th>\n",
       "      <th>Количество пользователей</th>\n",
       "    </tr>\n",
       "  </thead>\n",
       "  <tbody>\n",
       "    <tr>\n",
       "      <th>0</th>\n",
       "      <td>free</td>\n",
       "      <td>835</td>\n",
       "    </tr>\n",
       "    <tr>\n",
       "      <th>1</th>\n",
       "      <td>ultra</td>\n",
       "      <td>699</td>\n",
       "    </tr>\n",
       "  </tbody>\n",
       "</table>\n",
       "</div>"
      ],
      "text/plain": [
       "  Тип подписки  Количество пользователей\n",
       "0         free                       835\n",
       "1        ultra                       699"
      ]
     },
     "execution_count": 22,
     "metadata": {},
     "output_type": "execute_result"
    }
   ],
   "source": [
    "#соотношение пользователей с подпиской и без подписки\n",
    "users_gr2 = users.groupby('subscription_type')['user_id'].count()\n",
    "users_gr2.reset_index().sort_values(by='user_id', ascending=False).rename(columns={'subscription_type':'Тип подписки', 'user_id':'Количество пользователей'})"
   ]
  },
  {
   "cell_type": "code",
   "execution_count": 23,
   "id": "f88fea55",
   "metadata": {},
   "outputs": [
    {
     "data": {
      "image/png": "[encoded data removed]",
      "text/plain": [
       "<Figure size 432x288 with 1 Axes>"
      ]
     },
     "metadata": {},
     "output_type": "display_data"
    }
   ],
   "source": [
    "users_gr2.plot(kind='pie', autopct='%1.0f%%', title='Тип подписки');"
   ]
  },
  {
   "cell_type": "markdown",
   "id": "d0c6a5e1",
   "metadata": {},
   "source": [
    "<div class=\"alert alert-success\">\n",
    "<h2> Комментарий ревьюера v1 <a class=\"tocSkip\"> </h2>\n",
    "\n",
    "<b>Все супер!👍:</b> Топ, отлично!"
   ]
  },
  {
   "cell_type": "markdown",
   "id": "b1e409d5",
   "metadata": {},
   "source": [
    "Большая часть пользователей (54%) не имеет подписки."
   ]
  },
  {
   "cell_type": "code",
   "execution_count": 24,
   "id": "012c5517",
   "metadata": {},
   "outputs": [
    {
     "data": {
      "image/png": "[encoded data removed]",
      "text/plain": [
       "<Figure size 432x288 with 1 Axes>"
      ]
     },
     "metadata": {
      "needs_background": "light"
     },
     "output_type": "display_data"
    }
   ],
   "source": [
    "#возраст пользователей\n",
    "users.hist('age', bins=30)\n",
    "plot.title('Возраст пользователей')\n",
    "plot.xlabel(\"лет\");"
   ]
  },
  {
   "cell_type": "markdown",
   "id": "ed6dae26",
   "metadata": {},
   "source": [
    "Наибольшей части пользователей приложения в районе 25 лет. Люди старше 35 лет практически не пользуются сервисом."
   ]
  },
  {
   "cell_type": "code",
   "execution_count": 25,
   "id": "5abf4999",
   "metadata": {
    "scrolled": true
   },
   "outputs": [
    {
     "data": {
      "image/png": "[encoded data removed]",
      "text/plain": [
       "<Figure size 432x288 with 1 Axes>"
      ]
     },
     "metadata": {
      "needs_background": "light"
     },
     "output_type": "display_data"
    }
   ],
   "source": [
    "#расстояние, которое пользователь преодолел за одну поездку\n",
    "rides.hist('distance', bins=30)\n",
    "plot.title('Расстояние')\n",
    "plot.xlabel(\"м.\");"
   ]
  },
  {
   "cell_type": "markdown",
   "id": "cfff67fa",
   "metadata": {},
   "source": [
    "Большинство пользователей преодолевают расстояние около 3 км. за одну поездку. С увеличением расстояния количество пользователей снижается, пользователи практически не ездят больше 6 км. С уменьшением расстояния количество пользователей также снижается, но есть значимая доля любителей коротких поездок до 1 км."
   ]
  },
  {
   "cell_type": "code",
   "execution_count": 26,
   "id": "4b8142a4",
   "metadata": {},
   "outputs": [
    {
     "data": {
      "image/png": "[encoded data removed]",
      "text/plain": [
       "<Figure size 432x288 with 1 Axes>"
      ]
     },
     "metadata": {
      "needs_background": "light"
     },
     "output_type": "display_data"
    }
   ],
   "source": [
    "#продолжительность поездок\n",
    "rides.hist('duration', bins=30)\n",
    "plot.title('Продолжительность поездки')\n",
    "plot.xlabel(\"мин.\");"
   ]
  },
  {
   "cell_type": "markdown",
   "id": "88182cdd",
   "metadata": {},
   "source": [
    "У большинства пользователей поездка занимает 15-20 минут. С увеличением или уменьшением времени поездки количество пользователей снижается."
   ]
  },
  {
   "cell_type": "markdown",
   "id": "1e56ee41",
   "metadata": {},
   "source": [
    "<div class=\"alert alert-success\">\n",
    "<h2> Комментарий ревьюера v1 <a class=\"tocSkip\"> </h2>\n",
    "\n",
    "<b>Все супер!👍:</b> Отличная работа! Возвраст, продолжительность, расстоние проанализивоаны верно"
   ]
  },
  {
   "cell_type": "markdown",
   "id": "4ef51331",
   "metadata": {},
   "source": [
    "#### Шаг 4. Объединение данных"
   ]
  },
  {
   "cell_type": "code",
   "execution_count": 27,
   "id": "6bf288b5",
   "metadata": {},
   "outputs": [
    {
     "data": {
      "text/html": [
       "<div>\n",
       "<style scoped>\n",
       "    .dataframe tbody tr th:only-of-type {\n",
       "        vertical-align: middle;\n",
       "    }\n",
       "\n",
       "    .dataframe tbody tr th {\n",
       "        vertical-align: top;\n",
       "    }\n",
       "\n",
       "    .dataframe thead th {\n",
       "        text-align: right;\n",
       "    }\n",
       "</style>\n",
       "<table border=\"1\" class=\"dataframe\">\n",
       "  <thead>\n",
       "    <tr style=\"text-align: right;\">\n",
       "      <th></th>\n",
       "      <th>user_id</th>\n",
       "      <th>distance</th>\n",
       "      <th>duration</th>\n",
       "      <th>date</th>\n",
       "      <th>month</th>\n",
       "      <th>name</th>\n",
       "      <th>age</th>\n",
       "      <th>city</th>\n",
       "      <th>subscription_type</th>\n",
       "      <th>minute_price</th>\n",
       "      <th>start_ride_price</th>\n",
       "      <th>subscription_fee</th>\n",
       "    </tr>\n",
       "  </thead>\n",
       "  <tbody>\n",
       "    <tr>\n",
       "      <th>0</th>\n",
       "      <td>700</td>\n",
       "      <td>2515.690719</td>\n",
       "      <td>14.944286</td>\n",
       "      <td>2021-01-02</td>\n",
       "      <td>2021-01-01</td>\n",
       "      <td>Айдар</td>\n",
       "      <td>22</td>\n",
       "      <td>Омск</td>\n",
       "      <td>free</td>\n",
       "      <td>8</td>\n",
       "      <td>50</td>\n",
       "      <td>0</td>\n",
       "    </tr>\n",
       "    <tr>\n",
       "      <th>1</th>\n",
       "      <td>700</td>\n",
       "      <td>846.932642</td>\n",
       "      <td>16.234663</td>\n",
       "      <td>2021-02-01</td>\n",
       "      <td>2021-02-01</td>\n",
       "      <td>Айдар</td>\n",
       "      <td>22</td>\n",
       "      <td>Омск</td>\n",
       "      <td>free</td>\n",
       "      <td>8</td>\n",
       "      <td>50</td>\n",
       "      <td>0</td>\n",
       "    </tr>\n",
       "    <tr>\n",
       "      <th>2</th>\n",
       "      <td>700</td>\n",
       "      <td>4004.434142</td>\n",
       "      <td>20.016628</td>\n",
       "      <td>2021-02-04</td>\n",
       "      <td>2021-02-01</td>\n",
       "      <td>Айдар</td>\n",
       "      <td>22</td>\n",
       "      <td>Омск</td>\n",
       "      <td>free</td>\n",
       "      <td>8</td>\n",
       "      <td>50</td>\n",
       "      <td>0</td>\n",
       "    </tr>\n",
       "    <tr>\n",
       "      <th>3</th>\n",
       "      <td>700</td>\n",
       "      <td>1205.911290</td>\n",
       "      <td>9.782872</td>\n",
       "      <td>2021-02-10</td>\n",
       "      <td>2021-02-01</td>\n",
       "      <td>Айдар</td>\n",
       "      <td>22</td>\n",
       "      <td>Омск</td>\n",
       "      <td>free</td>\n",
       "      <td>8</td>\n",
       "      <td>50</td>\n",
       "      <td>0</td>\n",
       "    </tr>\n",
       "    <tr>\n",
       "      <th>4</th>\n",
       "      <td>700</td>\n",
       "      <td>3047.379435</td>\n",
       "      <td>17.427673</td>\n",
       "      <td>2021-02-14</td>\n",
       "      <td>2021-02-01</td>\n",
       "      <td>Айдар</td>\n",
       "      <td>22</td>\n",
       "      <td>Омск</td>\n",
       "      <td>free</td>\n",
       "      <td>8</td>\n",
       "      <td>50</td>\n",
       "      <td>0</td>\n",
       "    </tr>\n",
       "    <tr>\n",
       "      <th>...</th>\n",
       "      <td>...</td>\n",
       "      <td>...</td>\n",
       "      <td>...</td>\n",
       "      <td>...</td>\n",
       "      <td>...</td>\n",
       "      <td>...</td>\n",
       "      <td>...</td>\n",
       "      <td>...</td>\n",
       "      <td>...</td>\n",
       "      <td>...</td>\n",
       "      <td>...</td>\n",
       "      <td>...</td>\n",
       "    </tr>\n",
       "    <tr>\n",
       "      <th>18063</th>\n",
       "      <td>699</td>\n",
       "      <td>3973.046497</td>\n",
       "      <td>24.671163</td>\n",
       "      <td>2021-08-29</td>\n",
       "      <td>2021-08-01</td>\n",
       "      <td>Оксана</td>\n",
       "      <td>22</td>\n",
       "      <td>Москва</td>\n",
       "      <td>ultra</td>\n",
       "      <td>6</td>\n",
       "      <td>0</td>\n",
       "      <td>199</td>\n",
       "    </tr>\n",
       "    <tr>\n",
       "      <th>18064</th>\n",
       "      <td>699</td>\n",
       "      <td>3288.702563</td>\n",
       "      <td>15.892886</td>\n",
       "      <td>2021-09-12</td>\n",
       "      <td>2021-09-01</td>\n",
       "      <td>Оксана</td>\n",
       "      <td>22</td>\n",
       "      <td>Москва</td>\n",
       "      <td>ultra</td>\n",
       "      <td>6</td>\n",
       "      <td>0</td>\n",
       "      <td>199</td>\n",
       "    </tr>\n",
       "    <tr>\n",
       "      <th>18065</th>\n",
       "      <td>699</td>\n",
       "      <td>3076.159348</td>\n",
       "      <td>14.389525</td>\n",
       "      <td>2021-09-26</td>\n",
       "      <td>2021-09-01</td>\n",
       "      <td>Оксана</td>\n",
       "      <td>22</td>\n",
       "      <td>Москва</td>\n",
       "      <td>ultra</td>\n",
       "      <td>6</td>\n",
       "      <td>0</td>\n",
       "      <td>199</td>\n",
       "    </tr>\n",
       "    <tr>\n",
       "      <th>18066</th>\n",
       "      <td>699</td>\n",
       "      <td>4707.845501</td>\n",
       "      <td>15.839579</td>\n",
       "      <td>2021-10-17</td>\n",
       "      <td>2021-10-01</td>\n",
       "      <td>Оксана</td>\n",
       "      <td>22</td>\n",
       "      <td>Москва</td>\n",
       "      <td>ultra</td>\n",
       "      <td>6</td>\n",
       "      <td>0</td>\n",
       "      <td>199</td>\n",
       "    </tr>\n",
       "    <tr>\n",
       "      <th>18067</th>\n",
       "      <td>699</td>\n",
       "      <td>3202.890770</td>\n",
       "      <td>25.217345</td>\n",
       "      <td>2021-12-03</td>\n",
       "      <td>2021-12-01</td>\n",
       "      <td>Оксана</td>\n",
       "      <td>22</td>\n",
       "      <td>Москва</td>\n",
       "      <td>ultra</td>\n",
       "      <td>6</td>\n",
       "      <td>0</td>\n",
       "      <td>199</td>\n",
       "    </tr>\n",
       "  </tbody>\n",
       "</table>\n",
       "<p>18068 rows × 12 columns</p>\n",
       "</div>"
      ],
      "text/plain": [
       "       user_id     distance   duration       date      month    name  age  \\\n",
       "0          700  2515.690719  14.944286 2021-01-02 2021-01-01   Айдар   22   \n",
       "1          700   846.932642  16.234663 2021-02-01 2021-02-01   Айдар   22   \n",
       "2          700  4004.434142  20.016628 2021-02-04 2021-02-01   Айдар   22   \n",
       "3          700  1205.911290   9.782872 2021-02-10 2021-02-01   Айдар   22   \n",
       "4          700  3047.379435  17.427673 2021-02-14 2021-02-01   Айдар   22   \n",
       "...        ...          ...        ...        ...        ...     ...  ...   \n",
       "18063      699  3973.046497  24.671163 2021-08-29 2021-08-01  Оксана   22   \n",
       "18064      699  3288.702563  15.892886 2021-09-12 2021-09-01  Оксана   22   \n",
       "18065      699  3076.159348  14.389525 2021-09-26 2021-09-01  Оксана   22   \n",
       "18066      699  4707.845501  15.839579 2021-10-17 2021-10-01  Оксана   22   \n",
       "18067      699  3202.890770  25.217345 2021-12-03 2021-12-01  Оксана   22   \n",
       "\n",
       "         city subscription_type  minute_price  start_ride_price  \\\n",
       "0        Омск              free             8                50   \n",
       "1        Омск              free             8                50   \n",
       "2        Омск              free             8                50   \n",
       "3        Омск              free             8                50   \n",
       "4        Омск              free             8                50   \n",
       "...       ...               ...           ...               ...   \n",
       "18063  Москва             ultra             6                 0   \n",
       "18064  Москва             ultra             6                 0   \n",
       "18065  Москва             ultra             6                 0   \n",
       "18066  Москва             ultra             6                 0   \n",
       "18067  Москва             ultra             6                 0   \n",
       "\n",
       "       subscription_fee  \n",
       "0                     0  \n",
       "1                     0  \n",
       "2                     0  \n",
       "3                     0  \n",
       "4                     0  \n",
       "...                 ...  \n",
       "18063               199  \n",
       "18064               199  \n",
       "18065               199  \n",
       "18066               199  \n",
       "18067               199  \n",
       "\n",
       "[18068 rows x 12 columns]"
      ]
     },
     "execution_count": 27,
     "metadata": {},
     "output_type": "execute_result"
    }
   ],
   "source": [
    "#Объединим данные о пользователях, поездках и подписках в один датафрейм\n",
    "df_agg = rides.merge(users, on='user_id', how='right').merge(subs, on='subscription_type', how='right')\n",
    "df_agg"
   ]
  },
  {
   "cell_type": "code",
   "execution_count": 28,
   "id": "4a15f623",
   "metadata": {},
   "outputs": [
    {
     "data": {
      "text/plain": [
       "18068"
      ]
     },
     "execution_count": 28,
     "metadata": {},
     "output_type": "execute_result"
    }
   ],
   "source": [
    "rides.shape[0]"
   ]
  },
  {
   "cell_type": "markdown",
   "id": "27a9512f",
   "metadata": {},
   "source": [
    "Размер оргинального датафрейма равен размеру датафрейма с данными о поездках."
   ]
  },
  {
   "cell_type": "code",
   "execution_count": 29,
   "id": "09dbcf99",
   "metadata": {},
   "outputs": [],
   "source": [
    "#Создадим ещё два датафрейма:\n",
    "#c данными о пользователях без подписки;\n",
    "#с данными о пользователях с подпиской\n",
    "df_ultra = df_agg[df_agg['subscription_type']=='ultra']\n",
    "df_free = df_agg[df_agg['subscription_type']=='free']"
   ]
  },
  {
   "cell_type": "code",
   "execution_count": 30,
   "id": "5f2a022e",
   "metadata": {},
   "outputs": [
    {
     "data": {
      "image/png": "[encoded data removed]",
      "text/plain": [
       "<Figure size 432x288 with 1 Axes>"
      ]
     },
     "metadata": {
      "needs_background": "light"
     },
     "output_type": "display_data"
    }
   ],
   "source": [
    "#расстояние, которое пользователь с подпиской преодолел за одну поездку\n",
    "df_ultra.hist('distance', bins=30)\n",
    "plot.title('Расстояние')\n",
    "plot.xlabel(\"м.\");"
   ]
  },
  {
   "cell_type": "code",
   "execution_count": 31,
   "id": "e31beaaf",
   "metadata": {
    "scrolled": false
   },
   "outputs": [
    {
     "data": {
      "image/png": "[encoded data removed]",
      "text/plain": [
       "<Figure size 432x288 with 1 Axes>"
      ]
     },
     "metadata": {
      "needs_background": "light"
     },
     "output_type": "display_data"
    }
   ],
   "source": [
    "#расстояние, которое пользователь без подписки преодолел за одну поездку\n",
    "df_free.hist('distance', bins=30)\n",
    "plot.title('Расстояние')\n",
    "plot.xlabel(\"м.\");"
   ]
  },
  {
   "cell_type": "markdown",
   "id": "0f6c1a55",
   "metadata": {},
   "source": [
    "<div class=\"alert alert-warning\">\n",
    "    <h2> Комментарий ревьюера v1<a class=\"tocSkip\"> </h2>\n",
    "    \n",
    "<b>Небольшие замечания и рекомендации💡:</b> Попробуй совместить два графика на один - сразу будет понятно, в че группы сходятся и расходятся"
   ]
  },
  {
   "cell_type": "markdown",
   "id": "46d20225",
   "metadata": {},
   "source": [
    "<div class=\"alert alert-info\" style=\"border-radius: 10px; box-shadow: 2px 2px 2px; border: 1px solid; padding: 10px \"> \n",
    "Совместим два графика\n",
    "</div>"
   ]
  },
  {
   "cell_type": "markdown",
   "id": "681a0c79",
   "metadata": {},
   "source": [
    "<div class=\"alert alert-success\">\n",
    "<h2> Комментарий ревьюера v2 <a class=\"tocSkip\"> </h2>\n",
    "\n",
    "<b>Все супер!👍:</b> Отлично!"
   ]
  },
  {
   "cell_type": "code",
   "execution_count": 32,
   "id": "326ca6b8",
   "metadata": {},
   "outputs": [
    {
     "data": {
      "image/png": "[encoded data removed]",
      "text/plain": [
       "<Figure size 432x288 with 1 Axes>"
      ]
     },
     "metadata": {
      "needs_background": "light"
     },
     "output_type": "display_data"
    }
   ],
   "source": [
    "plot.hist(df_free['distance'], alpha=0.5, label='Пользователи без подписки', bins=30)\n",
    "plot.hist(df_ultra['distance'], alpha=0.5, label='Пользователи с подпиской', bins=30)\n",
    "plot.legend()\n",
    "plot.title('Расстояние')\n",
    "plot.xlabel(\"м.\");"
   ]
  },
  {
   "cell_type": "markdown",
   "id": "b4e061e0",
   "metadata": {},
   "source": [
    "Пользователи с подпиской в основном преодолевают расстояния до 5 км, чаще всего 3 км. У пользователей без подписки разброс расстояний больше, чаще всего это расстояние 2-4 км, также они преодолевают более дальние дистанции, чем пользователи с подпиской, до 6 км.\n",
    "\n",
    "Помимо этого, пользователи без подписки чаще выполняют поездки на короткие расстояния до 1 км. "
   ]
  },
  {
   "cell_type": "code",
   "execution_count": 33,
   "id": "a2830f55",
   "metadata": {},
   "outputs": [
    {
     "data": {
      "image/png": "[encoded data removed]",
      "text/plain": [
       "<Figure size 432x288 with 1 Axes>"
      ]
     },
     "metadata": {
      "needs_background": "light"
     },
     "output_type": "display_data"
    }
   ],
   "source": [
    "#продолжительность поездок с подпиской\n",
    "df_ultra.hist('duration', bins=30)\n",
    "plot.title('Продолжительность поездки')\n",
    "plot.xlabel(\"мин.\");"
   ]
  },
  {
   "cell_type": "code",
   "execution_count": 34,
   "id": "f7074c06",
   "metadata": {
    "scrolled": true
   },
   "outputs": [
    {
     "data": {
      "image/png": "[encoded data removed]",
      "text/plain": [
       "<Figure size 432x288 with 1 Axes>"
      ]
     },
     "metadata": {
      "needs_background": "light"
     },
     "output_type": "display_data"
    }
   ],
   "source": [
    "#продолжительность поездок без подписки\n",
    "df_free.hist('duration', bins=30)\n",
    "plot.title('Продолжительность поездки')\n",
    "plot.xlabel(\"мин.\");"
   ]
  },
  {
   "cell_type": "markdown",
   "id": "3f08e00f",
   "metadata": {},
   "source": [
    "Продолжительность поездок наибольшей части пользователей как с подпиской, так и без подписки составляет 15-20 минут. Максимальная продолжительность поездок пользователей около 35 минут. "
   ]
  },
  {
   "cell_type": "markdown",
   "id": "b430fa78",
   "metadata": {},
   "source": [
    "<div class=\"alert alert-success\">\n",
    "<h2> Комментарий ревьюера v1 <a class=\"tocSkip\"> </h2>\n",
    "\n",
    "<b>Все супер!👍:</b> Объединение произведено верно! Датафреймы с пользователями созданы и проанализировано првильно"
   ]
  },
  {
   "cell_type": "markdown",
   "id": "402d620f",
   "metadata": {},
   "source": [
    "#### Шаг 5. Подсчёт выручки"
   ]
  },
  {
   "cell_type": "code",
   "execution_count": 35,
   "id": "2f0c4516",
   "metadata": {},
   "outputs": [
    {
     "data": {
      "text/html": [
       "<div>\n",
       "<style scoped>\n",
       "    .dataframe tbody tr th:only-of-type {\n",
       "        vertical-align: middle;\n",
       "    }\n",
       "\n",
       "    .dataframe tbody tr th {\n",
       "        vertical-align: top;\n",
       "    }\n",
       "\n",
       "    .dataframe thead th {\n",
       "        text-align: right;\n",
       "    }\n",
       "</style>\n",
       "<table border=\"1\" class=\"dataframe\">\n",
       "  <thead>\n",
       "    <tr style=\"text-align: right;\">\n",
       "      <th></th>\n",
       "      <th>user_id</th>\n",
       "      <th>distance</th>\n",
       "      <th>duration</th>\n",
       "      <th>date</th>\n",
       "      <th>month</th>\n",
       "      <th>name</th>\n",
       "      <th>age</th>\n",
       "      <th>city</th>\n",
       "      <th>subscription_type</th>\n",
       "      <th>minute_price</th>\n",
       "      <th>start_ride_price</th>\n",
       "      <th>subscription_fee</th>\n",
       "    </tr>\n",
       "  </thead>\n",
       "  <tbody>\n",
       "    <tr>\n",
       "      <th>0</th>\n",
       "      <td>700</td>\n",
       "      <td>2515.690719</td>\n",
       "      <td>15.0</td>\n",
       "      <td>2021-01-02</td>\n",
       "      <td>2021-01-01</td>\n",
       "      <td>Айдар</td>\n",
       "      <td>22</td>\n",
       "      <td>Омск</td>\n",
       "      <td>free</td>\n",
       "      <td>8</td>\n",
       "      <td>50</td>\n",
       "      <td>0</td>\n",
       "    </tr>\n",
       "    <tr>\n",
       "      <th>1</th>\n",
       "      <td>700</td>\n",
       "      <td>846.932642</td>\n",
       "      <td>17.0</td>\n",
       "      <td>2021-02-01</td>\n",
       "      <td>2021-02-01</td>\n",
       "      <td>Айдар</td>\n",
       "      <td>22</td>\n",
       "      <td>Омск</td>\n",
       "      <td>free</td>\n",
       "      <td>8</td>\n",
       "      <td>50</td>\n",
       "      <td>0</td>\n",
       "    </tr>\n",
       "    <tr>\n",
       "      <th>2</th>\n",
       "      <td>700</td>\n",
       "      <td>4004.434142</td>\n",
       "      <td>21.0</td>\n",
       "      <td>2021-02-04</td>\n",
       "      <td>2021-02-01</td>\n",
       "      <td>Айдар</td>\n",
       "      <td>22</td>\n",
       "      <td>Омск</td>\n",
       "      <td>free</td>\n",
       "      <td>8</td>\n",
       "      <td>50</td>\n",
       "      <td>0</td>\n",
       "    </tr>\n",
       "    <tr>\n",
       "      <th>3</th>\n",
       "      <td>700</td>\n",
       "      <td>1205.911290</td>\n",
       "      <td>10.0</td>\n",
       "      <td>2021-02-10</td>\n",
       "      <td>2021-02-01</td>\n",
       "      <td>Айдар</td>\n",
       "      <td>22</td>\n",
       "      <td>Омск</td>\n",
       "      <td>free</td>\n",
       "      <td>8</td>\n",
       "      <td>50</td>\n",
       "      <td>0</td>\n",
       "    </tr>\n",
       "    <tr>\n",
       "      <th>4</th>\n",
       "      <td>700</td>\n",
       "      <td>3047.379435</td>\n",
       "      <td>18.0</td>\n",
       "      <td>2021-02-14</td>\n",
       "      <td>2021-02-01</td>\n",
       "      <td>Айдар</td>\n",
       "      <td>22</td>\n",
       "      <td>Омск</td>\n",
       "      <td>free</td>\n",
       "      <td>8</td>\n",
       "      <td>50</td>\n",
       "      <td>0</td>\n",
       "    </tr>\n",
       "    <tr>\n",
       "      <th>...</th>\n",
       "      <td>...</td>\n",
       "      <td>...</td>\n",
       "      <td>...</td>\n",
       "      <td>...</td>\n",
       "      <td>...</td>\n",
       "      <td>...</td>\n",
       "      <td>...</td>\n",
       "      <td>...</td>\n",
       "      <td>...</td>\n",
       "      <td>...</td>\n",
       "      <td>...</td>\n",
       "      <td>...</td>\n",
       "    </tr>\n",
       "    <tr>\n",
       "      <th>18063</th>\n",
       "      <td>699</td>\n",
       "      <td>3973.046497</td>\n",
       "      <td>25.0</td>\n",
       "      <td>2021-08-29</td>\n",
       "      <td>2021-08-01</td>\n",
       "      <td>Оксана</td>\n",
       "      <td>22</td>\n",
       "      <td>Москва</td>\n",
       "      <td>ultra</td>\n",
       "      <td>6</td>\n",
       "      <td>0</td>\n",
       "      <td>199</td>\n",
       "    </tr>\n",
       "    <tr>\n",
       "      <th>18064</th>\n",
       "      <td>699</td>\n",
       "      <td>3288.702563</td>\n",
       "      <td>16.0</td>\n",
       "      <td>2021-09-12</td>\n",
       "      <td>2021-09-01</td>\n",
       "      <td>Оксана</td>\n",
       "      <td>22</td>\n",
       "      <td>Москва</td>\n",
       "      <td>ultra</td>\n",
       "      <td>6</td>\n",
       "      <td>0</td>\n",
       "      <td>199</td>\n",
       "    </tr>\n",
       "    <tr>\n",
       "      <th>18065</th>\n",
       "      <td>699</td>\n",
       "      <td>3076.159348</td>\n",
       "      <td>15.0</td>\n",
       "      <td>2021-09-26</td>\n",
       "      <td>2021-09-01</td>\n",
       "      <td>Оксана</td>\n",
       "      <td>22</td>\n",
       "      <td>Москва</td>\n",
       "      <td>ultra</td>\n",
       "      <td>6</td>\n",
       "      <td>0</td>\n",
       "      <td>199</td>\n",
       "    </tr>\n",
       "    <tr>\n",
       "      <th>18066</th>\n",
       "      <td>699</td>\n",
       "      <td>4707.845501</td>\n",
       "      <td>16.0</td>\n",
       "      <td>2021-10-17</td>\n",
       "      <td>2021-10-01</td>\n",
       "      <td>Оксана</td>\n",
       "      <td>22</td>\n",
       "      <td>Москва</td>\n",
       "      <td>ultra</td>\n",
       "      <td>6</td>\n",
       "      <td>0</td>\n",
       "      <td>199</td>\n",
       "    </tr>\n",
       "    <tr>\n",
       "      <th>18067</th>\n",
       "      <td>699</td>\n",
       "      <td>3202.890770</td>\n",
       "      <td>26.0</td>\n",
       "      <td>2021-12-03</td>\n",
       "      <td>2021-12-01</td>\n",
       "      <td>Оксана</td>\n",
       "      <td>22</td>\n",
       "      <td>Москва</td>\n",
       "      <td>ultra</td>\n",
       "      <td>6</td>\n",
       "      <td>0</td>\n",
       "      <td>199</td>\n",
       "    </tr>\n",
       "  </tbody>\n",
       "</table>\n",
       "<p>18068 rows × 12 columns</p>\n",
       "</div>"
      ],
      "text/plain": [
       "       user_id     distance  duration       date      month    name  age  \\\n",
       "0          700  2515.690719      15.0 2021-01-02 2021-01-01   Айдар   22   \n",
       "1          700   846.932642      17.0 2021-02-01 2021-02-01   Айдар   22   \n",
       "2          700  4004.434142      21.0 2021-02-04 2021-02-01   Айдар   22   \n",
       "3          700  1205.911290      10.0 2021-02-10 2021-02-01   Айдар   22   \n",
       "4          700  3047.379435      18.0 2021-02-14 2021-02-01   Айдар   22   \n",
       "...        ...          ...       ...        ...        ...     ...  ...   \n",
       "18063      699  3973.046497      25.0 2021-08-29 2021-08-01  Оксана   22   \n",
       "18064      699  3288.702563      16.0 2021-09-12 2021-09-01  Оксана   22   \n",
       "18065      699  3076.159348      15.0 2021-09-26 2021-09-01  Оксана   22   \n",
       "18066      699  4707.845501      16.0 2021-10-17 2021-10-01  Оксана   22   \n",
       "18067      699  3202.890770      26.0 2021-12-03 2021-12-01  Оксана   22   \n",
       "\n",
       "         city subscription_type  minute_price  start_ride_price  \\\n",
       "0        Омск              free             8                50   \n",
       "1        Омск              free             8                50   \n",
       "2        Омск              free             8                50   \n",
       "3        Омск              free             8                50   \n",
       "4        Омск              free             8                50   \n",
       "...       ...               ...           ...               ...   \n",
       "18063  Москва             ultra             6                 0   \n",
       "18064  Москва             ultra             6                 0   \n",
       "18065  Москва             ultra             6                 0   \n",
       "18066  Москва             ultra             6                 0   \n",
       "18067  Москва             ultra             6                 0   \n",
       "\n",
       "       subscription_fee  \n",
       "0                     0  \n",
       "1                     0  \n",
       "2                     0  \n",
       "3                     0  \n",
       "4                     0  \n",
       "...                 ...  \n",
       "18063               199  \n",
       "18064               199  \n",
       "18065               199  \n",
       "18066               199  \n",
       "18067               199  \n",
       "\n",
       "[18068 rows x 12 columns]"
      ]
     },
     "execution_count": 35,
     "metadata": {},
     "output_type": "execute_result"
    }
   ],
   "source": [
    "# каждое значение из столбца duration округляется с помощью «потолка»\n",
    "df_agg['duration'] = np.ceil(df_agg['duration']) \n",
    "df_agg"
   ]
  },
  {
   "cell_type": "markdown",
   "id": "a8880534",
   "metadata": {},
   "source": [
    "<div class=\"alert alert-success\">\n",
    "<h2> Комментарий ревьюера v1 <a class=\"tocSkip\"> </h2>\n",
    "\n",
    "<b>Все супер!👍:</b> Выбран верный метод округления"
   ]
  },
  {
   "cell_type": "code",
   "execution_count": 36,
   "id": "d071f353",
   "metadata": {},
   "outputs": [
    {
     "data": {
      "text/html": [
       "<div>\n",
       "<style scoped>\n",
       "    .dataframe tbody tr th:only-of-type {\n",
       "        vertical-align: middle;\n",
       "    }\n",
       "\n",
       "    .dataframe tbody tr th {\n",
       "        vertical-align: top;\n",
       "    }\n",
       "\n",
       "    .dataframe thead th {\n",
       "        text-align: right;\n",
       "    }\n",
       "</style>\n",
       "<table border=\"1\" class=\"dataframe\">\n",
       "  <thead>\n",
       "    <tr style=\"text-align: right;\">\n",
       "      <th></th>\n",
       "      <th>user_id</th>\n",
       "      <th>month</th>\n",
       "      <th>distance_sum</th>\n",
       "      <th>duration_sum</th>\n",
       "      <th>rides_count</th>\n",
       "      <th>subscription_type</th>\n",
       "      <th>minute_price</th>\n",
       "      <th>start_ride_price</th>\n",
       "      <th>subscription_fee</th>\n",
       "    </tr>\n",
       "  </thead>\n",
       "  <tbody>\n",
       "    <tr>\n",
       "      <th>0</th>\n",
       "      <td>1</td>\n",
       "      <td>2021-01-01</td>\n",
       "      <td>7027.511294</td>\n",
       "      <td>42.0</td>\n",
       "      <td>2</td>\n",
       "      <td>ultra</td>\n",
       "      <td>6</td>\n",
       "      <td>0</td>\n",
       "      <td>199</td>\n",
       "    </tr>\n",
       "    <tr>\n",
       "      <th>1</th>\n",
       "      <td>1</td>\n",
       "      <td>2021-04-01</td>\n",
       "      <td>754.159807</td>\n",
       "      <td>7.0</td>\n",
       "      <td>1</td>\n",
       "      <td>ultra</td>\n",
       "      <td>6</td>\n",
       "      <td>0</td>\n",
       "      <td>199</td>\n",
       "    </tr>\n",
       "    <tr>\n",
       "      <th>2</th>\n",
       "      <td>1</td>\n",
       "      <td>2021-08-01</td>\n",
       "      <td>6723.470560</td>\n",
       "      <td>46.0</td>\n",
       "      <td>2</td>\n",
       "      <td>ultra</td>\n",
       "      <td>6</td>\n",
       "      <td>0</td>\n",
       "      <td>199</td>\n",
       "    </tr>\n",
       "    <tr>\n",
       "      <th>3</th>\n",
       "      <td>1</td>\n",
       "      <td>2021-10-01</td>\n",
       "      <td>5809.911100</td>\n",
       "      <td>32.0</td>\n",
       "      <td>2</td>\n",
       "      <td>ultra</td>\n",
       "      <td>6</td>\n",
       "      <td>0</td>\n",
       "      <td>199</td>\n",
       "    </tr>\n",
       "    <tr>\n",
       "      <th>4</th>\n",
       "      <td>1</td>\n",
       "      <td>2021-11-01</td>\n",
       "      <td>7003.499363</td>\n",
       "      <td>56.0</td>\n",
       "      <td>3</td>\n",
       "      <td>ultra</td>\n",
       "      <td>6</td>\n",
       "      <td>0</td>\n",
       "      <td>199</td>\n",
       "    </tr>\n",
       "    <tr>\n",
       "      <th>...</th>\n",
       "      <td>...</td>\n",
       "      <td>...</td>\n",
       "      <td>...</td>\n",
       "      <td>...</td>\n",
       "      <td>...</td>\n",
       "      <td>...</td>\n",
       "      <td>...</td>\n",
       "      <td>...</td>\n",
       "      <td>...</td>\n",
       "    </tr>\n",
       "    <tr>\n",
       "      <th>11326</th>\n",
       "      <td>1534</td>\n",
       "      <td>2021-06-01</td>\n",
       "      <td>3409.468534</td>\n",
       "      <td>26.0</td>\n",
       "      <td>2</td>\n",
       "      <td>free</td>\n",
       "      <td>8</td>\n",
       "      <td>50</td>\n",
       "      <td>0</td>\n",
       "    </tr>\n",
       "    <tr>\n",
       "      <th>11327</th>\n",
       "      <td>1534</td>\n",
       "      <td>2021-08-01</td>\n",
       "      <td>7622.453034</td>\n",
       "      <td>48.0</td>\n",
       "      <td>2</td>\n",
       "      <td>free</td>\n",
       "      <td>8</td>\n",
       "      <td>50</td>\n",
       "      <td>0</td>\n",
       "    </tr>\n",
       "    <tr>\n",
       "      <th>11328</th>\n",
       "      <td>1534</td>\n",
       "      <td>2021-09-01</td>\n",
       "      <td>4928.173852</td>\n",
       "      <td>23.0</td>\n",
       "      <td>1</td>\n",
       "      <td>free</td>\n",
       "      <td>8</td>\n",
       "      <td>50</td>\n",
       "      <td>0</td>\n",
       "    </tr>\n",
       "    <tr>\n",
       "      <th>11329</th>\n",
       "      <td>1534</td>\n",
       "      <td>2021-11-01</td>\n",
       "      <td>13350.015305</td>\n",
       "      <td>78.0</td>\n",
       "      <td>4</td>\n",
       "      <td>free</td>\n",
       "      <td>8</td>\n",
       "      <td>50</td>\n",
       "      <td>0</td>\n",
       "    </tr>\n",
       "    <tr>\n",
       "      <th>11330</th>\n",
       "      <td>1534</td>\n",
       "      <td>2021-12-01</td>\n",
       "      <td>2371.711192</td>\n",
       "      <td>16.0</td>\n",
       "      <td>1</td>\n",
       "      <td>free</td>\n",
       "      <td>8</td>\n",
       "      <td>50</td>\n",
       "      <td>0</td>\n",
       "    </tr>\n",
       "  </tbody>\n",
       "</table>\n",
       "<p>11331 rows × 9 columns</p>\n",
       "</div>"
      ],
      "text/plain": [
       "       user_id      month  distance_sum  duration_sum  rides_count  \\\n",
       "0            1 2021-01-01   7027.511294          42.0            2   \n",
       "1            1 2021-04-01    754.159807           7.0            1   \n",
       "2            1 2021-08-01   6723.470560          46.0            2   \n",
       "3            1 2021-10-01   5809.911100          32.0            2   \n",
       "4            1 2021-11-01   7003.499363          56.0            3   \n",
       "...        ...        ...           ...           ...          ...   \n",
       "11326     1534 2021-06-01   3409.468534          26.0            2   \n",
       "11327     1534 2021-08-01   7622.453034          48.0            2   \n",
       "11328     1534 2021-09-01   4928.173852          23.0            1   \n",
       "11329     1534 2021-11-01  13350.015305          78.0            4   \n",
       "11330     1534 2021-12-01   2371.711192          16.0            1   \n",
       "\n",
       "      subscription_type  minute_price  start_ride_price  subscription_fee  \n",
       "0                 ultra             6                 0               199  \n",
       "1                 ultra             6                 0               199  \n",
       "2                 ultra             6                 0               199  \n",
       "3                 ultra             6                 0               199  \n",
       "4                 ultra             6                 0               199  \n",
       "...                 ...           ...               ...               ...  \n",
       "11326              free             8                50                 0  \n",
       "11327              free             8                50                 0  \n",
       "11328              free             8                50                 0  \n",
       "11329              free             8                50                 0  \n",
       "11330              free             8                50                 0  \n",
       "\n",
       "[11331 rows x 9 columns]"
      ]
     },
     "execution_count": 36,
     "metadata": {},
     "output_type": "execute_result"
    }
   ],
   "source": [
    "#найдем суммарное расстояние, количество поездок и суммарное время для каждого пользователя за каждый месяц\n",
    "df_agg_grouped2 = (df_agg.groupby(['user_id', 'month'])\n",
    "                   .agg({'distance':'sum'\n",
    "                          , 'duration':['sum', 'count']\n",
    "                          , 'subscription_type':'first'\n",
    "                          , 'minute_price':'first'\n",
    "                          , 'start_ride_price':'first'\n",
    "                          , 'subscription_fee':'first'})\n",
    "                   .reset_index())   \n",
    "df_agg_grouped2.columns = ['user_id', 'month', 'distance_sum', 'duration_sum', 'rides_count', 'subscription_type', 'minute_price', 'start_ride_price', 'subscription_fee']\n",
    "df_agg_grouped2"
   ]
  },
  {
   "cell_type": "code",
   "execution_count": 37,
   "id": "3a765207",
   "metadata": {},
   "outputs": [
    {
     "data": {
      "text/html": [
       "<div>\n",
       "<style scoped>\n",
       "    .dataframe tbody tr th:only-of-type {\n",
       "        vertical-align: middle;\n",
       "    }\n",
       "\n",
       "    .dataframe tbody tr th {\n",
       "        vertical-align: top;\n",
       "    }\n",
       "\n",
       "    .dataframe thead th {\n",
       "        text-align: right;\n",
       "    }\n",
       "</style>\n",
       "<table border=\"1\" class=\"dataframe\">\n",
       "  <thead>\n",
       "    <tr style=\"text-align: right;\">\n",
       "      <th></th>\n",
       "      <th>user_id</th>\n",
       "      <th>month</th>\n",
       "      <th>distance_sum</th>\n",
       "      <th>duration_sum</th>\n",
       "      <th>rides_count</th>\n",
       "      <th>subscription_type</th>\n",
       "      <th>minute_price</th>\n",
       "      <th>start_ride_price</th>\n",
       "      <th>subscription_fee</th>\n",
       "      <th>month_income</th>\n",
       "    </tr>\n",
       "  </thead>\n",
       "  <tbody>\n",
       "    <tr>\n",
       "      <th>0</th>\n",
       "      <td>1</td>\n",
       "      <td>2021-01-01</td>\n",
       "      <td>7027.511294</td>\n",
       "      <td>42.0</td>\n",
       "      <td>2</td>\n",
       "      <td>ultra</td>\n",
       "      <td>6</td>\n",
       "      <td>0</td>\n",
       "      <td>199</td>\n",
       "      <td>451.0</td>\n",
       "    </tr>\n",
       "    <tr>\n",
       "      <th>1</th>\n",
       "      <td>1</td>\n",
       "      <td>2021-04-01</td>\n",
       "      <td>754.159807</td>\n",
       "      <td>7.0</td>\n",
       "      <td>1</td>\n",
       "      <td>ultra</td>\n",
       "      <td>6</td>\n",
       "      <td>0</td>\n",
       "      <td>199</td>\n",
       "      <td>241.0</td>\n",
       "    </tr>\n",
       "    <tr>\n",
       "      <th>2</th>\n",
       "      <td>1</td>\n",
       "      <td>2021-08-01</td>\n",
       "      <td>6723.470560</td>\n",
       "      <td>46.0</td>\n",
       "      <td>2</td>\n",
       "      <td>ultra</td>\n",
       "      <td>6</td>\n",
       "      <td>0</td>\n",
       "      <td>199</td>\n",
       "      <td>475.0</td>\n",
       "    </tr>\n",
       "    <tr>\n",
       "      <th>3</th>\n",
       "      <td>1</td>\n",
       "      <td>2021-10-01</td>\n",
       "      <td>5809.911100</td>\n",
       "      <td>32.0</td>\n",
       "      <td>2</td>\n",
       "      <td>ultra</td>\n",
       "      <td>6</td>\n",
       "      <td>0</td>\n",
       "      <td>199</td>\n",
       "      <td>391.0</td>\n",
       "    </tr>\n",
       "    <tr>\n",
       "      <th>4</th>\n",
       "      <td>1</td>\n",
       "      <td>2021-11-01</td>\n",
       "      <td>7003.499363</td>\n",
       "      <td>56.0</td>\n",
       "      <td>3</td>\n",
       "      <td>ultra</td>\n",
       "      <td>6</td>\n",
       "      <td>0</td>\n",
       "      <td>199</td>\n",
       "      <td>535.0</td>\n",
       "    </tr>\n",
       "    <tr>\n",
       "      <th>...</th>\n",
       "      <td>...</td>\n",
       "      <td>...</td>\n",
       "      <td>...</td>\n",
       "      <td>...</td>\n",
       "      <td>...</td>\n",
       "      <td>...</td>\n",
       "      <td>...</td>\n",
       "      <td>...</td>\n",
       "      <td>...</td>\n",
       "      <td>...</td>\n",
       "    </tr>\n",
       "    <tr>\n",
       "      <th>11326</th>\n",
       "      <td>1534</td>\n",
       "      <td>2021-06-01</td>\n",
       "      <td>3409.468534</td>\n",
       "      <td>26.0</td>\n",
       "      <td>2</td>\n",
       "      <td>free</td>\n",
       "      <td>8</td>\n",
       "      <td>50</td>\n",
       "      <td>0</td>\n",
       "      <td>308.0</td>\n",
       "    </tr>\n",
       "    <tr>\n",
       "      <th>11327</th>\n",
       "      <td>1534</td>\n",
       "      <td>2021-08-01</td>\n",
       "      <td>7622.453034</td>\n",
       "      <td>48.0</td>\n",
       "      <td>2</td>\n",
       "      <td>free</td>\n",
       "      <td>8</td>\n",
       "      <td>50</td>\n",
       "      <td>0</td>\n",
       "      <td>484.0</td>\n",
       "    </tr>\n",
       "    <tr>\n",
       "      <th>11328</th>\n",
       "      <td>1534</td>\n",
       "      <td>2021-09-01</td>\n",
       "      <td>4928.173852</td>\n",
       "      <td>23.0</td>\n",
       "      <td>1</td>\n",
       "      <td>free</td>\n",
       "      <td>8</td>\n",
       "      <td>50</td>\n",
       "      <td>0</td>\n",
       "      <td>234.0</td>\n",
       "    </tr>\n",
       "    <tr>\n",
       "      <th>11329</th>\n",
       "      <td>1534</td>\n",
       "      <td>2021-11-01</td>\n",
       "      <td>13350.015305</td>\n",
       "      <td>78.0</td>\n",
       "      <td>4</td>\n",
       "      <td>free</td>\n",
       "      <td>8</td>\n",
       "      <td>50</td>\n",
       "      <td>0</td>\n",
       "      <td>824.0</td>\n",
       "    </tr>\n",
       "    <tr>\n",
       "      <th>11330</th>\n",
       "      <td>1534</td>\n",
       "      <td>2021-12-01</td>\n",
       "      <td>2371.711192</td>\n",
       "      <td>16.0</td>\n",
       "      <td>1</td>\n",
       "      <td>free</td>\n",
       "      <td>8</td>\n",
       "      <td>50</td>\n",
       "      <td>0</td>\n",
       "      <td>178.0</td>\n",
       "    </tr>\n",
       "  </tbody>\n",
       "</table>\n",
       "<p>11331 rows × 10 columns</p>\n",
       "</div>"
      ],
      "text/plain": [
       "       user_id      month  distance_sum  duration_sum  rides_count  \\\n",
       "0            1 2021-01-01   7027.511294          42.0            2   \n",
       "1            1 2021-04-01    754.159807           7.0            1   \n",
       "2            1 2021-08-01   6723.470560          46.0            2   \n",
       "3            1 2021-10-01   5809.911100          32.0            2   \n",
       "4            1 2021-11-01   7003.499363          56.0            3   \n",
       "...        ...        ...           ...           ...          ...   \n",
       "11326     1534 2021-06-01   3409.468534          26.0            2   \n",
       "11327     1534 2021-08-01   7622.453034          48.0            2   \n",
       "11328     1534 2021-09-01   4928.173852          23.0            1   \n",
       "11329     1534 2021-11-01  13350.015305          78.0            4   \n",
       "11330     1534 2021-12-01   2371.711192          16.0            1   \n",
       "\n",
       "      subscription_type  minute_price  start_ride_price  subscription_fee  \\\n",
       "0                 ultra             6                 0               199   \n",
       "1                 ultra             6                 0               199   \n",
       "2                 ultra             6                 0               199   \n",
       "3                 ultra             6                 0               199   \n",
       "4                 ultra             6                 0               199   \n",
       "...                 ...           ...               ...               ...   \n",
       "11326              free             8                50                 0   \n",
       "11327              free             8                50                 0   \n",
       "11328              free             8                50                 0   \n",
       "11329              free             8                50                 0   \n",
       "11330              free             8                50                 0   \n",
       "\n",
       "       month_income  \n",
       "0             451.0  \n",
       "1             241.0  \n",
       "2             475.0  \n",
       "3             391.0  \n",
       "4             535.0  \n",
       "...             ...  \n",
       "11326         308.0  \n",
       "11327         484.0  \n",
       "11328         234.0  \n",
       "11329         824.0  \n",
       "11330         178.0  \n",
       "\n",
       "[11331 rows x 10 columns]"
      ]
     },
     "execution_count": 37,
     "metadata": {},
     "output_type": "execute_result"
    }
   ],
   "source": [
    "#добавим столбец с помесячной выручкой, которую принёс каждый пользователь\n",
    "df_agg_grouped2['month_income'] = df_agg_grouped2['start_ride_price'] * df_agg_grouped2['rides_count'] +\\\n",
    "    df_agg_grouped2['minute_price']*df_agg_grouped2['duration_sum'] + df_agg_grouped2['subscription_fee']\n",
    "df_agg_grouped2"
   ]
  },
  {
   "cell_type": "markdown",
   "id": "02ab6ce0",
   "metadata": {},
   "source": [
    "<div class=\"alert alert-success\">\n",
    "<h2> Комментарий ревьюера v1 <a class=\"tocSkip\"> </h2>\n",
    "\n",
    "<b>Все супер!👍:</b> Выручка по пользователям рассчитана правильно!"
   ]
  },
  {
   "cell_type": "markdown",
   "id": "41545ac0",
   "metadata": {},
   "source": [
    "#### Шаг 6. Проверка гипотез"
   ]
  },
  {
   "cell_type": "markdown",
   "id": "90f7e7a2",
   "metadata": {},
   "source": [
    "<div class=\"alert alert-warning\">\n",
    "    <h2> Комментарий ревьюера v1<a class=\"tocSkip\"> </h2>\n",
    "    \n",
    "<b>Небольшие замечания и рекомендации💡:</b> Гипотезы лучше формулировать в отдельных ячейках markdown"
   ]
  },
  {
   "cell_type": "markdown",
   "id": "ade17c0c",
   "metadata": {},
   "source": [
    "<div class=\"alert alert-info\" style=\"border-radius: 10px; box-shadow: 2px 2px 2px; border: 1px solid; padding: 10px \"> \n",
    "Выясним, тратят ли пользователи с подпиской больше времени на поездки.\n",
    "    \n",
    "H0: средние значения времени поездок пользователей из двух групп равны.\n",
    "    \n",
    "H1: среднее значение времени поездок пользователей с подпиской больше, чем среднее значение времени поездок пользователей без подписки\n",
    "</div>"
   ]
  },
  {
   "cell_type": "markdown",
   "id": "07dc5097",
   "metadata": {},
   "source": [
    "<div class=\"alert alert-success\">\n",
    "<h2> Комментарий ревьюера v2 <a class=\"tocSkip\"> </h2>\n",
    "\n",
    "<b>Все супер!👍:</b> Верная формулировка"
   ]
  },
  {
   "cell_type": "code",
   "execution_count": 38,
   "id": "de34d55e",
   "metadata": {},
   "outputs": [
    {
     "name": "stdout",
     "output_type": "stream",
     "text": [
      "p-значение: 2.4959453720736625e-34\n",
      "Отвергаем нулевую гипотезу\n"
     ]
    }
   ],
   "source": [
    "#тратят ли пользователи с подпиской больше времени на поездки\n",
    "#H0: средние значения времени поездок пользователей из двух групп равны.\n",
    "#H1: среднее значение времени поездок пользователей с подпиской больше, чем среднее значение времени поездок пользователей без подписки\n",
    "sample_ultra = df_agg[df_agg['subscription_type']=='ultra']['duration']\n",
    "sample_free = df_agg[df_agg['subscription_type']=='free']['duration']\n",
    "alpha = 0.05\n",
    "results = st.ttest_ind(sample_ultra, sample_free, alternative='greater')\n",
    "print('p-значение:', results.pvalue)\n",
    "if results.pvalue < alpha:\n",
    "    print('Отвергаем нулевую гипотезу')\n",
    "else:\n",
    "    print('Не получилось отвергнуть нулевую гипотезу') "
   ]
  },
  {
   "cell_type": "markdown",
   "id": "5da1040f",
   "metadata": {},
   "source": [
    "Пользователи с подпиской, действительно, тратят на поездки больше времени, чем пользователи без подписки."
   ]
  },
  {
   "cell_type": "markdown",
   "id": "ae1edbab",
   "metadata": {},
   "source": [
    "<div class=\"alert alert-warning\">\n",
    "    <h2> Комментарий ревьюера v1<a class=\"tocSkip\"> </h2>\n",
    "    \n",
    "<b>Небольшие замечания и рекомендации💡:</b> Гипотезы лучше формулировать в отдельных ячейках markdown"
   ]
  },
  {
   "cell_type": "markdown",
   "id": "01fb53e3",
   "metadata": {},
   "source": [
    "<div class=\"alert alert-info\" style=\"border-radius: 10px; box-shadow: 2px 2px 2px; border: 1px solid; padding: 10px \"> \n",
    "Можно ли сказать, что среднее расстояние, которое проезжают пользователи с подпиской за одну поездку, не превышает 3130 метров.\n",
    "\n",
    "H0: среднее расстояние, которое проезжают пользователи с подпиской за одну поездку, равно 3130 метров\n",
    "\n",
    "H1: среднее расстояние, которое проезжают пользователи с подпиской за одну поездку, не превышает 3130 метров\n",
    "</div>"
   ]
  },
  {
   "cell_type": "markdown",
   "id": "79425501",
   "metadata": {},
   "source": [
    "<div class=\"alert alert-success\">\n",
    "<h2> Комментарий ревьюера v2 <a class=\"tocSkip\"> </h2>\n",
    "\n",
    "<b>Все супер!👍:</b> Правильная формулировка!"
   ]
  },
  {
   "cell_type": "code",
   "execution_count": 39,
   "id": "48becf95",
   "metadata": {
    "scrolled": true
   },
   "outputs": [
    {
     "name": "stdout",
     "output_type": "stream",
     "text": [
      "p-значение: 0.08046311521502146\n",
      "Не получилось отвергнуть нулевую гипотезу\n"
     ]
    }
   ],
   "source": [
    "#Можно ли сказать, что среднее расстояние, которое проезжают пользователи с подпиской за одну поездку, не превышает 3130 метров\n",
    "#H0: среднее расстояние, которое проезжают пользователи с подпиской за одну поездку, равно 3130 метров\n",
    "#H1: среднее расстояние, которое проезжают пользователи с подпиской за одну поездку, не превышает 3130 метров\n",
    "sample = df_agg[df_agg['subscription_type']=='ultra']['distance']\n",
    "alpha = 0.05\n",
    "results = st.ttest_1samp(sample, 3130, alternative = 'less')\n",
    "print('p-значение:', results.pvalue)\n",
    "if results.pvalue < alpha:\n",
    "    print('Отвергаем нулевую гипотезу')\n",
    "else:\n",
    "    print('Не получилось отвергнуть нулевую гипотезу') "
   ]
  },
  {
   "cell_type": "markdown",
   "id": "c6578800",
   "metadata": {},
   "source": [
    "Среднее расстояние, которое проезжают пользователи с подпиской за одну поездку, равно 3130 метров. Самокаты должны быстро изнашиваться."
   ]
  },
  {
   "cell_type": "markdown",
   "id": "6020fc6a",
   "metadata": {},
   "source": [
    "<div class=\"alert alert-warning\">\n",
    "    <h2> Комментарий ревьюера v1<a class=\"tocSkip\"> </h2>\n",
    "    \n",
    "<b>Небольшие замечания и рекомендации💡:</b> Гипотезы лучше формулировать в отдельных ячейках markdown"
   ]
  },
  {
   "cell_type": "markdown",
   "id": "2f142dfa",
   "metadata": {},
   "source": [
    "<div class=\"alert alert-info\" style=\"border-radius: 10px; box-shadow: 2px 2px 2px; border: 1px solid; padding: 10px \"> \n",
    "Проверим, будет ли помесячная выручка от пользователей с подпиской по месяцам выше, чем выручка от пользователей без подписки.\n",
    "\n",
    "H0: помесячная выручка от пользователей с подпиской по месяцам равна выручке от пользователей без подписки\n",
    "\n",
    "H1: помесячная выручка от пользователей с подпиской по месяцам выше, чем выручка от пользователей без подписки\n",
    "</div>"
   ]
  },
  {
   "cell_type": "markdown",
   "id": "58a10dc2",
   "metadata": {},
   "source": [
    "<div class=\"alert alert-success\">\n",
    "<h2> Комментарий ревьюера v2 <a class=\"tocSkip\"> </h2>\n",
    "\n",
    "<b>Все супер!👍:</b> Гипотезы сформулированы верно!"
   ]
  },
  {
   "cell_type": "code",
   "execution_count": 40,
   "id": "03ba176a",
   "metadata": {},
   "outputs": [
    {
     "name": "stdout",
     "output_type": "stream",
     "text": [
      "p-значение: 1.8850394384715216e-31\n",
      "Отвергаем нулевую гипотезу\n"
     ]
    }
   ],
   "source": [
    "#будет ли помесячная выручка от пользователей с подпиской по месяцам выше, чем выручка от пользователей без подписки\n",
    "#H0: помесячная выручка от пользователей с подпиской по месяцам равна выручке от пользователей без подписки\n",
    "#H1: помесячная выручка от пользователей с подпиской по месяцам выше, чем выручка от пользователей без подписки\n",
    "sample_ultra = df_agg_grouped2[df_agg_grouped2['subscription_type']=='ultra']['month_income']\n",
    "sample_free = df_agg_grouped2[df_agg_grouped2['subscription_type']=='free']['month_income']\n",
    "alpha = 0.05\n",
    "results = st.ttest_ind(sample_ultra, sample_free, alternative='greater')\n",
    "print('p-значение:', results.pvalue)\n",
    "if results.pvalue < alpha:\n",
    "    print('Отвергаем нулевую гипотезу')\n",
    "else:\n",
    "    print('Не получилось отвергнуть нулевую гипотезу') "
   ]
  },
  {
   "cell_type": "markdown",
   "id": "a11ecba2",
   "metadata": {},
   "source": [
    "Помесячная выручка от пользователей с подпиской по месяцам выше, чем выручка от пользователей без подписки. Пользователи с подпиской \"выгоднее\"."
   ]
  },
  {
   "cell_type": "markdown",
   "id": "25b79c52",
   "metadata": {},
   "source": [
    "Представьте такую ситуацию: техническая команда сервиса обновила сервера, с которыми взаимодействует мобильное приложение. Она надеется, что из-за этого количество обращений в техподдержку значимо снизилось. Некоторый файл содержит для каждого пользователя данные о количестве обращений до обновления и после него. Какой тест вам понадобился бы для проверки этой гипотезы?\n",
    "\n",
    "В данном случае мы имеем дело с зависимыми выборками.\n",
    "\n",
    "На основании этого сформулируем две гипотезы:\n",
    "* H0: Количество обращений до обновления равно количеству обращений после.\n",
    "* H1: Количество обращений до обновления больше, чем стало после обновления.\n",
    "\n",
    "Для проверки гипотезы нужно применить метод scipy.stats.ttest_rel() с аргументом alternative='greater'."
   ]
  },
  {
   "cell_type": "markdown",
   "id": "6f11c6f0",
   "metadata": {},
   "source": [
    "<div class=\"alert alert-success\">\n",
    "<h2> Комментарий ревьюера v1 <a class=\"tocSkip\"> </h2>\n",
    "\n",
    "<b>Все супер!👍:</b> Гипотезы проверены верно)"
   ]
  },
  {
   "cell_type": "markdown",
   "id": "e21b9151",
   "metadata": {},
   "source": [
    "<h1>Вывод</h1>\n",
    "\n",
    "Мы изучили данные сервиса по аренде самокатов GoFast о пользователях, их поездках и подписках. \n",
    "\n",
    "Проверили наличие пропусков и дубликатов в данных, устранили дубликаты.\n",
    "\n",
    "В ходе исследовательского анализа выявили, что:\n",
    "* Наиболее часто самокатами пользуются в Пятигорске (14% всех пользователей), реже всего - в Москве (11%). В среднем распределение пользователей по городам достаточно равномерное.\n",
    "* Большая часть пользователей (54%) не имеет подписки.\n",
    "* Наибольшей части пользователей приложения в районе 25 лет. Люди старше 35 лет практически не пользуются сервисом.\n",
    "* Большинство пользователей преодолевают расстояние около 3 км. за одну поездку. С увеличением расстояния количество пользователей снижается, пользователи практически не ездят больше 6 км. С уменьшением расстояния количество пользователей также снижается, но есть значимая доля любителей коротких поездок до 1 км.\n",
    "* У большинства пользователей поездка занимает 15-20 минут. С увеличением или уменьшением времени поездки количество пользователей снижается.\n",
    "\n",
    "Мы аггрегировали данные в единую таблицу и посчитали помесячную выручку с каждого пользователя.\n",
    "\n",
    "После чего проверили ряд гипотез:\n",
    "1. Тратят ли пользователи с подпиской больше времени на поездки?\n",
    "\n",
    "Пользователи с подпиской, действительно, тратят на поездки больше времени, чем пользователи без подписки, и являются более \"выгодными\" для компании.\n",
    "\n",
    "2. Можно ли сказать, что среднее расстояние, которое проезжают пользователи с подпиской за одну поездку, не превышает 3130 метров?\n",
    "\n",
    "Среднее расстояние, которое проезжают пользователи с подпиской за одну поездку, равно 3130 метров. Самокаты должны быстро изнашиваться.\n",
    "\n",
    "3. Будет ли помесячная выручка от пользователей с подпиской по месяцам выше, чем выручка от пользователей без подписки?\n",
    "\n",
    "Помесячная выручка от пользователей с подпиской по месяцам выше, чем выручка от пользователей без подписки. Пользователи с подпиской \"выгоднее\"."
   ]
  },
  {
   "cell_type": "markdown",
   "id": "2e2273db",
   "metadata": {},
   "source": [
    "<div class=\"alert alert-success\">\n",
    "<h2> Комментарий ревьюера v1 <a class=\"tocSkip\"> </h2>\n",
    "\n",
    "<b>Все супер!👍:</b> Итоговый вывод полностью отражает проделанную работу"
   ]
  },
  {
   "cell_type": "markdown",
   "id": "1e85be9e",
   "metadata": {},
   "source": [
    "<div style=\"border:solid Chocolate 2px; padding: 40px\">\n",
    "    \n",
    "**Общий вывод по проекту ревьювера**:\n",
    "     Спасибо за  проект! Ты приложил много усилий, чтобы довести его до конца, проделана огромная работа, и это видно невооруженным глазом, ты большой молодец!\n",
    "    \n",
    "**Отмечу положительные моменты**:\n",
    "    \n",
    "    1. Все разложено по полочкам, всегда понятен ход твоих мыслей, приятно смотреть\n",
    "    \n",
    "    2. Отличные визуализации\n",
    "    \n",
    "    3. На разных шагах проекта ты предлагала очень интересные решения и методы для их реализации. Хорошая работа!\n",
    "    \n",
    "    \n",
    "**На что стоит обратить внимание**:\n",
    "    \n",
    "    1. Наа желтые комментарии, так как критических ошибок нет\n",
    "    \n",
    "    \n",
    "**Удачи и жду твой проект на повторное ревью!**"
   ]
  },
  {
   "cell_type": "markdown",
   "id": "351e3498",
   "metadata": {},
   "source": [
    "<div style=\"border:solid Chocolate 2px; padding: 40px\">\n",
    "    \n",
    "**Общий вывод по проекту ревьювера v2**:\n",
    "     Осталось исправить один момент и проект будет зачтен!"
   ]
  },
  {
   "cell_type": "markdown",
   "id": "2c91921f",
   "metadata": {},
   "source": [
    "<div style=\"border:solid Chocolate 2px; padding: 40px\">\n",
    "    \n",
    "**Общий вывод по проекту ревьювера v3**:\n",
    "     Ошибки исправлены, проект принят, поздравляю тебя! Успешной учебы и еще увидимся в Практикуме!"
   ]
  },
  {
   "cell_type": "code",
   "execution_count": null,
   "id": "893d4d3b",
   "metadata": {},
   "outputs": [],
   "source": []
  }
 ],
 "metadata": {
  "ExecuteTimeLog": [
   {
    "duration": 406,
    "start_time": "2024-06-03T02:46:05.791Z"
   },
   {
    "duration": 127,
    "start_time": "2024-06-03T02:46:07.477Z"
   },
   {
    "duration": 458,
    "start_time": "2024-06-03T02:56:36.844Z"
   },
   {
    "duration": 58,
    "start_time": "2024-06-03T03:12:27.279Z"
   },
   {
    "duration": 73,
    "start_time": "2024-06-03T03:12:47.838Z"
   },
   {
    "duration": 5,
    "start_time": "2024-06-03T03:25:32.696Z"
   },
   {
    "duration": 11,
    "start_time": "2024-06-03T03:27:23.251Z"
   },
   {
    "duration": 10,
    "start_time": "2024-06-03T03:28:14.837Z"
   },
   {
    "duration": 10,
    "start_time": "2024-06-03T03:29:18.574Z"
   },
   {
    "duration": 10,
    "start_time": "2024-06-03T03:30:09.910Z"
   },
   {
    "duration": 6,
    "start_time": "2024-06-03T03:30:20.527Z"
   },
   {
    "duration": 5,
    "start_time": "2024-06-03T03:30:22.737Z"
   },
   {
    "duration": 5,
    "start_time": "2024-06-03T03:32:48.396Z"
   },
   {
    "duration": 7,
    "start_time": "2024-06-03T03:33:09.164Z"
   },
   {
    "duration": 14,
    "start_time": "2024-06-03T03:33:23.635Z"
   },
   {
    "duration": 23,
    "start_time": "2024-06-03T03:41:33.346Z"
   },
   {
    "duration": 14,
    "start_time": "2024-06-03T03:41:53.605Z"
   },
   {
    "duration": 719,
    "start_time": "2024-06-03T03:42:01.748Z"
   },
   {
    "duration": 11,
    "start_time": "2024-06-03T03:42:08.644Z"
   },
   {
    "duration": 6,
    "start_time": "2024-06-03T03:42:57.495Z"
   },
   {
    "duration": 12,
    "start_time": "2024-06-03T03:44:43.664Z"
   },
   {
    "duration": 8,
    "start_time": "2024-06-03T03:46:06.826Z"
   },
   {
    "duration": 5,
    "start_time": "2024-06-03T03:46:16.364Z"
   },
   {
    "duration": 6,
    "start_time": "2024-06-03T03:46:19.898Z"
   },
   {
    "duration": 5,
    "start_time": "2024-06-03T03:47:06.126Z"
   },
   {
    "duration": 6,
    "start_time": "2024-06-03T03:47:21.431Z"
   },
   {
    "duration": 9,
    "start_time": "2024-06-03T03:48:26.626Z"
   },
   {
    "duration": 10,
    "start_time": "2024-06-03T03:48:56.228Z"
   },
   {
    "duration": 6,
    "start_time": "2024-06-03T03:49:18.806Z"
   },
   {
    "duration": 6,
    "start_time": "2024-06-03T03:49:40.623Z"
   },
   {
    "duration": 11,
    "start_time": "2024-06-03T03:49:48.398Z"
   },
   {
    "duration": 4,
    "start_time": "2024-06-03T03:50:22.728Z"
   },
   {
    "duration": 4,
    "start_time": "2024-06-03T03:50:57.146Z"
   },
   {
    "duration": 12,
    "start_time": "2024-06-03T09:50:53.133Z"
   },
   {
    "duration": 14,
    "start_time": "2024-06-03T09:52:05.220Z"
   },
   {
    "duration": 12,
    "start_time": "2024-06-03T09:52:30.862Z"
   },
   {
    "duration": 498,
    "start_time": "2024-06-03T09:54:09.088Z"
   },
   {
    "duration": 24,
    "start_time": "2024-06-03T09:55:09.498Z"
   },
   {
    "duration": 105,
    "start_time": "2024-06-03T10:00:53.166Z"
   },
   {
    "duration": 144,
    "start_time": "2024-06-03T10:01:08.296Z"
   },
   {
    "duration": 98,
    "start_time": "2024-06-03T10:01:17.375Z"
   },
   {
    "duration": 264,
    "start_time": "2024-06-03T10:01:48.423Z"
   },
   {
    "duration": 114,
    "start_time": "2024-06-03T10:01:57.798Z"
   },
   {
    "duration": 6,
    "start_time": "2024-06-03T10:04:47.288Z"
   },
   {
    "duration": 9,
    "start_time": "2024-06-03T10:05:06.674Z"
   },
   {
    "duration": 10,
    "start_time": "2024-06-03T10:07:02.540Z"
   },
   {
    "duration": 9,
    "start_time": "2024-06-03T10:07:17.612Z"
   },
   {
    "duration": 9,
    "start_time": "2024-06-03T10:07:23.004Z"
   },
   {
    "duration": 8,
    "start_time": "2024-06-03T10:07:40.548Z"
   },
   {
    "duration": 9,
    "start_time": "2024-06-03T10:07:53.189Z"
   },
   {
    "duration": 11,
    "start_time": "2024-06-03T10:07:56.316Z"
   },
   {
    "duration": 109,
    "start_time": "2024-06-03T10:08:30.949Z"
   },
   {
    "duration": 402,
    "start_time": "2024-06-06T15:54:30.513Z"
   },
   {
    "duration": 213,
    "start_time": "2024-06-06T15:54:30.917Z"
   },
   {
    "duration": 5,
    "start_time": "2024-06-06T15:54:31.131Z"
   },
   {
    "duration": 220,
    "start_time": "2024-06-06T15:54:31.138Z"
   },
   {
    "duration": 50,
    "start_time": "2024-06-06T15:54:31.359Z"
   },
   {
    "duration": 19,
    "start_time": "2024-06-06T15:54:31.410Z"
   },
   {
    "duration": 37,
    "start_time": "2024-06-06T15:54:31.431Z"
   },
   {
    "duration": 28,
    "start_time": "2024-06-06T15:54:31.469Z"
   },
   {
    "duration": 26,
    "start_time": "2024-06-06T15:54:31.499Z"
   },
   {
    "duration": 29,
    "start_time": "2024-06-06T15:54:31.528Z"
   },
   {
    "duration": 26,
    "start_time": "2024-06-06T15:54:31.558Z"
   },
   {
    "duration": 7,
    "start_time": "2024-06-06T15:54:31.585Z"
   },
   {
    "duration": 4,
    "start_time": "2024-06-06T15:54:31.594Z"
   },
   {
    "duration": 19,
    "start_time": "2024-06-06T15:54:31.600Z"
   },
   {
    "duration": 543,
    "start_time": "2024-06-06T15:54:31.621Z"
   },
   {
    "duration": 6,
    "start_time": "2024-06-06T15:59:26.998Z"
   },
   {
    "duration": 16,
    "start_time": "2024-06-06T16:01:31.126Z"
   },
   {
    "duration": 17,
    "start_time": "2024-06-06T16:02:12.587Z"
   },
   {
    "duration": 9,
    "start_time": "2024-06-06T16:03:57.347Z"
   },
   {
    "duration": 67,
    "start_time": "2024-06-06T16:04:23.651Z"
   },
   {
    "duration": 12,
    "start_time": "2024-06-06T16:07:39.550Z"
   },
   {
    "duration": 125,
    "start_time": "2024-06-06T16:11:04.958Z"
   },
   {
    "duration": 147,
    "start_time": "2024-06-06T16:11:17.046Z"
   },
   {
    "duration": 283,
    "start_time": "2024-06-06T16:11:29.270Z"
   },
   {
    "duration": 3,
    "start_time": "2024-06-06T16:11:55.073Z"
   },
   {
    "duration": 151,
    "start_time": "2024-06-06T16:12:22.110Z"
   },
   {
    "duration": 126,
    "start_time": "2024-06-06T16:13:26.554Z"
   },
   {
    "duration": 144,
    "start_time": "2024-06-06T16:13:32.974Z"
   },
   {
    "duration": 3,
    "start_time": "2024-06-06T16:18:35.630Z"
   },
   {
    "duration": 14,
    "start_time": "2024-06-06T16:18:50.065Z"
   },
   {
    "duration": 160,
    "start_time": "2024-06-06T16:19:32.110Z"
   },
   {
    "duration": 128,
    "start_time": "2024-06-06T16:19:42.858Z"
   },
   {
    "duration": 164,
    "start_time": "2024-06-06T16:19:48.385Z"
   },
   {
    "duration": 155,
    "start_time": "2024-06-06T16:21:05.970Z"
   },
   {
    "duration": 162,
    "start_time": "2024-06-06T16:22:14.402Z"
   },
   {
    "duration": 159,
    "start_time": "2024-06-06T16:28:52.466Z"
   },
   {
    "duration": 882,
    "start_time": "2024-06-10T08:19:10.893Z"
   },
   {
    "duration": 322,
    "start_time": "2024-06-10T08:19:11.777Z"
   },
   {
    "duration": 6,
    "start_time": "2024-06-10T08:19:12.101Z"
   },
   {
    "duration": 42,
    "start_time": "2024-06-10T08:19:12.110Z"
   },
   {
    "duration": 35,
    "start_time": "2024-06-10T08:19:12.154Z"
   },
   {
    "duration": 44,
    "start_time": "2024-06-10T08:19:12.191Z"
   },
   {
    "duration": 35,
    "start_time": "2024-06-10T08:19:12.237Z"
   },
   {
    "duration": 49,
    "start_time": "2024-06-10T08:19:12.274Z"
   },
   {
    "duration": 26,
    "start_time": "2024-06-10T08:19:12.325Z"
   },
   {
    "duration": 12,
    "start_time": "2024-06-10T08:19:12.354Z"
   },
   {
    "duration": 26,
    "start_time": "2024-06-10T08:19:12.367Z"
   },
   {
    "duration": 19,
    "start_time": "2024-06-10T08:19:12.396Z"
   },
   {
    "duration": 8,
    "start_time": "2024-06-10T08:19:12.417Z"
   },
   {
    "duration": 23,
    "start_time": "2024-06-10T08:19:12.427Z"
   },
   {
    "duration": 157,
    "start_time": "2024-06-10T08:19:12.452Z"
   },
   {
    "duration": 12,
    "start_time": "2024-06-10T08:19:12.611Z"
   },
   {
    "duration": 109,
    "start_time": "2024-06-10T08:19:12.625Z"
   },
   {
    "duration": 187,
    "start_time": "2024-06-10T08:19:12.736Z"
   },
   {
    "duration": 203,
    "start_time": "2024-06-10T08:19:12.925Z"
   },
   {
    "duration": 269,
    "start_time": "2024-06-10T08:19:13.130Z"
   },
   {
    "duration": 96,
    "start_time": "2024-06-10T08:19:13.401Z"
   },
   {
    "duration": 14,
    "start_time": "2024-06-10T08:19:29.373Z"
   },
   {
    "duration": 14,
    "start_time": "2024-06-10T08:19:36.489Z"
   },
   {
    "duration": 7,
    "start_time": "2024-06-10T08:19:42.409Z"
   },
   {
    "duration": 15,
    "start_time": "2024-06-10T08:20:01.065Z"
   },
   {
    "duration": 33,
    "start_time": "2024-06-10T08:20:18.087Z"
   },
   {
    "duration": 4,
    "start_time": "2024-06-10T08:20:48.685Z"
   },
   {
    "duration": 4,
    "start_time": "2024-06-10T08:20:58.173Z"
   },
   {
    "duration": 4,
    "start_time": "2024-06-10T08:21:04.189Z"
   },
   {
    "duration": 11,
    "start_time": "2024-06-10T08:25:20.274Z"
   },
   {
    "duration": 184,
    "start_time": "2024-06-10T08:28:15.775Z"
   },
   {
    "duration": 204,
    "start_time": "2024-06-10T08:29:05.551Z"
   },
   {
    "duration": 190,
    "start_time": "2024-06-10T08:32:55.168Z"
   },
   {
    "duration": 250,
    "start_time": "2024-06-10T08:33:32.056Z"
   },
   {
    "duration": 4,
    "start_time": "2024-06-10T17:49:03.543Z"
   },
   {
    "duration": 22,
    "start_time": "2024-06-10T17:49:31.693Z"
   },
   {
    "duration": 26,
    "start_time": "2024-06-10T17:52:59.356Z"
   },
   {
    "duration": 28,
    "start_time": "2024-06-10T17:53:49.056Z"
   },
   {
    "duration": 29,
    "start_time": "2024-06-10T17:54:10.368Z"
   },
   {
    "duration": 26,
    "start_time": "2024-06-10T17:56:15.556Z"
   },
   {
    "duration": 82,
    "start_time": "2024-06-10T17:58:03.626Z"
   },
   {
    "duration": 29,
    "start_time": "2024-06-10T17:58:13.744Z"
   },
   {
    "duration": 35,
    "start_time": "2024-06-10T17:58:31.937Z"
   },
   {
    "duration": 27,
    "start_time": "2024-06-10T17:58:39.628Z"
   },
   {
    "duration": 27,
    "start_time": "2024-06-10T18:01:31.388Z"
   },
   {
    "duration": 13,
    "start_time": "2024-06-10T18:02:48.077Z"
   },
   {
    "duration": 12,
    "start_time": "2024-06-10T18:03:04.957Z"
   },
   {
    "duration": 11,
    "start_time": "2024-06-10T18:03:20.797Z"
   },
   {
    "duration": 12,
    "start_time": "2024-06-10T18:03:26.445Z"
   },
   {
    "duration": 12,
    "start_time": "2024-06-10T18:04:29.957Z"
   },
   {
    "duration": 9,
    "start_time": "2024-06-10T18:09:25.890Z"
   },
   {
    "duration": 20,
    "start_time": "2024-06-10T18:10:01.110Z"
   },
   {
    "duration": 13,
    "start_time": "2024-06-10T18:10:12.116Z"
   },
   {
    "duration": 27,
    "start_time": "2024-06-10T18:11:34.538Z"
   },
   {
    "duration": 15,
    "start_time": "2024-06-10T18:12:13.891Z"
   },
   {
    "duration": 15,
    "start_time": "2024-06-10T18:12:30.687Z"
   },
   {
    "duration": 24,
    "start_time": "2024-06-10T18:12:46.211Z"
   },
   {
    "duration": 35,
    "start_time": "2024-06-10T20:51:04.476Z"
   },
   {
    "duration": 26,
    "start_time": "2024-06-10T20:51:20.534Z"
   },
   {
    "duration": 3,
    "start_time": "2024-06-10T20:52:15.645Z"
   },
   {
    "duration": 11,
    "start_time": "2024-06-10T20:52:23.687Z"
   },
   {
    "duration": 21,
    "start_time": "2024-06-10T20:53:39.330Z"
   },
   {
    "duration": 22,
    "start_time": "2024-06-10T20:53:47.447Z"
   },
   {
    "duration": 10,
    "start_time": "2024-06-10T20:58:30.332Z"
   },
   {
    "duration": 2,
    "start_time": "2024-06-10T20:58:50.974Z"
   },
   {
    "duration": 755,
    "start_time": "2024-06-10T20:58:59.212Z"
   },
   {
    "duration": 5,
    "start_time": "2024-06-10T21:00:04.828Z"
   },
   {
    "duration": 12,
    "start_time": "2024-06-10T21:00:12.394Z"
   },
   {
    "duration": 20,
    "start_time": "2024-06-10T21:02:59.913Z"
   },
   {
    "duration": 8,
    "start_time": "2024-06-10T21:13:42.695Z"
   },
   {
    "duration": 8,
    "start_time": "2024-06-10T21:13:52.270Z"
   },
   {
    "duration": 26,
    "start_time": "2024-06-10T21:13:58.935Z"
   },
   {
    "duration": 18,
    "start_time": "2024-06-10T21:15:32.647Z"
   },
   {
    "duration": 14,
    "start_time": "2024-06-10T21:16:25.477Z"
   },
   {
    "duration": 13,
    "start_time": "2024-06-10T21:16:32.239Z"
   },
   {
    "duration": 45,
    "start_time": "2024-06-10T21:41:53.406Z"
   },
   {
    "duration": 31,
    "start_time": "2024-06-10T21:44:13.144Z"
   },
   {
    "duration": 19,
    "start_time": "2024-06-10T21:44:38.587Z"
   },
   {
    "duration": 27,
    "start_time": "2024-06-10T21:44:45.298Z"
   },
   {
    "duration": 26,
    "start_time": "2024-06-10T21:45:19.668Z"
   },
   {
    "duration": 34,
    "start_time": "2024-06-10T21:46:42.518Z"
   },
   {
    "duration": 41,
    "start_time": "2024-06-10T21:49:46.380Z"
   },
   {
    "duration": 42,
    "start_time": "2024-06-10T21:50:04.638Z"
   },
   {
    "duration": 27,
    "start_time": "2024-06-10T21:53:40.588Z"
   },
   {
    "duration": 4,
    "start_time": "2024-06-11T10:41:15.422Z"
   },
   {
    "duration": 1913,
    "start_time": "2024-06-11T10:56:04.172Z"
   },
   {
    "duration": 103,
    "start_time": "2024-06-11T11:06:10.066Z"
   },
   {
    "duration": 1181,
    "start_time": "2024-06-11T11:06:22.361Z"
   },
   {
    "duration": 219,
    "start_time": "2024-06-11T11:06:23.544Z"
   },
   {
    "duration": 5,
    "start_time": "2024-06-11T11:06:23.765Z"
   },
   {
    "duration": 21,
    "start_time": "2024-06-11T11:06:23.772Z"
   },
   {
    "duration": 11,
    "start_time": "2024-06-11T11:06:23.794Z"
   },
   {
    "duration": 69,
    "start_time": "2024-06-11T11:06:23.806Z"
   },
   {
    "duration": 51,
    "start_time": "2024-06-11T11:06:23.876Z"
   },
   {
    "duration": 28,
    "start_time": "2024-06-11T11:06:23.929Z"
   },
   {
    "duration": 5,
    "start_time": "2024-06-11T11:06:23.959Z"
   },
   {
    "duration": 14,
    "start_time": "2024-06-11T11:06:23.966Z"
   },
   {
    "duration": 6,
    "start_time": "2024-06-11T11:06:23.982Z"
   },
   {
    "duration": 20,
    "start_time": "2024-06-11T11:06:23.989Z"
   },
   {
    "duration": 9,
    "start_time": "2024-06-11T11:06:24.011Z"
   },
   {
    "duration": 18,
    "start_time": "2024-06-11T11:06:24.021Z"
   },
   {
    "duration": 155,
    "start_time": "2024-06-11T11:06:24.041Z"
   },
   {
    "duration": 11,
    "start_time": "2024-06-11T11:06:24.198Z"
   },
   {
    "duration": 90,
    "start_time": "2024-06-11T11:06:24.211Z"
   },
   {
    "duration": 187,
    "start_time": "2024-06-11T11:06:24.303Z"
   },
   {
    "duration": 211,
    "start_time": "2024-06-11T11:06:24.492Z"
   },
   {
    "duration": 212,
    "start_time": "2024-06-11T11:06:24.705Z"
   },
   {
    "duration": 44,
    "start_time": "2024-06-11T11:06:24.919Z"
   },
   {
    "duration": 5,
    "start_time": "2024-06-11T11:06:24.965Z"
   },
   {
    "duration": 12,
    "start_time": "2024-06-11T11:06:24.972Z"
   },
   {
    "duration": 191,
    "start_time": "2024-06-11T11:06:24.986Z"
   },
   {
    "duration": 180,
    "start_time": "2024-06-11T11:06:25.179Z"
   },
   {
    "duration": 203,
    "start_time": "2024-06-11T11:06:25.360Z"
   },
   {
    "duration": 194,
    "start_time": "2024-06-11T11:06:25.565Z"
   },
   {
    "duration": 29,
    "start_time": "2024-06-11T11:06:25.762Z"
   },
   {
    "duration": 24,
    "start_time": "2024-06-11T11:06:25.792Z"
   },
   {
    "duration": 164,
    "start_time": "2024-06-11T11:06:25.818Z"
   },
   {
    "duration": 23,
    "start_time": "2024-06-11T11:06:25.983Z"
   },
   {
    "duration": 167,
    "start_time": "2024-06-11T11:06:26.008Z"
   },
   {
    "duration": 10,
    "start_time": "2024-06-11T11:07:33.825Z"
   },
   {
    "duration": 10,
    "start_time": "2024-06-11T11:09:26.377Z"
   },
   {
    "duration": 1214,
    "start_time": "2024-06-11T11:11:25.042Z"
   },
   {
    "duration": 78,
    "start_time": "2024-06-11T11:11:26.258Z"
   },
   {
    "duration": 5,
    "start_time": "2024-06-11T11:11:26.338Z"
   },
   {
    "duration": 14,
    "start_time": "2024-06-11T11:11:26.344Z"
   },
   {
    "duration": 19,
    "start_time": "2024-06-11T11:11:26.360Z"
   },
   {
    "duration": 31,
    "start_time": "2024-06-11T11:11:26.381Z"
   },
   {
    "duration": 27,
    "start_time": "2024-06-11T11:11:26.413Z"
   },
   {
    "duration": 18,
    "start_time": "2024-06-11T11:11:26.442Z"
   },
   {
    "duration": 5,
    "start_time": "2024-06-11T11:11:26.462Z"
   },
   {
    "duration": 17,
    "start_time": "2024-06-11T11:11:26.470Z"
   },
   {
    "duration": 12,
    "start_time": "2024-06-11T11:11:26.488Z"
   },
   {
    "duration": 13,
    "start_time": "2024-06-11T11:11:26.502Z"
   },
   {
    "duration": 6,
    "start_time": "2024-06-11T11:11:26.516Z"
   },
   {
    "duration": 25,
    "start_time": "2024-06-11T11:11:26.524Z"
   },
   {
    "duration": 157,
    "start_time": "2024-06-11T11:11:26.551Z"
   },
   {
    "duration": 11,
    "start_time": "2024-06-11T11:11:26.710Z"
   },
   {
    "duration": 92,
    "start_time": "2024-06-11T11:11:26.723Z"
   },
   {
    "duration": 188,
    "start_time": "2024-06-11T11:11:26.817Z"
   },
   {
    "duration": 209,
    "start_time": "2024-06-11T11:11:27.006Z"
   },
   {
    "duration": 213,
    "start_time": "2024-06-11T11:11:27.217Z"
   },
   {
    "duration": 42,
    "start_time": "2024-06-11T11:11:27.432Z"
   },
   {
    "duration": 5,
    "start_time": "2024-06-11T11:11:27.476Z"
   },
   {
    "duration": 20,
    "start_time": "2024-06-11T11:11:27.482Z"
   },
   {
    "duration": 192,
    "start_time": "2024-06-11T11:11:27.504Z"
   },
   {
    "duration": 183,
    "start_time": "2024-06-11T11:11:27.698Z"
   },
   {
    "duration": 189,
    "start_time": "2024-06-11T11:11:27.883Z"
   },
   {
    "duration": 202,
    "start_time": "2024-06-11T11:11:28.074Z"
   },
   {
    "duration": 27,
    "start_time": "2024-06-11T11:11:28.279Z"
   },
   {
    "duration": 20,
    "start_time": "2024-06-11T11:11:28.308Z"
   },
   {
    "duration": 127,
    "start_time": "2024-06-11T11:11:28.346Z"
   },
   {
    "duration": 20,
    "start_time": "2024-06-11T11:11:28.475Z"
   },
   {
    "duration": 11,
    "start_time": "2024-06-11T11:11:28.496Z"
   },
   {
    "duration": 15,
    "start_time": "2024-06-11T14:43:42.642Z"
   },
   {
    "duration": 12,
    "start_time": "2024-06-11T14:50:41.007Z"
   },
   {
    "duration": 9,
    "start_time": "2024-06-11T14:56:42.412Z"
   },
   {
    "duration": 14,
    "start_time": "2024-06-11T16:12:35.147Z"
   },
   {
    "duration": 10,
    "start_time": "2024-06-11T16:12:57.141Z"
   },
   {
    "duration": 1060,
    "start_time": "2024-06-11T16:27:47.780Z"
   },
   {
    "duration": 84,
    "start_time": "2024-06-11T16:27:48.842Z"
   },
   {
    "duration": 5,
    "start_time": "2024-06-11T16:27:48.928Z"
   },
   {
    "duration": 14,
    "start_time": "2024-06-11T16:27:48.934Z"
   },
   {
    "duration": 28,
    "start_time": "2024-06-11T16:27:48.951Z"
   },
   {
    "duration": 6,
    "start_time": "2024-06-11T16:27:48.981Z"
   },
   {
    "duration": 7,
    "start_time": "2024-06-11T16:27:48.989Z"
   },
   {
    "duration": 19,
    "start_time": "2024-06-11T16:27:48.998Z"
   },
   {
    "duration": 7,
    "start_time": "2024-06-11T16:27:49.018Z"
   },
   {
    "duration": 11,
    "start_time": "2024-06-11T16:27:49.026Z"
   },
   {
    "duration": 13,
    "start_time": "2024-06-11T16:27:49.039Z"
   },
   {
    "duration": 24,
    "start_time": "2024-06-11T16:27:49.053Z"
   },
   {
    "duration": 6,
    "start_time": "2024-06-11T16:27:49.079Z"
   },
   {
    "duration": 17,
    "start_time": "2024-06-11T16:27:49.088Z"
   },
   {
    "duration": 139,
    "start_time": "2024-06-11T16:27:49.106Z"
   },
   {
    "duration": 11,
    "start_time": "2024-06-11T16:27:49.246Z"
   },
   {
    "duration": 91,
    "start_time": "2024-06-11T16:27:49.259Z"
   },
   {
    "duration": 171,
    "start_time": "2024-06-11T16:27:49.351Z"
   },
   {
    "duration": 184,
    "start_time": "2024-06-11T16:27:49.524Z"
   },
   {
    "duration": 193,
    "start_time": "2024-06-11T16:27:49.709Z"
   },
   {
    "duration": 33,
    "start_time": "2024-06-11T16:27:49.903Z"
   },
   {
    "duration": 4,
    "start_time": "2024-06-11T16:27:49.946Z"
   },
   {
    "duration": 12,
    "start_time": "2024-06-11T16:27:49.951Z"
   },
   {
    "duration": 179,
    "start_time": "2024-06-11T16:27:49.964Z"
   },
   {
    "duration": 169,
    "start_time": "2024-06-11T16:27:50.144Z"
   },
   {
    "duration": 187,
    "start_time": "2024-06-11T16:27:50.314Z"
   },
   {
    "duration": 202,
    "start_time": "2024-06-11T16:27:50.502Z"
   },
   {
    "duration": 25,
    "start_time": "2024-06-11T16:27:50.706Z"
   },
   {
    "duration": 29,
    "start_time": "2024-06-11T16:27:50.733Z"
   },
   {
    "duration": 133,
    "start_time": "2024-06-11T16:27:50.763Z"
   },
   {
    "duration": 20,
    "start_time": "2024-06-11T16:27:50.898Z"
   },
   {
    "duration": 57,
    "start_time": "2024-06-11T16:27:50.920Z"
   },
   {
    "duration": 47,
    "start_time": "2024-06-11T16:27:50.978Z"
   },
   {
    "duration": 16,
    "start_time": "2024-06-11T16:27:51.027Z"
   },
   {
    "duration": 9,
    "start_time": "2024-06-11T16:29:41.177Z"
   },
   {
    "duration": 11,
    "start_time": "2024-06-11T16:29:54.989Z"
   },
   {
    "duration": 14,
    "start_time": "2024-06-11T16:30:20.525Z"
   },
   {
    "duration": 11,
    "start_time": "2024-06-11T16:30:22.197Z"
   },
   {
    "duration": 8,
    "start_time": "2024-06-11T16:30:34.241Z"
   },
   {
    "duration": 12,
    "start_time": "2024-06-11T16:30:41.760Z"
   },
   {
    "duration": 20,
    "start_time": "2024-06-11T16:51:00.442Z"
   },
   {
    "duration": 42,
    "start_time": "2024-06-11T16:51:04.061Z"
   },
   {
    "duration": 22,
    "start_time": "2024-06-11T16:51:08.361Z"
   },
   {
    "duration": 1214,
    "start_time": "2024-06-11T17:12:31.724Z"
   },
   {
    "duration": 79,
    "start_time": "2024-06-11T17:12:32.940Z"
   },
   {
    "duration": 18,
    "start_time": "2024-06-11T17:12:33.021Z"
   },
   {
    "duration": 18,
    "start_time": "2024-06-11T17:12:33.041Z"
   },
   {
    "duration": 19,
    "start_time": "2024-06-11T17:12:33.062Z"
   },
   {
    "duration": 21,
    "start_time": "2024-06-11T17:12:33.083Z"
   },
   {
    "duration": 9,
    "start_time": "2024-06-11T17:12:33.107Z"
   },
   {
    "duration": 34,
    "start_time": "2024-06-11T17:12:33.118Z"
   },
   {
    "duration": 11,
    "start_time": "2024-06-11T17:12:33.154Z"
   },
   {
    "duration": 8,
    "start_time": "2024-06-11T17:12:33.167Z"
   },
   {
    "duration": 16,
    "start_time": "2024-06-11T17:12:33.177Z"
   },
   {
    "duration": 9,
    "start_time": "2024-06-11T17:12:33.195Z"
   },
   {
    "duration": 10,
    "start_time": "2024-06-11T17:12:33.206Z"
   },
   {
    "duration": 10,
    "start_time": "2024-06-11T17:12:33.248Z"
   },
   {
    "duration": 6,
    "start_time": "2024-06-11T17:12:33.260Z"
   },
   {
    "duration": 15,
    "start_time": "2024-06-11T17:12:33.268Z"
   },
   {
    "duration": 16,
    "start_time": "2024-06-11T17:12:33.285Z"
   },
   {
    "duration": 9,
    "start_time": "2024-06-11T17:12:33.302Z"
   },
   {
    "duration": 8,
    "start_time": "2024-06-11T17:12:33.313Z"
   },
   {
    "duration": 34,
    "start_time": "2024-06-11T17:12:33.322Z"
   },
   {
    "duration": 166,
    "start_time": "2024-06-11T17:12:33.357Z"
   },
   {
    "duration": 10,
    "start_time": "2024-06-11T17:12:33.525Z"
   },
   {
    "duration": 94,
    "start_time": "2024-06-11T17:12:33.546Z"
   },
   {
    "duration": 180,
    "start_time": "2024-06-11T17:12:33.645Z"
   },
   {
    "duration": 193,
    "start_time": "2024-06-11T17:12:33.828Z"
   },
   {
    "duration": 206,
    "start_time": "2024-06-11T17:12:34.024Z"
   },
   {
    "duration": 55,
    "start_time": "2024-06-11T17:12:34.232Z"
   },
   {
    "duration": 4,
    "start_time": "2024-06-11T17:12:34.289Z"
   },
   {
    "duration": 21,
    "start_time": "2024-06-11T17:12:34.295Z"
   },
   {
    "duration": 169,
    "start_time": "2024-06-11T17:12:34.318Z"
   },
   {
    "duration": 201,
    "start_time": "2024-06-11T17:12:34.488Z"
   },
   {
    "duration": 188,
    "start_time": "2024-06-11T17:12:34.692Z"
   },
   {
    "duration": 217,
    "start_time": "2024-06-11T17:12:34.881Z"
   },
   {
    "duration": 21,
    "start_time": "2024-06-11T17:12:35.100Z"
   },
   {
    "duration": 167,
    "start_time": "2024-06-11T17:12:35.122Z"
   },
   {
    "duration": 22,
    "start_time": "2024-06-11T17:12:35.291Z"
   },
   {
    "duration": 13,
    "start_time": "2024-06-11T17:12:35.315Z"
   },
   {
    "duration": 9,
    "start_time": "2024-06-11T17:12:35.346Z"
   },
   {
    "duration": 36,
    "start_time": "2024-06-11T17:12:35.356Z"
   },
   {
    "duration": 1325,
    "start_time": "2024-06-12T10:31:08.827Z"
   },
   {
    "duration": 218,
    "start_time": "2024-06-12T10:31:10.155Z"
   },
   {
    "duration": 14,
    "start_time": "2024-06-12T10:31:10.375Z"
   },
   {
    "duration": 12,
    "start_time": "2024-06-12T10:31:10.391Z"
   },
   {
    "duration": 11,
    "start_time": "2024-06-12T10:31:10.406Z"
   },
   {
    "duration": 34,
    "start_time": "2024-06-12T10:31:10.420Z"
   },
   {
    "duration": 12,
    "start_time": "2024-06-12T10:31:10.456Z"
   },
   {
    "duration": 20,
    "start_time": "2024-06-12T10:31:10.471Z"
   },
   {
    "duration": 10,
    "start_time": "2024-06-12T10:31:10.493Z"
   },
   {
    "duration": 14,
    "start_time": "2024-06-12T10:31:10.505Z"
   },
   {
    "duration": 20,
    "start_time": "2024-06-12T10:31:10.520Z"
   },
   {
    "duration": 5,
    "start_time": "2024-06-12T10:31:10.542Z"
   },
   {
    "duration": 16,
    "start_time": "2024-06-12T10:31:10.549Z"
   },
   {
    "duration": 8,
    "start_time": "2024-06-12T10:31:10.568Z"
   },
   {
    "duration": 5,
    "start_time": "2024-06-12T10:31:10.577Z"
   },
   {
    "duration": 6,
    "start_time": "2024-06-12T10:31:10.583Z"
   },
   {
    "duration": 8,
    "start_time": "2024-06-12T10:31:10.591Z"
   },
   {
    "duration": 4,
    "start_time": "2024-06-12T10:31:10.601Z"
   },
   {
    "duration": 6,
    "start_time": "2024-06-12T10:31:10.607Z"
   },
   {
    "duration": 15,
    "start_time": "2024-06-12T10:31:10.615Z"
   },
   {
    "duration": 152,
    "start_time": "2024-06-12T10:31:10.665Z"
   },
   {
    "duration": 11,
    "start_time": "2024-06-12T10:31:10.819Z"
   },
   {
    "duration": 88,
    "start_time": "2024-06-12T10:31:10.832Z"
   },
   {
    "duration": 175,
    "start_time": "2024-06-12T10:31:10.922Z"
   },
   {
    "duration": 182,
    "start_time": "2024-06-12T10:31:11.099Z"
   },
   {
    "duration": 191,
    "start_time": "2024-06-12T10:31:11.283Z"
   },
   {
    "duration": 32,
    "start_time": "2024-06-12T10:31:11.476Z"
   },
   {
    "duration": 83,
    "start_time": "2024-06-12T10:31:11.510Z"
   },
   {
    "duration": 21,
    "start_time": "2024-06-12T10:31:11.595Z"
   },
   {
    "duration": 166,
    "start_time": "2024-06-12T10:31:11.619Z"
   },
   {
    "duration": 213,
    "start_time": "2024-06-12T10:31:11.787Z"
   },
   {
    "duration": 180,
    "start_time": "2024-06-12T10:31:12.002Z"
   },
   {
    "duration": 183,
    "start_time": "2024-06-12T10:31:12.184Z"
   },
   {
    "duration": 20,
    "start_time": "2024-06-12T10:31:12.368Z"
   },
   {
    "duration": 144,
    "start_time": "2024-06-12T10:31:12.390Z"
   },
   {
    "duration": 30,
    "start_time": "2024-06-12T10:31:12.536Z"
   },
   {
    "duration": 12,
    "start_time": "2024-06-12T10:31:12.568Z"
   },
   {
    "duration": 31,
    "start_time": "2024-06-12T10:31:12.581Z"
   },
   {
    "duration": 15,
    "start_time": "2024-06-12T10:31:12.614Z"
   },
   {
    "duration": 47,
    "start_time": "2024-06-12T14:42:02.849Z"
   },
   {
    "duration": 1189,
    "start_time": "2024-06-12T14:42:12.216Z"
   },
   {
    "duration": 286,
    "start_time": "2024-06-12T14:42:13.407Z"
   },
   {
    "duration": 12,
    "start_time": "2024-06-12T14:42:13.694Z"
   },
   {
    "duration": 9,
    "start_time": "2024-06-12T14:42:13.708Z"
   },
   {
    "duration": 9,
    "start_time": "2024-06-12T14:42:13.718Z"
   },
   {
    "duration": 9,
    "start_time": "2024-06-12T14:42:13.728Z"
   },
   {
    "duration": 6,
    "start_time": "2024-06-12T14:42:13.738Z"
   },
   {
    "duration": 7,
    "start_time": "2024-06-12T14:42:13.745Z"
   },
   {
    "duration": 31,
    "start_time": "2024-06-12T14:42:13.754Z"
   },
   {
    "duration": 6,
    "start_time": "2024-06-12T14:42:13.788Z"
   },
   {
    "duration": 7,
    "start_time": "2024-06-12T14:42:13.795Z"
   },
   {
    "duration": 6,
    "start_time": "2024-06-12T14:42:13.803Z"
   },
   {
    "duration": 14,
    "start_time": "2024-06-12T14:42:13.810Z"
   },
   {
    "duration": 7,
    "start_time": "2024-06-12T14:42:13.826Z"
   },
   {
    "duration": 4,
    "start_time": "2024-06-12T14:42:13.835Z"
   },
   {
    "duration": 9,
    "start_time": "2024-06-12T14:42:13.841Z"
   },
   {
    "duration": 5,
    "start_time": "2024-06-12T14:42:13.851Z"
   },
   {
    "duration": 5,
    "start_time": "2024-06-12T14:42:13.885Z"
   },
   {
    "duration": 7,
    "start_time": "2024-06-12T14:42:13.892Z"
   },
   {
    "duration": 14,
    "start_time": "2024-06-12T14:42:13.900Z"
   },
   {
    "duration": 204,
    "start_time": "2024-06-12T14:42:13.915Z"
   },
   {
    "duration": 0,
    "start_time": "2024-06-12T14:42:14.121Z"
   },
   {
    "duration": 0,
    "start_time": "2024-06-12T14:42:14.122Z"
   },
   {
    "duration": 0,
    "start_time": "2024-06-12T14:42:14.123Z"
   },
   {
    "duration": 0,
    "start_time": "2024-06-12T14:42:14.123Z"
   },
   {
    "duration": 0,
    "start_time": "2024-06-12T14:42:14.124Z"
   },
   {
    "duration": 0,
    "start_time": "2024-06-12T14:42:14.125Z"
   },
   {
    "duration": 0,
    "start_time": "2024-06-12T14:42:14.126Z"
   },
   {
    "duration": 0,
    "start_time": "2024-06-12T14:42:14.127Z"
   },
   {
    "duration": 0,
    "start_time": "2024-06-12T14:42:14.127Z"
   },
   {
    "duration": 0,
    "start_time": "2024-06-12T14:42:14.128Z"
   },
   {
    "duration": 0,
    "start_time": "2024-06-12T14:42:14.129Z"
   },
   {
    "duration": 0,
    "start_time": "2024-06-12T14:42:14.130Z"
   },
   {
    "duration": 0,
    "start_time": "2024-06-12T14:42:14.131Z"
   },
   {
    "duration": 0,
    "start_time": "2024-06-12T14:42:14.132Z"
   },
   {
    "duration": 0,
    "start_time": "2024-06-12T14:42:14.133Z"
   },
   {
    "duration": 0,
    "start_time": "2024-06-12T14:42:14.134Z"
   },
   {
    "duration": 0,
    "start_time": "2024-06-12T14:42:14.135Z"
   },
   {
    "duration": 0,
    "start_time": "2024-06-12T14:42:14.136Z"
   },
   {
    "duration": 110,
    "start_time": "2024-06-12T14:43:04.757Z"
   },
   {
    "duration": 114,
    "start_time": "2024-06-12T14:43:56.885Z"
   },
   {
    "duration": 7,
    "start_time": "2024-06-12T14:44:29.719Z"
   },
   {
    "duration": 7,
    "start_time": "2024-06-12T14:45:00.185Z"
   },
   {
    "duration": 104,
    "start_time": "2024-06-12T14:45:32.349Z"
   },
   {
    "duration": 111,
    "start_time": "2024-06-12T14:45:57.550Z"
   },
   {
    "duration": 105,
    "start_time": "2024-06-12T14:46:23.138Z"
   },
   {
    "duration": 950,
    "start_time": "2024-06-12T14:50:41.360Z"
   },
   {
    "duration": 64,
    "start_time": "2024-06-12T14:50:42.312Z"
   },
   {
    "duration": 19,
    "start_time": "2024-06-12T14:50:42.377Z"
   },
   {
    "duration": 9,
    "start_time": "2024-06-12T14:50:42.398Z"
   },
   {
    "duration": 8,
    "start_time": "2024-06-12T14:50:42.408Z"
   },
   {
    "duration": 17,
    "start_time": "2024-06-12T14:50:42.417Z"
   },
   {
    "duration": 7,
    "start_time": "2024-06-12T14:50:42.435Z"
   },
   {
    "duration": 9,
    "start_time": "2024-06-12T14:50:42.443Z"
   },
   {
    "duration": 3,
    "start_time": "2024-06-12T14:50:42.454Z"
   },
   {
    "duration": 19,
    "start_time": "2024-06-12T14:50:42.459Z"
   },
   {
    "duration": 21,
    "start_time": "2024-06-12T14:50:42.479Z"
   },
   {
    "duration": 5,
    "start_time": "2024-06-12T14:50:42.501Z"
   },
   {
    "duration": 5,
    "start_time": "2024-06-12T14:50:42.507Z"
   },
   {
    "duration": 8,
    "start_time": "2024-06-12T14:50:42.514Z"
   },
   {
    "duration": 4,
    "start_time": "2024-06-12T14:50:42.524Z"
   },
   {
    "duration": 4,
    "start_time": "2024-06-12T14:50:42.529Z"
   },
   {
    "duration": 7,
    "start_time": "2024-06-12T14:50:42.534Z"
   },
   {
    "duration": 6,
    "start_time": "2024-06-12T14:50:42.543Z"
   },
   {
    "duration": 12,
    "start_time": "2024-06-12T14:50:42.550Z"
   },
   {
    "duration": 31,
    "start_time": "2024-06-12T14:50:42.563Z"
   },
   {
    "duration": 146,
    "start_time": "2024-06-12T14:50:42.596Z"
   },
   {
    "duration": 18,
    "start_time": "2024-06-12T14:50:42.744Z"
   },
   {
    "duration": 81,
    "start_time": "2024-06-12T14:50:42.764Z"
   },
   {
    "duration": 147,
    "start_time": "2024-06-12T14:50:42.846Z"
   },
   {
    "duration": 142,
    "start_time": "2024-06-12T14:50:42.995Z"
   },
   {
    "duration": 161,
    "start_time": "2024-06-12T14:50:43.139Z"
   },
   {
    "duration": 25,
    "start_time": "2024-06-12T14:50:43.302Z"
   },
   {
    "duration": 3,
    "start_time": "2024-06-12T14:50:43.330Z"
   },
   {
    "duration": 8,
    "start_time": "2024-06-12T14:50:43.334Z"
   },
   {
    "duration": 137,
    "start_time": "2024-06-12T14:50:43.343Z"
   },
   {
    "duration": 140,
    "start_time": "2024-06-12T14:50:43.481Z"
   },
   {
    "duration": 137,
    "start_time": "2024-06-12T14:50:43.623Z"
   },
   {
    "duration": 148,
    "start_time": "2024-06-12T14:50:43.761Z"
   },
   {
    "duration": 15,
    "start_time": "2024-06-12T14:50:43.910Z"
   },
   {
    "duration": 105,
    "start_time": "2024-06-12T14:50:43.926Z"
   },
   {
    "duration": 15,
    "start_time": "2024-06-12T14:50:44.032Z"
   },
   {
    "duration": 7,
    "start_time": "2024-06-12T14:50:44.048Z"
   },
   {
    "duration": 5,
    "start_time": "2024-06-12T14:50:44.057Z"
   },
   {
    "duration": 21,
    "start_time": "2024-06-12T14:50:44.063Z"
   },
   {
    "duration": 84,
    "start_time": "2024-06-12T15:24:49.970Z"
   },
   {
    "duration": 145,
    "start_time": "2024-06-12T15:24:55.718Z"
   },
   {
    "duration": 111,
    "start_time": "2024-06-12T15:26:23.158Z"
   },
   {
    "duration": 123,
    "start_time": "2024-06-12T15:26:30.793Z"
   },
   {
    "duration": 122,
    "start_time": "2024-06-12T15:27:13.082Z"
   },
   {
    "duration": 107,
    "start_time": "2024-06-12T15:28:28.022Z"
   },
   {
    "duration": 138,
    "start_time": "2024-06-12T15:28:54.910Z"
   },
   {
    "duration": 187,
    "start_time": "2024-06-12T15:29:43.662Z"
   },
   {
    "duration": 187,
    "start_time": "2024-06-12T15:31:48.888Z"
   },
   {
    "duration": 68,
    "start_time": "2024-06-12T15:34:10.224Z"
   },
   {
    "duration": 9,
    "start_time": "2024-06-12T15:34:31.216Z"
   },
   {
    "duration": 929,
    "start_time": "2024-06-12T15:37:36.527Z"
   },
   {
    "duration": 63,
    "start_time": "2024-06-12T15:37:37.458Z"
   },
   {
    "duration": 10,
    "start_time": "2024-06-12T15:37:37.522Z"
   },
   {
    "duration": 11,
    "start_time": "2024-06-12T15:37:37.534Z"
   },
   {
    "duration": 11,
    "start_time": "2024-06-12T15:37:37.546Z"
   },
   {
    "duration": 9,
    "start_time": "2024-06-12T15:37:37.558Z"
   },
   {
    "duration": 7,
    "start_time": "2024-06-12T15:37:37.568Z"
   },
   {
    "duration": 9,
    "start_time": "2024-06-12T15:37:37.576Z"
   },
   {
    "duration": 5,
    "start_time": "2024-06-12T15:37:37.586Z"
   },
   {
    "duration": 8,
    "start_time": "2024-06-12T15:37:37.594Z"
   },
   {
    "duration": 15,
    "start_time": "2024-06-12T15:37:37.603Z"
   },
   {
    "duration": 5,
    "start_time": "2024-06-12T15:37:37.619Z"
   },
   {
    "duration": 6,
    "start_time": "2024-06-12T15:37:37.625Z"
   },
   {
    "duration": 8,
    "start_time": "2024-06-12T15:37:37.632Z"
   },
   {
    "duration": 5,
    "start_time": "2024-06-12T15:37:37.641Z"
   },
   {
    "duration": 5,
    "start_time": "2024-06-12T15:37:37.647Z"
   },
   {
    "duration": 31,
    "start_time": "2024-06-12T15:37:37.654Z"
   },
   {
    "duration": 4,
    "start_time": "2024-06-12T15:37:37.686Z"
   },
   {
    "duration": 5,
    "start_time": "2024-06-12T15:37:37.692Z"
   },
   {
    "duration": 12,
    "start_time": "2024-06-12T15:37:37.698Z"
   },
   {
    "duration": 130,
    "start_time": "2024-06-12T15:37:37.711Z"
   },
   {
    "duration": 9,
    "start_time": "2024-06-12T15:37:37.842Z"
   },
   {
    "duration": 72,
    "start_time": "2024-06-12T15:37:37.852Z"
   },
   {
    "duration": 133,
    "start_time": "2024-06-12T15:37:37.925Z"
   },
   {
    "duration": 146,
    "start_time": "2024-06-12T15:37:38.059Z"
   },
   {
    "duration": 151,
    "start_time": "2024-06-12T15:37:38.207Z"
   },
   {
    "duration": 34,
    "start_time": "2024-06-12T15:37:38.359Z"
   },
   {
    "duration": 3,
    "start_time": "2024-06-12T15:37:38.396Z"
   },
   {
    "duration": 11,
    "start_time": "2024-06-12T15:37:38.400Z"
   },
   {
    "duration": 121,
    "start_time": "2024-06-12T15:37:38.413Z"
   },
   {
    "duration": 143,
    "start_time": "2024-06-12T15:37:38.536Z"
   },
   {
    "duration": 194,
    "start_time": "2024-06-12T15:37:38.684Z"
   },
   {
    "duration": 177,
    "start_time": "2024-06-12T15:37:38.883Z"
   },
   {
    "duration": 151,
    "start_time": "2024-06-12T15:37:39.061Z"
   },
   {
    "duration": 24,
    "start_time": "2024-06-12T15:37:39.214Z"
   },
   {
    "duration": 67,
    "start_time": "2024-06-12T15:37:39.240Z"
   },
   {
    "duration": 24,
    "start_time": "2024-06-12T15:37:39.308Z"
   },
   {
    "duration": 11,
    "start_time": "2024-06-12T15:37:39.333Z"
   },
   {
    "duration": 8,
    "start_time": "2024-06-12T15:37:39.345Z"
   },
   {
    "duration": 31,
    "start_time": "2024-06-12T15:37:39.354Z"
   },
   {
    "duration": 1367,
    "start_time": "2024-06-13T15:30:16.936Z"
   },
   {
    "duration": 321,
    "start_time": "2024-06-13T15:30:18.305Z"
   },
   {
    "duration": 14,
    "start_time": "2024-06-13T15:30:18.628Z"
   },
   {
    "duration": 25,
    "start_time": "2024-06-13T15:30:18.644Z"
   },
   {
    "duration": 17,
    "start_time": "2024-06-13T15:30:18.671Z"
   },
   {
    "duration": 26,
    "start_time": "2024-06-13T15:30:18.691Z"
   },
   {
    "duration": 9,
    "start_time": "2024-06-13T15:30:18.719Z"
   },
   {
    "duration": 32,
    "start_time": "2024-06-13T15:30:18.730Z"
   },
   {
    "duration": 42,
    "start_time": "2024-06-13T15:30:18.764Z"
   },
   {
    "duration": 20,
    "start_time": "2024-06-13T15:30:18.810Z"
   },
   {
    "duration": 21,
    "start_time": "2024-06-13T15:30:18.832Z"
   },
   {
    "duration": 29,
    "start_time": "2024-06-13T15:30:18.854Z"
   },
   {
    "duration": 33,
    "start_time": "2024-06-13T15:30:18.885Z"
   },
   {
    "duration": 30,
    "start_time": "2024-06-13T15:30:18.919Z"
   },
   {
    "duration": 18,
    "start_time": "2024-06-13T15:30:18.951Z"
   },
   {
    "duration": 9,
    "start_time": "2024-06-13T15:30:18.971Z"
   },
   {
    "duration": 14,
    "start_time": "2024-06-13T15:30:18.982Z"
   },
   {
    "duration": 16,
    "start_time": "2024-06-13T15:30:18.997Z"
   },
   {
    "duration": 14,
    "start_time": "2024-06-13T15:30:19.015Z"
   },
   {
    "duration": 35,
    "start_time": "2024-06-13T15:30:19.031Z"
   },
   {
    "duration": 168,
    "start_time": "2024-06-13T15:30:19.068Z"
   },
   {
    "duration": 12,
    "start_time": "2024-06-13T15:30:19.238Z"
   },
   {
    "duration": 94,
    "start_time": "2024-06-13T15:30:19.251Z"
   },
   {
    "duration": 191,
    "start_time": "2024-06-13T15:30:19.347Z"
   },
   {
    "duration": 225,
    "start_time": "2024-06-13T15:30:19.540Z"
   },
   {
    "duration": 275,
    "start_time": "2024-06-13T15:30:19.766Z"
   },
   {
    "duration": 61,
    "start_time": "2024-06-13T15:30:20.044Z"
   },
   {
    "duration": 5,
    "start_time": "2024-06-13T15:30:20.109Z"
   },
   {
    "duration": 22,
    "start_time": "2024-06-13T15:30:20.116Z"
   },
   {
    "duration": 198,
    "start_time": "2024-06-13T15:30:20.140Z"
   },
   {
    "duration": 196,
    "start_time": "2024-06-13T15:30:20.340Z"
   },
   {
    "duration": 279,
    "start_time": "2024-06-13T15:30:20.538Z"
   },
   {
    "duration": 283,
    "start_time": "2024-06-13T15:30:20.819Z"
   },
   {
    "duration": 214,
    "start_time": "2024-06-13T15:30:21.104Z"
   },
   {
    "duration": 21,
    "start_time": "2024-06-13T15:30:21.320Z"
   },
   {
    "duration": 89,
    "start_time": "2024-06-13T15:30:21.343Z"
   },
   {
    "duration": 21,
    "start_time": "2024-06-13T15:30:21.434Z"
   },
   {
    "duration": 11,
    "start_time": "2024-06-13T15:30:21.457Z"
   },
   {
    "duration": 52,
    "start_time": "2024-06-13T15:30:21.470Z"
   },
   {
    "duration": 12,
    "start_time": "2024-06-13T15:30:21.523Z"
   },
   {
    "duration": 270,
    "start_time": "2024-06-13T15:31:00.848Z"
   },
   {
    "duration": 163,
    "start_time": "2024-06-13T15:31:07.887Z"
   },
   {
    "duration": 151,
    "start_time": "2024-06-13T15:31:25.892Z"
   },
   {
    "duration": 151,
    "start_time": "2024-06-13T15:32:06.736Z"
   },
   {
    "duration": 163,
    "start_time": "2024-06-13T15:32:58.324Z"
   },
   {
    "duration": 158,
    "start_time": "2024-06-13T15:39:44.430Z"
   },
   {
    "duration": 162,
    "start_time": "2024-06-13T15:40:01.646Z"
   },
   {
    "duration": 167,
    "start_time": "2024-06-13T15:40:16.794Z"
   },
   {
    "duration": 150,
    "start_time": "2024-06-13T15:41:37.998Z"
   },
   {
    "duration": 265,
    "start_time": "2024-06-13T15:42:06.599Z"
   },
   {
    "duration": 164,
    "start_time": "2024-06-13T15:43:31.439Z"
   },
   {
    "duration": 152,
    "start_time": "2024-06-13T15:57:40.127Z"
   },
   {
    "duration": 848,
    "start_time": "2024-06-13T15:57:46.146Z"
   },
   {
    "duration": 156,
    "start_time": "2024-06-13T16:01:15.652Z"
   },
   {
    "duration": 167,
    "start_time": "2024-06-13T16:01:21.395Z"
   },
   {
    "duration": 172,
    "start_time": "2024-06-13T16:01:32.815Z"
   },
   {
    "duration": 218,
    "start_time": "2024-06-13T16:01:48.467Z"
   },
   {
    "duration": 184,
    "start_time": "2024-06-13T16:02:10.056Z"
   },
   {
    "duration": 166,
    "start_time": "2024-06-13T16:02:32.043Z"
   },
   {
    "duration": 182,
    "start_time": "2024-06-13T16:02:41.856Z"
   },
   {
    "duration": 69,
    "start_time": "2024-06-13T16:04:02.664Z"
   },
   {
    "duration": 62,
    "start_time": "2024-06-13T16:04:15.236Z"
   },
   {
    "duration": 247,
    "start_time": "2024-06-13T16:05:13.788Z"
   },
   {
    "duration": 152,
    "start_time": "2024-06-13T16:05:38.524Z"
   },
   {
    "duration": 124,
    "start_time": "2024-06-13T16:05:46.956Z"
   },
   {
    "duration": 172,
    "start_time": "2024-06-13T16:06:03.089Z"
   },
   {
    "duration": 175,
    "start_time": "2024-06-13T16:06:15.588Z"
   },
   {
    "duration": 145,
    "start_time": "2024-06-13T16:06:22.352Z"
   },
   {
    "duration": 13,
    "start_time": "2024-06-13T16:19:09.347Z"
   },
   {
    "duration": 12,
    "start_time": "2024-06-13T16:19:18.815Z"
   },
   {
    "duration": 79,
    "start_time": "2024-06-13T16:20:00.752Z"
   },
   {
    "duration": 13,
    "start_time": "2024-06-13T16:20:12.855Z"
   },
   {
    "duration": 10,
    "start_time": "2024-06-13T16:20:24.436Z"
   },
   {
    "duration": 11,
    "start_time": "2024-06-13T16:20:36.095Z"
   },
   {
    "duration": 175,
    "start_time": "2024-06-13T16:20:47.947Z"
   },
   {
    "duration": 156,
    "start_time": "2024-06-13T16:21:10.331Z"
   },
   {
    "duration": 12,
    "start_time": "2024-06-13T16:21:44.551Z"
   },
   {
    "duration": 12,
    "start_time": "2024-06-13T16:21:49.119Z"
   },
   {
    "duration": 149,
    "start_time": "2024-06-13T16:22:10.340Z"
   },
   {
    "duration": 158,
    "start_time": "2024-06-13T16:23:10.939Z"
   },
   {
    "duration": 152,
    "start_time": "2024-06-13T16:23:52.880Z"
   },
   {
    "duration": 243,
    "start_time": "2024-06-13T16:23:58.859Z"
   },
   {
    "duration": 171,
    "start_time": "2024-06-13T16:42:05.260Z"
   },
   {
    "duration": 166,
    "start_time": "2024-06-13T16:42:37.699Z"
   },
   {
    "duration": 202,
    "start_time": "2024-06-13T16:42:50.492Z"
   },
   {
    "duration": 174,
    "start_time": "2024-06-13T16:43:03.151Z"
   },
   {
    "duration": 177,
    "start_time": "2024-06-13T16:43:17.220Z"
   },
   {
    "duration": 180,
    "start_time": "2024-06-13T16:43:24.583Z"
   },
   {
    "duration": 162,
    "start_time": "2024-06-13T16:44:03.791Z"
   },
   {
    "duration": 172,
    "start_time": "2024-06-13T16:44:11.359Z"
   },
   {
    "duration": 172,
    "start_time": "2024-06-13T16:44:40.495Z"
   },
   {
    "duration": 173,
    "start_time": "2024-06-13T16:44:56.563Z"
   },
   {
    "duration": 202,
    "start_time": "2024-06-13T16:45:06.884Z"
   },
   {
    "duration": 12,
    "start_time": "2024-06-13T16:45:57.112Z"
   },
   {
    "duration": 281,
    "start_time": "2024-06-13T16:46:24.832Z"
   },
   {
    "duration": 184,
    "start_time": "2024-06-13T16:46:41.052Z"
   },
   {
    "duration": 63,
    "start_time": "2024-06-13T16:47:40.172Z"
   },
   {
    "duration": 1155,
    "start_time": "2024-06-13T16:47:58.339Z"
   },
   {
    "duration": 75,
    "start_time": "2024-06-13T16:47:59.497Z"
   },
   {
    "duration": 18,
    "start_time": "2024-06-13T16:47:59.574Z"
   },
   {
    "duration": 16,
    "start_time": "2024-06-13T16:47:59.595Z"
   },
   {
    "duration": 21,
    "start_time": "2024-06-13T16:47:59.614Z"
   },
   {
    "duration": 12,
    "start_time": "2024-06-13T16:47:59.637Z"
   },
   {
    "duration": 6,
    "start_time": "2024-06-13T16:47:59.650Z"
   },
   {
    "duration": 16,
    "start_time": "2024-06-13T16:47:59.658Z"
   },
   {
    "duration": 16,
    "start_time": "2024-06-13T16:47:59.676Z"
   },
   {
    "duration": 10,
    "start_time": "2024-06-13T16:47:59.695Z"
   },
   {
    "duration": 12,
    "start_time": "2024-06-13T16:47:59.707Z"
   },
   {
    "duration": 7,
    "start_time": "2024-06-13T16:47:59.721Z"
   },
   {
    "duration": 18,
    "start_time": "2024-06-13T16:47:59.730Z"
   },
   {
    "duration": 9,
    "start_time": "2024-06-13T16:47:59.750Z"
   },
   {
    "duration": 34,
    "start_time": "2024-06-13T16:47:59.761Z"
   },
   {
    "duration": 29,
    "start_time": "2024-06-13T16:47:59.796Z"
   },
   {
    "duration": 12,
    "start_time": "2024-06-13T16:47:59.827Z"
   },
   {
    "duration": 6,
    "start_time": "2024-06-13T16:47:59.840Z"
   },
   {
    "duration": 16,
    "start_time": "2024-06-13T16:47:59.847Z"
   },
   {
    "duration": 13,
    "start_time": "2024-06-13T16:47:59.865Z"
   },
   {
    "duration": 245,
    "start_time": "2024-06-13T16:47:59.880Z"
   },
   {
    "duration": 14,
    "start_time": "2024-06-13T16:48:00.130Z"
   },
   {
    "duration": 143,
    "start_time": "2024-06-13T16:48:00.146Z"
   },
   {
    "duration": 186,
    "start_time": "2024-06-13T16:48:00.291Z"
   },
   {
    "duration": 208,
    "start_time": "2024-06-13T16:48:00.479Z"
   },
   {
    "duration": 224,
    "start_time": "2024-06-13T16:48:00.690Z"
   },
   {
    "duration": 34,
    "start_time": "2024-06-13T16:48:00.916Z"
   },
   {
    "duration": 39,
    "start_time": "2024-06-13T16:48:00.953Z"
   },
   {
    "duration": 84,
    "start_time": "2024-06-13T16:48:00.995Z"
   },
   {
    "duration": 227,
    "start_time": "2024-06-13T16:48:01.081Z"
   },
   {
    "duration": 192,
    "start_time": "2024-06-13T16:48:01.310Z"
   },
   {
    "duration": 307,
    "start_time": "2024-06-13T16:48:01.504Z"
   },
   {
    "duration": 283,
    "start_time": "2024-06-13T16:48:01.813Z"
   },
   {
    "duration": 204,
    "start_time": "2024-06-13T16:48:02.098Z"
   },
   {
    "duration": 25,
    "start_time": "2024-06-13T16:48:02.304Z"
   },
   {
    "duration": 46,
    "start_time": "2024-06-13T16:48:02.330Z"
   },
   {
    "duration": 35,
    "start_time": "2024-06-13T16:48:02.391Z"
   },
   {
    "duration": 13,
    "start_time": "2024-06-13T16:48:02.427Z"
   },
   {
    "duration": 8,
    "start_time": "2024-06-13T16:48:02.442Z"
   },
   {
    "duration": 10,
    "start_time": "2024-06-13T16:48:02.451Z"
   },
   {
    "duration": 272,
    "start_time": "2024-06-13T16:48:52.291Z"
   },
   {
    "duration": 179,
    "start_time": "2024-06-13T16:49:06.383Z"
   },
   {
    "duration": 1139,
    "start_time": "2024-06-13T16:49:16.053Z"
   },
   {
    "duration": 78,
    "start_time": "2024-06-13T16:49:17.194Z"
   },
   {
    "duration": 15,
    "start_time": "2024-06-13T16:49:17.275Z"
   },
   {
    "duration": 31,
    "start_time": "2024-06-13T16:49:17.292Z"
   },
   {
    "duration": 23,
    "start_time": "2024-06-13T16:49:17.325Z"
   },
   {
    "duration": 41,
    "start_time": "2024-06-13T16:49:17.349Z"
   },
   {
    "duration": 8,
    "start_time": "2024-06-13T16:49:17.392Z"
   },
   {
    "duration": 35,
    "start_time": "2024-06-13T16:49:17.402Z"
   },
   {
    "duration": 6,
    "start_time": "2024-06-13T16:49:17.439Z"
   },
   {
    "duration": 7,
    "start_time": "2024-06-13T16:49:17.449Z"
   },
   {
    "duration": 16,
    "start_time": "2024-06-13T16:49:17.457Z"
   },
   {
    "duration": 28,
    "start_time": "2024-06-13T16:49:17.474Z"
   },
   {
    "duration": 10,
    "start_time": "2024-06-13T16:49:17.504Z"
   },
   {
    "duration": 26,
    "start_time": "2024-06-13T16:49:17.515Z"
   },
   {
    "duration": 35,
    "start_time": "2024-06-13T16:49:17.543Z"
   },
   {
    "duration": 23,
    "start_time": "2024-06-13T16:49:17.580Z"
   },
   {
    "duration": 25,
    "start_time": "2024-06-13T16:49:17.604Z"
   },
   {
    "duration": 34,
    "start_time": "2024-06-13T16:49:17.631Z"
   },
   {
    "duration": 42,
    "start_time": "2024-06-13T16:49:17.666Z"
   },
   {
    "duration": 42,
    "start_time": "2024-06-13T16:49:17.710Z"
   },
   {
    "duration": 190,
    "start_time": "2024-06-13T16:49:17.753Z"
   },
   {
    "duration": 12,
    "start_time": "2024-06-13T16:49:17.945Z"
   },
   {
    "duration": 106,
    "start_time": "2024-06-13T16:49:17.959Z"
   },
   {
    "duration": 187,
    "start_time": "2024-06-13T16:49:18.068Z"
   },
   {
    "duration": 195,
    "start_time": "2024-06-13T16:49:18.257Z"
   },
   {
    "duration": 188,
    "start_time": "2024-06-13T16:49:18.454Z"
   },
   {
    "duration": 32,
    "start_time": "2024-06-13T16:49:18.643Z"
   },
   {
    "duration": 4,
    "start_time": "2024-06-13T16:49:18.691Z"
   },
   {
    "duration": 13,
    "start_time": "2024-06-13T16:49:18.697Z"
   },
   {
    "duration": 179,
    "start_time": "2024-06-13T16:49:18.712Z"
   },
   {
    "duration": 194,
    "start_time": "2024-06-13T16:49:18.893Z"
   },
   {
    "duration": 265,
    "start_time": "2024-06-13T16:49:19.089Z"
   },
   {
    "duration": 298,
    "start_time": "2024-06-13T16:49:19.356Z"
   },
   {
    "duration": 210,
    "start_time": "2024-06-13T16:49:19.656Z"
   },
   {
    "duration": 33,
    "start_time": "2024-06-13T16:49:19.868Z"
   },
   {
    "duration": 60,
    "start_time": "2024-06-13T16:49:19.903Z"
   },
   {
    "duration": 31,
    "start_time": "2024-06-13T16:49:19.965Z"
   },
   {
    "duration": 11,
    "start_time": "2024-06-13T16:49:19.997Z"
   },
   {
    "duration": 25,
    "start_time": "2024-06-13T16:49:20.010Z"
   },
   {
    "duration": 29,
    "start_time": "2024-06-13T16:49:20.038Z"
   }
  ],
  "kernelspec": {
   "display_name": "Python 3 (ipykernel)",
   "language": "python",
   "name": "python3"
  },
  "language_info": {
   "codemirror_mode": {
    "name": "ipython",
    "version": 3
   },
   "file_extension": ".py",
   "mimetype": "text/x-python",
   "name": "python",
   "nbconvert_exporter": "python",
   "pygments_lexer": "ipython3",
   "version": "3.9.5"
  },
  "toc": {
   "base_numbering": 1,
   "nav_menu": {},
   "number_sections": false,
   "sideBar": true,
   "skip_h1_title": true,
   "title_cell": "Содержание",
   "title_sidebar": "Contents",
   "toc_cell": true,
   "toc_position": {
    "height": "calc(100% - 180px)",
    "left": "10px",
    "top": "150px",
    "width": "256.6px"
   },
   "toc_section_display": true,
   "toc_window_display": true
  }
 },
 "nbformat": 4,
 "nbformat_minor": 5
}
