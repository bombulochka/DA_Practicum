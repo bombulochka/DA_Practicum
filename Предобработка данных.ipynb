{
 "cells": [
  {
   "cell_type": "markdown",
   "id": "328c5d72",
   "metadata": {},
   "source": [
    "<b>Привет!</b>\n",
    "\n",
    "Меня зовут Харочкина Екатерина, и я буду проверять твой проект. Давай общаться на «ты», но если это неудобно, пожалуйста, сообщи. Моя основная цель — не указать на совершенные тобою ошибки, а поделиться своим опытом и помочь тебе совершенствоваться как профессионалу.\n",
    "\n",
    "Ты подготовила замечательный проект, но есть аспекты, которые еще можно улучшить. Я буду использовать комментарии с цветовой разметкой. Пожалуйста, **не перемещай, не изменяй и не удаляй их**. Это поможет выполнить повторную проверку твоего проекта оперативнее.\n",
    "\n",
    "<div class=\"alert alert-danger\">\n",
    "<b>Комментарий ревьюера №1</b> ❌\n",
    "    \n",
    "Таким комментарием выделены самые важные замечания. Без их отработки проект не будет принят.\n",
    "</div>\n",
    "\n",
    "<div class=\"alert alert-warning\">\n",
    "<b>Комментарий ревьюера №1</b> ⚠️\n",
    "    \n",
    "Таким комментарием выделены небольшие замечания и рекомендации, которые будет хорошо учесть.\n",
    "</div>\n",
    "\n",
    "<div class=\"alert alert-success\">\n",
    "<b>Комментарий ревьюера №1</b> ✅\n",
    "    \n",
    "Таким комментарием выделены удачные решения🙂\n",
    "</div>\n",
    "\n",
    "Свои комментарии ты можешь помечать синим цветом.\n",
    "\n",
    "<div class=\"alert alert-info\">\n",
    "<b>Комментарий студента №1</b>\n",
    "    \n",
    "Так ты можешь оформить свой комментарий\n",
    "</div>\n",
    "\n",
    "Давай работать над проектом в диалоге: если ты **что-то меняешь** в проекте по моим рекомендациям — **пиши об этом**. После того, как ты все доработаешь, я смогу принять твой проект!) "
   ]
  },
  {
   "cell_type": "markdown",
   "id": "386f2ae7",
   "metadata": {
    "deletable": false,
    "editable": false,
    "id": "386f2ae7"
   },
   "source": [
    "# Исследование надежности заемщиков\n"
   ]
  },
  {
   "cell_type": "markdown",
   "id": "9c0d2316",
   "metadata": {},
   "source": [
    "# Описание проекта\n",
    "Заказчик — кредитный отдел банка. Нужно разобраться, влияет ли семейное положение и количество детей клиента на факт погашения кредита в срок. Входные данные от банка — статистика о платёжеспособности клиентов.\n",
    "Результаты исследования будут учтены при построении модели кредитного скоринга — специальной системы, которая оценивает способность потенциального заёмщика вернуть кредит банку.\n",
    "# Описание данных\n",
    "* children — количество детей в семье\n",
    "* days_employed — общий трудовой стаж в днях\n",
    "* dob_years — возраст клиента в годах\n",
    "* education — уровень образования клиента\n",
    "* education_id — идентификатор уровня образования\n",
    "* family_status — семейное положение\n",
    "* family_status_id — идентификатор семейного положения\n",
    "* gender — пол клиента\n",
    "* income_type — тип занятости\n",
    "* debt — имел ли задолженность по возврату кредитов\n",
    "* total_income — ежемесячный доход\n",
    "* purpose — цель получения кредита"
   ]
  },
  {
   "cell_type": "markdown",
   "id": "bbc518b5",
   "metadata": {
    "toc": true
   },
   "source": [
    "<h1>Содержание<span class=\"tocSkip\"></span></h1>\n",
    "<div class=\"toc\"><ul class=\"toc-item\"><li><span><a href=\"#Откройте-таблицу-и-изучите-общую-информацию-о-данных\" data-toc-modified-id=\"Откройте-таблицу-и-изучите-общую-информацию-о-данных-1\"><span class=\"toc-item-num\">1&nbsp;&nbsp;</span>Откройте таблицу и изучите общую информацию о данных</a></span></li><li><span><a href=\"#Предобработка-данных\" data-toc-modified-id=\"Предобработка-данных-2\"><span class=\"toc-item-num\">2&nbsp;&nbsp;</span>Предобработка данных</a></span><ul class=\"toc-item\"><li><span><a href=\"#Удаление-пропусков\" data-toc-modified-id=\"Удаление-пропусков-2.1\"><span class=\"toc-item-num\">2.1&nbsp;&nbsp;</span>Удаление пропусков</a></span></li><li><span><a href=\"#Обработка-аномальных-значений\" data-toc-modified-id=\"Обработка-аномальных-значений-2.2\"><span class=\"toc-item-num\">2.2&nbsp;&nbsp;</span>Обработка аномальных значений</a></span></li><li><span><a href=\"#Удаление-пропусков-(продолжение)\" data-toc-modified-id=\"Удаление-пропусков-(продолжение)-2.3\"><span class=\"toc-item-num\">2.3&nbsp;&nbsp;</span>Удаление пропусков (продолжение)</a></span></li><li><span><a href=\"#Изменение-типов-данных\" data-toc-modified-id=\"Изменение-типов-данных-2.4\"><span class=\"toc-item-num\">2.4&nbsp;&nbsp;</span>Изменение типов данных</a></span></li><li><span><a href=\"#Обработка-дубликатов\" data-toc-modified-id=\"Обработка-дубликатов-2.5\"><span class=\"toc-item-num\">2.5&nbsp;&nbsp;</span>Обработка дубликатов</a></span></li><li><span><a href=\"#Категоризация-данных\" data-toc-modified-id=\"Категоризация-данных-2.6\"><span class=\"toc-item-num\">2.6&nbsp;&nbsp;</span>Категоризация данных</a></span></li><li><span><a href=\"#Шаг-3.-Исследуйте-данные-и-ответьте-на-вопросы\" data-toc-modified-id=\"Шаг-3.-Исследуйте-данные-и-ответьте-на-вопросы-2.7\"><span class=\"toc-item-num\">2.7&nbsp;&nbsp;</span>Шаг 3. Исследуйте данные и ответьте на вопросы</a></span><ul class=\"toc-item\"><li><span><a href=\"#3.1-Есть-ли-зависимость-между-количеством-детей-и-возвратом-кредита-в-срок?\" data-toc-modified-id=\"3.1-Есть-ли-зависимость-между-количеством-детей-и-возвратом-кредита-в-срок?-2.7.1\"><span class=\"toc-item-num\">2.7.1&nbsp;&nbsp;</span>3.1 Есть ли зависимость между количеством детей и возвратом кредита в срок?</a></span></li><li><span><a href=\"#3.2-Есть-ли-зависимость-между-семейным-положением-и-возвратом-кредита-в-срок?\" data-toc-modified-id=\"3.2-Есть-ли-зависимость-между-семейным-положением-и-возвратом-кредита-в-срок?-2.7.2\"><span class=\"toc-item-num\">2.7.2&nbsp;&nbsp;</span>3.2 Есть ли зависимость между семейным положением и возвратом кредита в срок?</a></span></li><li><span><a href=\"#3.3-Есть-ли-зависимость-между-уровнем-дохода-и-возвратом-кредита-в-срок?\" data-toc-modified-id=\"3.3-Есть-ли-зависимость-между-уровнем-дохода-и-возвратом-кредита-в-срок?-2.7.3\"><span class=\"toc-item-num\">2.7.3&nbsp;&nbsp;</span>3.3 Есть ли зависимость между уровнем дохода и возвратом кредита в срок?</a></span></li><li><span><a href=\"#3.4-Как-разные-цели-кредита-влияют-на-его-возврат-в-срок?\" data-toc-modified-id=\"3.4-Как-разные-цели-кредита-влияют-на-его-возврат-в-срок?-2.7.4\"><span class=\"toc-item-num\">2.7.4&nbsp;&nbsp;</span>3.4 Как разные цели кредита влияют на его возврат в срок?</a></span></li><li><span><a href=\"#3.5-Приведите-возможные-причины-появления-пропусков-в-исходных-данных.\" data-toc-modified-id=\"3.5-Приведите-возможные-причины-появления-пропусков-в-исходных-данных.-2.7.5\"><span class=\"toc-item-num\">2.7.5&nbsp;&nbsp;</span>3.5 Приведите возможные причины появления пропусков в исходных данных.</a></span></li><li><span><a href=\"#3.6-Объясните,-почему-заполнить-пропуски-медианным-значением-—-лучшее-решение-для-количественных-переменных.\" data-toc-modified-id=\"3.6-Объясните,-почему-заполнить-пропуски-медианным-значением-—-лучшее-решение-для-количественных-переменных.-2.7.6\"><span class=\"toc-item-num\">2.7.6&nbsp;&nbsp;</span>3.6 Объясните, почему заполнить пропуски медианным значением — лучшее решение для количественных переменных.</a></span></li></ul></li><li><span><a href=\"#Шаг-4:-общий-вывод.\" data-toc-modified-id=\"Шаг-4:-общий-вывод.-2.8\"><span class=\"toc-item-num\">2.8&nbsp;&nbsp;</span>Шаг 4: общий вывод.</a></span></li></ul></li></ul></div>"
   ]
  },
  {
   "cell_type": "markdown",
   "id": "0ac170cb",
   "metadata": {},
   "source": [
    "<div class=\"alert alert-success\">\n",
    "<b>Комментарий ревьюера №1</b> ✅\n",
    "    \n",
    "Хорошая практика начинать проект с контекста, описания задачи, возможного хода исследования, а также описания имеющихся данных. Можно тут также добавить содержание с гиперссылками. Про оформление работы можно почитать в материалах курса:\n",
    "    \n",
    "`Полезные инструкции для учёбы - Оформление проекта - Рекомендации по выполнению проектов`\n",
    "</div>"
   ]
  },
  {
   "cell_type": "markdown",
   "id": "ffe86f65",
   "metadata": {
    "deletable": false,
    "editable": false,
    "id": "ffe86f65"
   },
   "source": [
    "Во второй части проекта вы выполните шаги 3 и 4. Их вручную проверит ревьюер.\n",
    "Чтобы вам не пришлось писать код заново для шагов 1 и 2, мы добавили авторские решения в ячейки с кодом. \n",
    "\n"
   ]
  },
  {
   "cell_type": "markdown",
   "id": "26613308",
   "metadata": {
    "deletable": false,
    "editable": false,
    "id": "26613308"
   },
   "source": [
    "## Откройте таблицу и изучите общую информацию о данных"
   ]
  },
  {
   "cell_type": "markdown",
   "id": "3c9f838e",
   "metadata": {
    "deletable": false,
    "editable": false,
    "id": "3c9f838e"
   },
   "source": [
    "**Задание 1. Импортируйте библиотеку pandas. Считайте данные из csv-файла в датафрейм и сохраните в переменную `data`. Путь к файлу:**\n",
    "\n",
    "`/datasets/data.csv`"
   ]
  },
  {
   "cell_type": "code",
   "execution_count": 1,
   "id": "77a68a90",
   "metadata": {
    "deletable": false,
    "id": "77a68a90"
   },
   "outputs": [],
   "source": [
    "import pandas as pd\n",
    "\n",
    "try:\n",
    "    data = pd.read_csv('/datasets/data.csv')\n",
    "except:\n",
    "    data = pd.read_csv('https://code.s3.yandex.net/datasets/data.csv')"
   ]
  },
  {
   "cell_type": "markdown",
   "id": "45365635",
   "metadata": {
    "deletable": false,
    "editable": false,
    "id": "45365635"
   },
   "source": [
    "**Задание 2. Выведите первые 20 строчек датафрейма `data` на экран.**"
   ]
  },
  {
   "cell_type": "code",
   "execution_count": 2,
   "id": "b0451a9a",
   "metadata": {
    "deletable": false,
    "id": "b0451a9a",
    "outputId": "1a8f3ef2-d323-4ec2-ddf7-89670b5944c4"
   },
   "outputs": [
    {
     "data": {
      "text/html": [
       "<div>\n",
       "<style scoped>\n",
       "    .dataframe tbody tr th:only-of-type {\n",
       "        vertical-align: middle;\n",
       "    }\n",
       "\n",
       "    .dataframe tbody tr th {\n",
       "        vertical-align: top;\n",
       "    }\n",
       "\n",
       "    .dataframe thead th {\n",
       "        text-align: right;\n",
       "    }\n",
       "</style>\n",
       "<table border=\"1\" class=\"dataframe\">\n",
       "  <thead>\n",
       "    <tr style=\"text-align: right;\">\n",
       "      <th></th>\n",
       "      <th>children</th>\n",
       "      <th>days_employed</th>\n",
       "      <th>dob_years</th>\n",
       "      <th>education</th>\n",
       "      <th>education_id</th>\n",
       "      <th>family_status</th>\n",
       "      <th>family_status_id</th>\n",
       "      <th>gender</th>\n",
       "      <th>income_type</th>\n",
       "      <th>debt</th>\n",
       "      <th>total_income</th>\n",
       "      <th>purpose</th>\n",
       "    </tr>\n",
       "  </thead>\n",
       "  <tbody>\n",
       "    <tr>\n",
       "      <th>0</th>\n",
       "      <td>1</td>\n",
       "      <td>-8437.673028</td>\n",
       "      <td>42</td>\n",
       "      <td>высшее</td>\n",
       "      <td>0</td>\n",
       "      <td>женат / замужем</td>\n",
       "      <td>0</td>\n",
       "      <td>F</td>\n",
       "      <td>сотрудник</td>\n",
       "      <td>0</td>\n",
       "      <td>253875.639453</td>\n",
       "      <td>покупка жилья</td>\n",
       "    </tr>\n",
       "    <tr>\n",
       "      <th>1</th>\n",
       "      <td>1</td>\n",
       "      <td>-4024.803754</td>\n",
       "      <td>36</td>\n",
       "      <td>среднее</td>\n",
       "      <td>1</td>\n",
       "      <td>женат / замужем</td>\n",
       "      <td>0</td>\n",
       "      <td>F</td>\n",
       "      <td>сотрудник</td>\n",
       "      <td>0</td>\n",
       "      <td>112080.014102</td>\n",
       "      <td>приобретение автомобиля</td>\n",
       "    </tr>\n",
       "    <tr>\n",
       "      <th>2</th>\n",
       "      <td>0</td>\n",
       "      <td>-5623.422610</td>\n",
       "      <td>33</td>\n",
       "      <td>Среднее</td>\n",
       "      <td>1</td>\n",
       "      <td>женат / замужем</td>\n",
       "      <td>0</td>\n",
       "      <td>M</td>\n",
       "      <td>сотрудник</td>\n",
       "      <td>0</td>\n",
       "      <td>145885.952297</td>\n",
       "      <td>покупка жилья</td>\n",
       "    </tr>\n",
       "    <tr>\n",
       "      <th>3</th>\n",
       "      <td>3</td>\n",
       "      <td>-4124.747207</td>\n",
       "      <td>32</td>\n",
       "      <td>среднее</td>\n",
       "      <td>1</td>\n",
       "      <td>женат / замужем</td>\n",
       "      <td>0</td>\n",
       "      <td>M</td>\n",
       "      <td>сотрудник</td>\n",
       "      <td>0</td>\n",
       "      <td>267628.550329</td>\n",
       "      <td>дополнительное образование</td>\n",
       "    </tr>\n",
       "    <tr>\n",
       "      <th>4</th>\n",
       "      <td>0</td>\n",
       "      <td>340266.072047</td>\n",
       "      <td>53</td>\n",
       "      <td>среднее</td>\n",
       "      <td>1</td>\n",
       "      <td>гражданский брак</td>\n",
       "      <td>1</td>\n",
       "      <td>F</td>\n",
       "      <td>пенсионер</td>\n",
       "      <td>0</td>\n",
       "      <td>158616.077870</td>\n",
       "      <td>сыграть свадьбу</td>\n",
       "    </tr>\n",
       "    <tr>\n",
       "      <th>5</th>\n",
       "      <td>0</td>\n",
       "      <td>-926.185831</td>\n",
       "      <td>27</td>\n",
       "      <td>высшее</td>\n",
       "      <td>0</td>\n",
       "      <td>гражданский брак</td>\n",
       "      <td>1</td>\n",
       "      <td>M</td>\n",
       "      <td>компаньон</td>\n",
       "      <td>0</td>\n",
       "      <td>255763.565419</td>\n",
       "      <td>покупка жилья</td>\n",
       "    </tr>\n",
       "    <tr>\n",
       "      <th>6</th>\n",
       "      <td>0</td>\n",
       "      <td>-2879.202052</td>\n",
       "      <td>43</td>\n",
       "      <td>высшее</td>\n",
       "      <td>0</td>\n",
       "      <td>женат / замужем</td>\n",
       "      <td>0</td>\n",
       "      <td>F</td>\n",
       "      <td>компаньон</td>\n",
       "      <td>0</td>\n",
       "      <td>240525.971920</td>\n",
       "      <td>операции с жильем</td>\n",
       "    </tr>\n",
       "    <tr>\n",
       "      <th>7</th>\n",
       "      <td>0</td>\n",
       "      <td>-152.779569</td>\n",
       "      <td>50</td>\n",
       "      <td>СРЕДНЕЕ</td>\n",
       "      <td>1</td>\n",
       "      <td>женат / замужем</td>\n",
       "      <td>0</td>\n",
       "      <td>M</td>\n",
       "      <td>сотрудник</td>\n",
       "      <td>0</td>\n",
       "      <td>135823.934197</td>\n",
       "      <td>образование</td>\n",
       "    </tr>\n",
       "    <tr>\n",
       "      <th>8</th>\n",
       "      <td>2</td>\n",
       "      <td>-6929.865299</td>\n",
       "      <td>35</td>\n",
       "      <td>ВЫСШЕЕ</td>\n",
       "      <td>0</td>\n",
       "      <td>гражданский брак</td>\n",
       "      <td>1</td>\n",
       "      <td>F</td>\n",
       "      <td>сотрудник</td>\n",
       "      <td>0</td>\n",
       "      <td>95856.832424</td>\n",
       "      <td>на проведение свадьбы</td>\n",
       "    </tr>\n",
       "    <tr>\n",
       "      <th>9</th>\n",
       "      <td>0</td>\n",
       "      <td>-2188.756445</td>\n",
       "      <td>41</td>\n",
       "      <td>среднее</td>\n",
       "      <td>1</td>\n",
       "      <td>женат / замужем</td>\n",
       "      <td>0</td>\n",
       "      <td>M</td>\n",
       "      <td>сотрудник</td>\n",
       "      <td>0</td>\n",
       "      <td>144425.938277</td>\n",
       "      <td>покупка жилья для семьи</td>\n",
       "    </tr>\n",
       "    <tr>\n",
       "      <th>10</th>\n",
       "      <td>2</td>\n",
       "      <td>-4171.483647</td>\n",
       "      <td>36</td>\n",
       "      <td>высшее</td>\n",
       "      <td>0</td>\n",
       "      <td>женат / замужем</td>\n",
       "      <td>0</td>\n",
       "      <td>M</td>\n",
       "      <td>компаньон</td>\n",
       "      <td>0</td>\n",
       "      <td>113943.491460</td>\n",
       "      <td>покупка недвижимости</td>\n",
       "    </tr>\n",
       "    <tr>\n",
       "      <th>11</th>\n",
       "      <td>0</td>\n",
       "      <td>-792.701887</td>\n",
       "      <td>40</td>\n",
       "      <td>среднее</td>\n",
       "      <td>1</td>\n",
       "      <td>женат / замужем</td>\n",
       "      <td>0</td>\n",
       "      <td>F</td>\n",
       "      <td>сотрудник</td>\n",
       "      <td>0</td>\n",
       "      <td>77069.234271</td>\n",
       "      <td>покупка коммерческой недвижимости</td>\n",
       "    </tr>\n",
       "    <tr>\n",
       "      <th>12</th>\n",
       "      <td>0</td>\n",
       "      <td>NaN</td>\n",
       "      <td>65</td>\n",
       "      <td>среднее</td>\n",
       "      <td>1</td>\n",
       "      <td>гражданский брак</td>\n",
       "      <td>1</td>\n",
       "      <td>M</td>\n",
       "      <td>пенсионер</td>\n",
       "      <td>0</td>\n",
       "      <td>NaN</td>\n",
       "      <td>сыграть свадьбу</td>\n",
       "    </tr>\n",
       "    <tr>\n",
       "      <th>13</th>\n",
       "      <td>0</td>\n",
       "      <td>-1846.641941</td>\n",
       "      <td>54</td>\n",
       "      <td>неоконченное высшее</td>\n",
       "      <td>2</td>\n",
       "      <td>женат / замужем</td>\n",
       "      <td>0</td>\n",
       "      <td>F</td>\n",
       "      <td>сотрудник</td>\n",
       "      <td>0</td>\n",
       "      <td>130458.228857</td>\n",
       "      <td>приобретение автомобиля</td>\n",
       "    </tr>\n",
       "    <tr>\n",
       "      <th>14</th>\n",
       "      <td>0</td>\n",
       "      <td>-1844.956182</td>\n",
       "      <td>56</td>\n",
       "      <td>высшее</td>\n",
       "      <td>0</td>\n",
       "      <td>гражданский брак</td>\n",
       "      <td>1</td>\n",
       "      <td>F</td>\n",
       "      <td>компаньон</td>\n",
       "      <td>1</td>\n",
       "      <td>165127.911772</td>\n",
       "      <td>покупка жилой недвижимости</td>\n",
       "    </tr>\n",
       "    <tr>\n",
       "      <th>15</th>\n",
       "      <td>1</td>\n",
       "      <td>-972.364419</td>\n",
       "      <td>26</td>\n",
       "      <td>среднее</td>\n",
       "      <td>1</td>\n",
       "      <td>женат / замужем</td>\n",
       "      <td>0</td>\n",
       "      <td>F</td>\n",
       "      <td>сотрудник</td>\n",
       "      <td>0</td>\n",
       "      <td>116820.904450</td>\n",
       "      <td>строительство собственной недвижимости</td>\n",
       "    </tr>\n",
       "    <tr>\n",
       "      <th>16</th>\n",
       "      <td>0</td>\n",
       "      <td>-1719.934226</td>\n",
       "      <td>35</td>\n",
       "      <td>среднее</td>\n",
       "      <td>1</td>\n",
       "      <td>женат / замужем</td>\n",
       "      <td>0</td>\n",
       "      <td>F</td>\n",
       "      <td>сотрудник</td>\n",
       "      <td>0</td>\n",
       "      <td>289202.704229</td>\n",
       "      <td>недвижимость</td>\n",
       "    </tr>\n",
       "    <tr>\n",
       "      <th>17</th>\n",
       "      <td>0</td>\n",
       "      <td>-2369.999720</td>\n",
       "      <td>33</td>\n",
       "      <td>высшее</td>\n",
       "      <td>0</td>\n",
       "      <td>гражданский брак</td>\n",
       "      <td>1</td>\n",
       "      <td>M</td>\n",
       "      <td>сотрудник</td>\n",
       "      <td>0</td>\n",
       "      <td>90410.586745</td>\n",
       "      <td>строительство недвижимости</td>\n",
       "    </tr>\n",
       "    <tr>\n",
       "      <th>18</th>\n",
       "      <td>0</td>\n",
       "      <td>400281.136913</td>\n",
       "      <td>53</td>\n",
       "      <td>среднее</td>\n",
       "      <td>1</td>\n",
       "      <td>вдовец / вдова</td>\n",
       "      <td>2</td>\n",
       "      <td>F</td>\n",
       "      <td>пенсионер</td>\n",
       "      <td>0</td>\n",
       "      <td>56823.777243</td>\n",
       "      <td>на покупку подержанного автомобиля</td>\n",
       "    </tr>\n",
       "    <tr>\n",
       "      <th>19</th>\n",
       "      <td>0</td>\n",
       "      <td>-10038.818549</td>\n",
       "      <td>48</td>\n",
       "      <td>СРЕДНЕЕ</td>\n",
       "      <td>1</td>\n",
       "      <td>в разводе</td>\n",
       "      <td>3</td>\n",
       "      <td>F</td>\n",
       "      <td>сотрудник</td>\n",
       "      <td>0</td>\n",
       "      <td>242831.107982</td>\n",
       "      <td>на покупку своего автомобиля</td>\n",
       "    </tr>\n",
       "  </tbody>\n",
       "</table>\n",
       "</div>"
      ],
      "text/plain": [
       "    children  days_employed  dob_years            education  education_id  \\\n",
       "0          1   -8437.673028         42               высшее             0   \n",
       "1          1   -4024.803754         36              среднее             1   \n",
       "2          0   -5623.422610         33              Среднее             1   \n",
       "3          3   -4124.747207         32              среднее             1   \n",
       "4          0  340266.072047         53              среднее             1   \n",
       "5          0    -926.185831         27               высшее             0   \n",
       "6          0   -2879.202052         43               высшее             0   \n",
       "7          0    -152.779569         50              СРЕДНЕЕ             1   \n",
       "8          2   -6929.865299         35               ВЫСШЕЕ             0   \n",
       "9          0   -2188.756445         41              среднее             1   \n",
       "10         2   -4171.483647         36               высшее             0   \n",
       "11         0    -792.701887         40              среднее             1   \n",
       "12         0            NaN         65              среднее             1   \n",
       "13         0   -1846.641941         54  неоконченное высшее             2   \n",
       "14         0   -1844.956182         56               высшее             0   \n",
       "15         1    -972.364419         26              среднее             1   \n",
       "16         0   -1719.934226         35              среднее             1   \n",
       "17         0   -2369.999720         33               высшее             0   \n",
       "18         0  400281.136913         53              среднее             1   \n",
       "19         0  -10038.818549         48              СРЕДНЕЕ             1   \n",
       "\n",
       "       family_status  family_status_id gender income_type  debt  \\\n",
       "0    женат / замужем                 0      F   сотрудник     0   \n",
       "1    женат / замужем                 0      F   сотрудник     0   \n",
       "2    женат / замужем                 0      M   сотрудник     0   \n",
       "3    женат / замужем                 0      M   сотрудник     0   \n",
       "4   гражданский брак                 1      F   пенсионер     0   \n",
       "5   гражданский брак                 1      M   компаньон     0   \n",
       "6    женат / замужем                 0      F   компаньон     0   \n",
       "7    женат / замужем                 0      M   сотрудник     0   \n",
       "8   гражданский брак                 1      F   сотрудник     0   \n",
       "9    женат / замужем                 0      M   сотрудник     0   \n",
       "10   женат / замужем                 0      M   компаньон     0   \n",
       "11   женат / замужем                 0      F   сотрудник     0   \n",
       "12  гражданский брак                 1      M   пенсионер     0   \n",
       "13   женат / замужем                 0      F   сотрудник     0   \n",
       "14  гражданский брак                 1      F   компаньон     1   \n",
       "15   женат / замужем                 0      F   сотрудник     0   \n",
       "16   женат / замужем                 0      F   сотрудник     0   \n",
       "17  гражданский брак                 1      M   сотрудник     0   \n",
       "18    вдовец / вдова                 2      F   пенсионер     0   \n",
       "19         в разводе                 3      F   сотрудник     0   \n",
       "\n",
       "     total_income                                 purpose  \n",
       "0   253875.639453                           покупка жилья  \n",
       "1   112080.014102                 приобретение автомобиля  \n",
       "2   145885.952297                           покупка жилья  \n",
       "3   267628.550329              дополнительное образование  \n",
       "4   158616.077870                         сыграть свадьбу  \n",
       "5   255763.565419                           покупка жилья  \n",
       "6   240525.971920                       операции с жильем  \n",
       "7   135823.934197                             образование  \n",
       "8    95856.832424                   на проведение свадьбы  \n",
       "9   144425.938277                 покупка жилья для семьи  \n",
       "10  113943.491460                    покупка недвижимости  \n",
       "11   77069.234271       покупка коммерческой недвижимости  \n",
       "12            NaN                         сыграть свадьбу  \n",
       "13  130458.228857                 приобретение автомобиля  \n",
       "14  165127.911772              покупка жилой недвижимости  \n",
       "15  116820.904450  строительство собственной недвижимости  \n",
       "16  289202.704229                            недвижимость  \n",
       "17   90410.586745              строительство недвижимости  \n",
       "18   56823.777243      на покупку подержанного автомобиля  \n",
       "19  242831.107982            на покупку своего автомобиля  "
      ]
     },
     "execution_count": 2,
     "metadata": {},
     "output_type": "execute_result"
    }
   ],
   "source": [
    "data.head(20)"
   ]
  },
  {
   "cell_type": "markdown",
   "id": "0ed8f27f",
   "metadata": {
    "deletable": false,
    "editable": false,
    "id": "0ed8f27f"
   },
   "source": [
    "**Задание 3. Выведите основную информацию о датафрейме с помощью метода `info()`.**"
   ]
  },
  {
   "cell_type": "code",
   "execution_count": 3,
   "id": "ab3f863b",
   "metadata": {
    "deletable": false,
    "id": "ab3f863b",
    "outputId": "15376089-8dad-46c9-b520-c05248d43158"
   },
   "outputs": [
    {
     "name": "stdout",
     "output_type": "stream",
     "text": [
      "<class 'pandas.core.frame.DataFrame'>\n",
      "RangeIndex: 21525 entries, 0 to 21524\n",
      "Data columns (total 12 columns):\n",
      " #   Column            Non-Null Count  Dtype  \n",
      "---  ------            --------------  -----  \n",
      " 0   children          21525 non-null  int64  \n",
      " 1   days_employed     19351 non-null  float64\n",
      " 2   dob_years         21525 non-null  int64  \n",
      " 3   education         21525 non-null  object \n",
      " 4   education_id      21525 non-null  int64  \n",
      " 5   family_status     21525 non-null  object \n",
      " 6   family_status_id  21525 non-null  int64  \n",
      " 7   gender            21525 non-null  object \n",
      " 8   income_type       21525 non-null  object \n",
      " 9   debt              21525 non-null  int64  \n",
      " 10  total_income      19351 non-null  float64\n",
      " 11  purpose           21525 non-null  object \n",
      "dtypes: float64(2), int64(5), object(5)\n",
      "memory usage: 2.0+ MB\n"
     ]
    }
   ],
   "source": [
    "data.info()"
   ]
  },
  {
   "cell_type": "markdown",
   "id": "63dfea7f",
   "metadata": {},
   "source": [
    "<div class=\"alert alert-success\">\n",
    "<b>Комментарий ревьюера №1</b> ✅\n",
    "    \n",
    "Разделы работы можно заканчивать промежуточными выводами\n",
    "</div>"
   ]
  },
  {
   "cell_type": "markdown",
   "id": "60e3e22d",
   "metadata": {
    "deletable": false,
    "editable": false,
    "id": "60e3e22d"
   },
   "source": [
    "## Предобработка данных"
   ]
  },
  {
   "cell_type": "markdown",
   "id": "03dc170c",
   "metadata": {
    "deletable": false,
    "editable": false,
    "id": "03dc170c"
   },
   "source": [
    "### Удаление пропусков"
   ]
  },
  {
   "cell_type": "markdown",
   "id": "a4f54eef",
   "metadata": {
    "deletable": false,
    "editable": false,
    "id": "a4f54eef"
   },
   "source": [
    "**Задание 4. Выведите количество пропущенных значений для каждого столбца. Используйте комбинацию двух методов.**"
   ]
  },
  {
   "cell_type": "code",
   "execution_count": 4,
   "id": "2dc372b2",
   "metadata": {
    "deletable": false,
    "id": "2dc372b2",
    "outputId": "81f4d817-781c-465c-ed15-91ce4446810d"
   },
   "outputs": [
    {
     "data": {
      "text/plain": [
       "children               0\n",
       "days_employed       2174\n",
       "dob_years              0\n",
       "education              0\n",
       "education_id           0\n",
       "family_status          0\n",
       "family_status_id       0\n",
       "gender                 0\n",
       "income_type            0\n",
       "debt                   0\n",
       "total_income        2174\n",
       "purpose                0\n",
       "dtype: int64"
      ]
     },
     "execution_count": 4,
     "metadata": {},
     "output_type": "execute_result"
    }
   ],
   "source": [
    "data.isna().sum()"
   ]
  },
  {
   "cell_type": "markdown",
   "id": "14f011b1",
   "metadata": {
    "deletable": false,
    "editable": false,
    "id": "14f011b1"
   },
   "source": [
    "**Задание 5. В двух столбцах есть пропущенные значения. Один из них — `days_employed`. Пропуски в этом столбце вы обработаете на следующем этапе. Другой столбец с пропущенными значениями — `total_income` — хранит данные о доходах. На сумму дохода сильнее всего влияет тип занятости, поэтому заполнить пропуски в этом столбце нужно медианным значением по каждому типу из столбца `income_type`. Например, у человека с типом занятости `сотрудник` пропуск в столбце `total_income` должен быть заполнен медианным доходом среди всех записей с тем же типом.**"
   ]
  },
  {
   "cell_type": "code",
   "execution_count": 5,
   "id": "bdabfb6e",
   "metadata": {
    "deletable": false,
    "id": "bdabfb6e"
   },
   "outputs": [],
   "source": [
    "for t in data['income_type'].unique():\n",
    "    data.loc[(data['income_type'] == t) & (data['total_income'].isna()), 'total_income'] = \\\n",
    "    data.loc[(data['income_type'] == t), 'total_income'].median()"
   ]
  },
  {
   "cell_type": "markdown",
   "id": "5be34059",
   "metadata": {
    "deletable": false,
    "editable": false,
    "id": "5be34059"
   },
   "source": [
    "### Обработка аномальных значений"
   ]
  },
  {
   "cell_type": "markdown",
   "id": "a87606cb",
   "metadata": {
    "deletable": false,
    "editable": false,
    "id": "a87606cb"
   },
   "source": [
    "**Задание 6. В данных могут встречаться артефакты (аномалии) — значения, которые не отражают действительность и появились по какой-то ошибке. таким артефактом будет отрицательное количество дней трудового стажа в столбце `days_employed`. Для реальных данных это нормально. Обработайте значения в этом столбце: замените все отрицательные значения положительными с помощью метода `abs()`.**"
   ]
  },
  {
   "cell_type": "code",
   "execution_count": 6,
   "id": "020c46cc",
   "metadata": {
    "deletable": false,
    "id": "020c46cc"
   },
   "outputs": [],
   "source": [
    "data['days_employed'] = data['days_employed'].abs()"
   ]
  },
  {
   "cell_type": "markdown",
   "id": "45538a3a",
   "metadata": {
    "deletable": false,
    "editable": false,
    "id": "45538a3a"
   },
   "source": [
    "**Задание 7. Для каждого типа занятости выведите медианное значение трудового стажа `days_employed` в днях.**"
   ]
  },
  {
   "cell_type": "code",
   "execution_count": 7,
   "id": "cd3e6328",
   "metadata": {
    "deletable": false,
    "id": "cd3e6328",
    "outputId": "801ef80e-522b-4668-f34e-565af7432bcf"
   },
   "outputs": [
    {
     "data": {
      "text/plain": [
       "income_type\n",
       "безработный        366413.652744\n",
       "в декрете            3296.759962\n",
       "госслужащий          2689.368353\n",
       "компаньон            1547.382223\n",
       "пенсионер          365213.306266\n",
       "предприниматель       520.848083\n",
       "сотрудник            1574.202821\n",
       "студент               578.751554\n",
       "Name: days_employed, dtype: float64"
      ]
     },
     "execution_count": 7,
     "metadata": {},
     "output_type": "execute_result"
    }
   ],
   "source": [
    "data.groupby('income_type')['days_employed'].agg('median')"
   ]
  },
  {
   "cell_type": "markdown",
   "id": "90c5f058",
   "metadata": {
    "deletable": false,
    "editable": false,
    "id": "90c5f058"
   },
   "source": [
    "У двух типов (безработные и пенсионеры) получатся аномально большие значения. Исправить такие значения сложно, поэтому оставьте их как есть."
   ]
  },
  {
   "cell_type": "markdown",
   "id": "9652e50d",
   "metadata": {
    "deletable": false,
    "editable": false,
    "id": "9652e50d"
   },
   "source": [
    "**Задание 8. Выведите перечень уникальных значений столбца `children`.**"
   ]
  },
  {
   "cell_type": "code",
   "execution_count": 8,
   "id": "dbb37b8e",
   "metadata": {
    "deletable": false,
    "id": "dbb37b8e",
    "outputId": "6975b15c-7f95-4697-d16d-a0c79b657b03"
   },
   "outputs": [
    {
     "data": {
      "text/plain": [
       "array([ 1,  0,  3,  2, -1,  4, 20,  5])"
      ]
     },
     "execution_count": 8,
     "metadata": {},
     "output_type": "execute_result"
    }
   ],
   "source": [
    "data['children'].unique()"
   ]
  },
  {
   "cell_type": "markdown",
   "id": "2b8b0715",
   "metadata": {
    "deletable": false,
    "editable": false,
    "id": "2b8b0715"
   },
   "source": [
    "**Задание 9. В столбце `children` есть два аномальных значения. Удалите строки, в которых встречаются такие аномальные значения из датафрейма `data`.**"
   ]
  },
  {
   "cell_type": "code",
   "execution_count": 9,
   "id": "20009df8",
   "metadata": {
    "deletable": false,
    "id": "20009df8"
   },
   "outputs": [],
   "source": [
    "data = data[(data['children'] != -1) & (data['children'] != 20)]"
   ]
  },
  {
   "cell_type": "markdown",
   "id": "8c6ac9f1",
   "metadata": {
    "deletable": false,
    "editable": false,
    "id": "8c6ac9f1"
   },
   "source": [
    "**Задание 10. Ещё раз выведите перечень уникальных значений столбца `children`, чтобы убедиться, что артефакты удалены.**"
   ]
  },
  {
   "cell_type": "code",
   "execution_count": 10,
   "id": "07337b81",
   "metadata": {
    "deletable": false,
    "id": "07337b81",
    "outputId": "b2097101-d49d-44d9-901b-32a65c9463d1"
   },
   "outputs": [
    {
     "data": {
      "text/plain": [
       "array([1, 0, 3, 2, 4, 5])"
      ]
     },
     "execution_count": 10,
     "metadata": {},
     "output_type": "execute_result"
    }
   ],
   "source": [
    "data['children'].unique()"
   ]
  },
  {
   "cell_type": "markdown",
   "id": "ee3f52d4",
   "metadata": {
    "deletable": false,
    "editable": false,
    "id": "ee3f52d4"
   },
   "source": [
    "### Удаление пропусков (продолжение)"
   ]
  },
  {
   "cell_type": "markdown",
   "id": "a700b0e4",
   "metadata": {
    "deletable": false,
    "editable": false,
    "id": "a700b0e4"
   },
   "source": [
    "**Задание 11. Заполните пропуски в столбце `days_employed` медианными значениями по каждого типа занятости `income_type`.**"
   ]
  },
  {
   "cell_type": "code",
   "execution_count": 11,
   "id": "61946b83",
   "metadata": {
    "deletable": false,
    "id": "61946b83"
   },
   "outputs": [],
   "source": [
    "for t in data['income_type'].unique():\n",
    "    data.loc[(data['income_type'] == t) & (data['days_employed'].isna()), 'days_employed'] = \\\n",
    "    data.loc[(data['income_type'] == t), 'days_employed'].median()"
   ]
  },
  {
   "cell_type": "markdown",
   "id": "550dcd9b",
   "metadata": {
    "deletable": false,
    "editable": false,
    "id": "550dcd9b"
   },
   "source": [
    "**Задание 12. Убедитесь, что все пропуски заполнены. Проверьте себя и ещё раз выведите количество пропущенных значений для каждого столбца с помощью двух методов.**"
   ]
  },
  {
   "cell_type": "code",
   "execution_count": 12,
   "id": "937c7014",
   "metadata": {
    "deletable": false,
    "id": "937c7014",
    "outputId": "8da1e4e1-358e-4e87-98c9-f261bce0a7b2"
   },
   "outputs": [
    {
     "data": {
      "text/plain": [
       "children            0\n",
       "days_employed       0\n",
       "dob_years           0\n",
       "education           0\n",
       "education_id        0\n",
       "family_status       0\n",
       "family_status_id    0\n",
       "gender              0\n",
       "income_type         0\n",
       "debt                0\n",
       "total_income        0\n",
       "purpose             0\n",
       "dtype: int64"
      ]
     },
     "execution_count": 12,
     "metadata": {},
     "output_type": "execute_result"
    }
   ],
   "source": [
    "data.isna().sum()"
   ]
  },
  {
   "cell_type": "markdown",
   "id": "d522e295",
   "metadata": {
    "deletable": false,
    "editable": false,
    "id": "d522e295"
   },
   "source": [
    "### Изменение типов данных"
   ]
  },
  {
   "cell_type": "markdown",
   "id": "c229c581",
   "metadata": {
    "deletable": false,
    "editable": false,
    "id": "c229c581"
   },
   "source": [
    "**Задание 13. Замените вещественный тип данных в столбце `total_income` на целочисленный с помощью метода `astype()`.**"
   ]
  },
  {
   "cell_type": "code",
   "execution_count": 13,
   "id": "31036462",
   "metadata": {
    "deletable": false,
    "id": "31036462"
   },
   "outputs": [],
   "source": [
    "data['total_income'] = data['total_income'].astype(int)"
   ]
  },
  {
   "cell_type": "markdown",
   "id": "b8e3d1d9",
   "metadata": {
    "deletable": false,
    "editable": false,
    "id": "b8e3d1d9"
   },
   "source": [
    "### Обработка дубликатов"
   ]
  },
  {
   "cell_type": "markdown",
   "id": "9be53c49",
   "metadata": {
    "deletable": false,
    "editable": false,
    "id": "9be53c49"
   },
   "source": [
    "**Задание 14. Обработайте неявные дубликаты в столбце `education`. В этом столбце есть одни и те же значения, но записанные по-разному: с использованием заглавных и строчных букв. Приведите их к нижнему регистру.**"
   ]
  },
  {
   "cell_type": "code",
   "execution_count": 14,
   "id": "d89e73e1",
   "metadata": {
    "deletable": false,
    "id": "d89e73e1"
   },
   "outputs": [],
   "source": [
    "data['education'] = data['education'].str.lower()"
   ]
  },
  {
   "cell_type": "markdown",
   "id": "01d4500e",
   "metadata": {
    "deletable": false,
    "editable": false,
    "id": "01d4500e"
   },
   "source": [
    "**Задание 15. Выведите на экран количество строк-дубликатов в данных. Если такие строки присутствуют, удалите их.**"
   ]
  },
  {
   "cell_type": "code",
   "execution_count": 15,
   "id": "e10efb23",
   "metadata": {
    "deletable": false,
    "id": "e10efb23",
    "outputId": "9684deba-1934-42d1-99e1-cda61740f822"
   },
   "outputs": [
    {
     "data": {
      "text/plain": [
       "71"
      ]
     },
     "execution_count": 15,
     "metadata": {},
     "output_type": "execute_result"
    }
   ],
   "source": [
    "data.duplicated().sum()"
   ]
  },
  {
   "cell_type": "code",
   "execution_count": 16,
   "id": "df853f20",
   "metadata": {
    "deletable": false,
    "id": "df853f20"
   },
   "outputs": [],
   "source": [
    "data = data.drop_duplicates()"
   ]
  },
  {
   "cell_type": "markdown",
   "id": "627be38f",
   "metadata": {
    "deletable": false,
    "editable": false,
    "id": "627be38f"
   },
   "source": [
    "### Категоризация данных"
   ]
  },
  {
   "cell_type": "markdown",
   "id": "4684c3e0",
   "metadata": {
    "deletable": false,
    "editable": false,
    "id": "4684c3e0"
   },
   "source": [
    "**Задание 16. На основании диапазонов, указанных ниже, создайте в датафрейме `data` столбец `total_income_category` с категориями:**\n",
    "\n",
    "- 0–30000 — `'E'`;\n",
    "- 30001–50000 — `'D'`;\n",
    "- 50001–200000 — `'C'`;\n",
    "- 200001–1000000 — `'B'`;\n",
    "- 1000001 и выше — `'A'`.\n",
    "\n",
    "\n",
    "**Например, кредитополучателю с доходом 25000 нужно назначить категорию `'E'`, а клиенту, получающему 235000, — `'B'`. Используйте собственную функцию с именем `categorize_income()` и метод `apply()`.**"
   ]
  },
  {
   "cell_type": "code",
   "execution_count": 17,
   "id": "78965238",
   "metadata": {
    "deletable": false,
    "id": "78965238"
   },
   "outputs": [],
   "source": [
    "def categorize_income(income):\n",
    "    try:\n",
    "        if 0 <= income <= 30000:\n",
    "            return 'E'\n",
    "        elif 30001 <= income <= 50000:\n",
    "            return 'D'\n",
    "        elif 50001 <= income <= 200000:\n",
    "            return 'C'\n",
    "        elif 200001 <= income <= 1000000:\n",
    "            return 'B'\n",
    "        elif income >= 1000001:\n",
    "            return 'A'\n",
    "    except:\n",
    "        pass"
   ]
  },
  {
   "cell_type": "code",
   "execution_count": 18,
   "id": "0980ada1",
   "metadata": {
    "deletable": false,
    "id": "0980ada1"
   },
   "outputs": [],
   "source": [
    "data['total_income_category'] = data['total_income'].apply(categorize_income)"
   ]
  },
  {
   "cell_type": "markdown",
   "id": "9917bba0",
   "metadata": {
    "deletable": false,
    "editable": false,
    "id": "9917bba0"
   },
   "source": [
    "**Задание 17. Выведите на экран перечень уникальных целей взятия кредита из столбца `purpose`.**"
   ]
  },
  {
   "cell_type": "code",
   "execution_count": 19,
   "id": "ee07b65e",
   "metadata": {
    "deletable": false,
    "id": "ee07b65e",
    "outputId": "673c12d9-7d7e-4ae0-9812-c622c89dd244"
   },
   "outputs": [
    {
     "data": {
      "text/plain": [
       "array(['покупка жилья', 'приобретение автомобиля',\n",
       "       'дополнительное образование', 'сыграть свадьбу',\n",
       "       'операции с жильем', 'образование', 'на проведение свадьбы',\n",
       "       'покупка жилья для семьи', 'покупка недвижимости',\n",
       "       'покупка коммерческой недвижимости', 'покупка жилой недвижимости',\n",
       "       'строительство собственной недвижимости', 'недвижимость',\n",
       "       'строительство недвижимости', 'на покупку подержанного автомобиля',\n",
       "       'на покупку своего автомобиля',\n",
       "       'операции с коммерческой недвижимостью',\n",
       "       'строительство жилой недвижимости', 'жилье',\n",
       "       'операции со своей недвижимостью', 'автомобили',\n",
       "       'заняться образованием', 'сделка с подержанным автомобилем',\n",
       "       'получение образования', 'автомобиль', 'свадьба',\n",
       "       'получение дополнительного образования', 'покупка своего жилья',\n",
       "       'операции с недвижимостью', 'получение высшего образования',\n",
       "       'свой автомобиль', 'сделка с автомобилем',\n",
       "       'профильное образование', 'высшее образование',\n",
       "       'покупка жилья для сдачи', 'на покупку автомобиля', 'ремонт жилью',\n",
       "       'заняться высшим образованием'], dtype=object)"
      ]
     },
     "execution_count": 19,
     "metadata": {},
     "output_type": "execute_result"
    }
   ],
   "source": [
    "data['purpose'].unique()"
   ]
  },
  {
   "cell_type": "markdown",
   "id": "52b79d56",
   "metadata": {
    "deletable": false,
    "editable": false,
    "id": "52b79d56"
   },
   "source": [
    "**Задание 18. Создайте функцию, которая на основании данных из столбца `purpose` сформирует новый столбец `purpose_category`, в который войдут следующие категории:**\n",
    "\n",
    "- `'операции с автомобилем'`,\n",
    "- `'операции с недвижимостью'`,\n",
    "- `'проведение свадьбы'`,\n",
    "- `'получение образования'`.\n",
    "\n",
    "**Например, если в столбце `purpose` находится подстрока `'на покупку автомобиля'`, то в столбце `purpose_category` должна появиться строка `'операции с автомобилем'`.**\n",
    "\n",
    "**Используйте собственную функцию с именем `categorize_purpose()` и метод `apply()`. Изучите данные в столбце `purpose` и определите, какие подстроки помогут вам правильно определить категорию.**"
   ]
  },
  {
   "cell_type": "code",
   "execution_count": 20,
   "id": "be41da5d",
   "metadata": {
    "deletable": false,
    "id": "be41da5d"
   },
   "outputs": [],
   "source": [
    "def categorize_purpose(row):\n",
    "    try:\n",
    "        if 'автом' in row:\n",
    "            return 'операции с автомобилем'\n",
    "        elif 'жил' in row or 'недвиж' in row:\n",
    "            return 'операции с недвижимостью'\n",
    "        elif 'свад' in row:\n",
    "            return 'проведение свадьбы'\n",
    "        elif 'образов' in row:\n",
    "            return 'получение образования'\n",
    "    except:\n",
    "        return 'нет категории'"
   ]
  },
  {
   "cell_type": "code",
   "execution_count": 21,
   "id": "94c4a19a",
   "metadata": {
    "deletable": false,
    "id": "94c4a19a"
   },
   "outputs": [],
   "source": [
    "data['purpose_category'] = data['purpose'].apply(categorize_purpose)"
   ]
  },
  {
   "cell_type": "markdown",
   "id": "3d596c34",
   "metadata": {
    "deletable": false,
    "editable": false,
    "id": "3d596c34"
   },
   "source": [
    "### Шаг 3. Исследуйте данные и ответьте на вопросы"
   ]
  },
  {
   "cell_type": "markdown",
   "id": "72dbf2ed",
   "metadata": {},
   "source": [
    "<div class=\"alert alert-info\">\n",
    "Написала функцию для построения сводных.\n",
    "</div>"
   ]
  },
  {
   "cell_type": "code",
   "execution_count": 22,
   "id": "cf2513f4",
   "metadata": {},
   "outputs": [],
   "source": [
    "def debt_percent(x):\n",
    "    data_grouped = data.groupby(x)['debt'].agg(['sum', 'count'])\n",
    "    data_grouped['percent'] = round(data_grouped['sum']/data_grouped['count']*100, 2)\n",
    "    data_grouped = data_grouped.rename(columns = {'sum' : 'debt_sum',\n",
    "                                                 'count' : 'clients'})\n",
    "    return data_grouped"
   ]
  },
  {
   "cell_type": "markdown",
   "id": "648db036",
   "metadata": {
    "deletable": false,
    "editable": false,
    "id": "648db036"
   },
   "source": [
    "#### 3.1 Есть ли зависимость между количеством детей и возвратом кредита в срок?"
   ]
  },
  {
   "cell_type": "code",
   "execution_count": 23,
   "id": "7fcff25e",
   "metadata": {
    "deletable": false,
    "id": "7fcff25e"
   },
   "outputs": [
    {
     "data": {
      "text/html": [
       "<div>\n",
       "<style scoped>\n",
       "    .dataframe tbody tr th:only-of-type {\n",
       "        vertical-align: middle;\n",
       "    }\n",
       "\n",
       "    .dataframe tbody tr th {\n",
       "        vertical-align: top;\n",
       "    }\n",
       "\n",
       "    .dataframe thead th {\n",
       "        text-align: right;\n",
       "    }\n",
       "</style>\n",
       "<table border=\"1\" class=\"dataframe\">\n",
       "  <thead>\n",
       "    <tr style=\"text-align: right;\">\n",
       "      <th></th>\n",
       "      <th>debt_sum</th>\n",
       "      <th>clients</th>\n",
       "      <th>percent</th>\n",
       "    </tr>\n",
       "    <tr>\n",
       "      <th>children</th>\n",
       "      <th></th>\n",
       "      <th></th>\n",
       "      <th></th>\n",
       "    </tr>\n",
       "  </thead>\n",
       "  <tbody>\n",
       "    <tr>\n",
       "      <th>0</th>\n",
       "      <td>1063</td>\n",
       "      <td>14091</td>\n",
       "      <td>7.54</td>\n",
       "    </tr>\n",
       "    <tr>\n",
       "      <th>1</th>\n",
       "      <td>444</td>\n",
       "      <td>4808</td>\n",
       "      <td>9.23</td>\n",
       "    </tr>\n",
       "    <tr>\n",
       "      <th>2</th>\n",
       "      <td>194</td>\n",
       "      <td>2052</td>\n",
       "      <td>9.45</td>\n",
       "    </tr>\n",
       "    <tr>\n",
       "      <th>3</th>\n",
       "      <td>27</td>\n",
       "      <td>330</td>\n",
       "      <td>8.18</td>\n",
       "    </tr>\n",
       "    <tr>\n",
       "      <th>4</th>\n",
       "      <td>4</td>\n",
       "      <td>41</td>\n",
       "      <td>9.76</td>\n",
       "    </tr>\n",
       "    <tr>\n",
       "      <th>5</th>\n",
       "      <td>0</td>\n",
       "      <td>9</td>\n",
       "      <td>0.00</td>\n",
       "    </tr>\n",
       "  </tbody>\n",
       "</table>\n",
       "</div>"
      ],
      "text/plain": [
       "          debt_sum  clients  percent\n",
       "children                            \n",
       "0             1063    14091     7.54\n",
       "1              444     4808     9.23\n",
       "2              194     2052     9.45\n",
       "3               27      330     8.18\n",
       "4                4       41     9.76\n",
       "5                0        9     0.00"
      ]
     },
     "execution_count": 23,
     "metadata": {},
     "output_type": "execute_result"
    }
   ],
   "source": [
    "debt_percent('children')"
   ]
  },
  {
   "cell_type": "markdown",
   "id": "b8f9d934",
   "metadata": {},
   "source": [
    "<div class=\"alert alert-success\">\n",
    "<b>Комментарий ревьюера №1</b> ✅\n",
    "    \n",
    "Могу посоветовать переименовать столбцы и написать функцию для построения сводных во всех вопросах.\n",
    "</div>"
   ]
  },
  {
   "cell_type": "markdown",
   "id": "2eb9088e",
   "metadata": {
    "deletable": false,
    "id": "2eb9088e"
   },
   "source": [
    "**Вывод**: Наибольший процент задолженности (более 9 процентов выборки) среди клиентов с 1 и 2 детьми, между этими категориями разница в количестве должников незначительна. Процент должников меньше (менее 8 процентов выборки) среди клиентов без детей. Так как клиентов с 3-5 детьми слишком мало, выборка нерепрезентативна, чтобы делать выводы.\n",
    "\n",
    "Клиенты с детьми реже возвращают кредит в срок."
   ]
  },
  {
   "cell_type": "markdown",
   "id": "bc9e00c5",
   "metadata": {},
   "source": [
    "<div class=\"alert alert-info\">\n",
    "Вывод скорректирован.\n",
    "</div> "
   ]
  },
  {
   "cell_type": "markdown",
   "id": "dff3a4e2",
   "metadata": {},
   "source": [
    "<div class=\"alert alert-danger\">\n",
    "<b>Комментарий ревьюера №1</b> ❌\n",
    "    \n",
    "Выявлять зависимость стоит, сравнивая самые большие, сопоставимые по размеру категории заемщиков. Какую зависимость можно выявить, сравнив категории с 0, 1 и 2 детьми?\n",
    "</div>"
   ]
  },
  {
   "cell_type": "markdown",
   "id": "1305e381",
   "metadata": {},
   "source": [
    "<div class=\"alert alert-warning\">\n",
    "<b>Комментарий ревьюера №2</b> ⚠️\n",
    "    \n",
    "По людям с 0-2 детьми: чем больше детей, тем выше процент должников\n",
    "</div>"
   ]
  },
  {
   "cell_type": "markdown",
   "id": "74c9b3a7",
   "metadata": {
    "deletable": false,
    "editable": false,
    "id": "74c9b3a7"
   },
   "source": [
    "#### 3.2 Есть ли зависимость между семейным положением и возвратом кредита в срок?"
   ]
  },
  {
   "cell_type": "code",
   "execution_count": 24,
   "id": "8098ab3b",
   "metadata": {
    "deletable": false,
    "id": "8098ab3b"
   },
   "outputs": [
    {
     "data": {
      "text/html": [
       "<div>\n",
       "<style scoped>\n",
       "    .dataframe tbody tr th:only-of-type {\n",
       "        vertical-align: middle;\n",
       "    }\n",
       "\n",
       "    .dataframe tbody tr th {\n",
       "        vertical-align: top;\n",
       "    }\n",
       "\n",
       "    .dataframe thead th {\n",
       "        text-align: right;\n",
       "    }\n",
       "</style>\n",
       "<table border=\"1\" class=\"dataframe\">\n",
       "  <thead>\n",
       "    <tr style=\"text-align: right;\">\n",
       "      <th></th>\n",
       "      <th>debt_sum</th>\n",
       "      <th>clients</th>\n",
       "      <th>percent</th>\n",
       "    </tr>\n",
       "    <tr>\n",
       "      <th>family_status</th>\n",
       "      <th></th>\n",
       "      <th></th>\n",
       "      <th></th>\n",
       "    </tr>\n",
       "  </thead>\n",
       "  <tbody>\n",
       "    <tr>\n",
       "      <th>Не женат / не замужем</th>\n",
       "      <td>273</td>\n",
       "      <td>2796</td>\n",
       "      <td>9.76</td>\n",
       "    </tr>\n",
       "    <tr>\n",
       "      <th>в разводе</th>\n",
       "      <td>84</td>\n",
       "      <td>1189</td>\n",
       "      <td>7.06</td>\n",
       "    </tr>\n",
       "    <tr>\n",
       "      <th>вдовец / вдова</th>\n",
       "      <td>63</td>\n",
       "      <td>951</td>\n",
       "      <td>6.62</td>\n",
       "    </tr>\n",
       "    <tr>\n",
       "      <th>гражданский брак</th>\n",
       "      <td>385</td>\n",
       "      <td>4134</td>\n",
       "      <td>9.31</td>\n",
       "    </tr>\n",
       "    <tr>\n",
       "      <th>женат / замужем</th>\n",
       "      <td>927</td>\n",
       "      <td>12261</td>\n",
       "      <td>7.56</td>\n",
       "    </tr>\n",
       "  </tbody>\n",
       "</table>\n",
       "</div>"
      ],
      "text/plain": [
       "                       debt_sum  clients  percent\n",
       "family_status                                    \n",
       "Не женат / не замужем       273     2796     9.76\n",
       "в разводе                    84     1189     7.06\n",
       "вдовец / вдова               63      951     6.62\n",
       "гражданский брак            385     4134     9.31\n",
       "женат / замужем             927    12261     7.56"
      ]
     },
     "execution_count": 24,
     "metadata": {},
     "output_type": "execute_result"
    }
   ],
   "source": [
    "debt_percent('family_status')"
   ]
  },
  {
   "cell_type": "markdown",
   "id": "c389ca63",
   "metadata": {
    "deletable": false,
    "id": "c389ca63"
   },
   "source": [
    "**Вывод:** Наибольшее количество должников (более 9 процентов выборки) среди неженатых/незамужних и живущих в гражданском браке. Менее 8 процентов должников среди женатых/замужних и находящихся в разводе. Наименьшее количество должников (менее 7 процентов) среди вдовцов/вдов."
   ]
  },
  {
   "cell_type": "markdown",
   "id": "e16e2a3d",
   "metadata": {},
   "source": [
    "<div class=\"alert alert-success\">\n",
    "<b>Комментарий ревьюера №1</b> ✅\n",
    "    \n",
    "Люди, побывавшие в официальном браке, наиболее надежны. Возможно, есть связь с возрастом\n",
    "</div>"
   ]
  },
  {
   "cell_type": "markdown",
   "id": "9529de68",
   "metadata": {
    "deletable": false,
    "editable": false,
    "id": "9529de68"
   },
   "source": [
    "#### 3.3 Есть ли зависимость между уровнем дохода и возвратом кредита в срок?"
   ]
  },
  {
   "cell_type": "code",
   "execution_count": 25,
   "id": "8787f44a",
   "metadata": {
    "deletable": false,
    "id": "8787f44a"
   },
   "outputs": [
    {
     "data": {
      "text/html": [
       "<div>\n",
       "<style scoped>\n",
       "    .dataframe tbody tr th:only-of-type {\n",
       "        vertical-align: middle;\n",
       "    }\n",
       "\n",
       "    .dataframe tbody tr th {\n",
       "        vertical-align: top;\n",
       "    }\n",
       "\n",
       "    .dataframe thead th {\n",
       "        text-align: right;\n",
       "    }\n",
       "</style>\n",
       "<table border=\"1\" class=\"dataframe\">\n",
       "  <thead>\n",
       "    <tr style=\"text-align: right;\">\n",
       "      <th></th>\n",
       "      <th>debt_sum</th>\n",
       "      <th>clients</th>\n",
       "      <th>percent</th>\n",
       "    </tr>\n",
       "    <tr>\n",
       "      <th>total_income_category</th>\n",
       "      <th></th>\n",
       "      <th></th>\n",
       "      <th></th>\n",
       "    </tr>\n",
       "  </thead>\n",
       "  <tbody>\n",
       "    <tr>\n",
       "      <th>A</th>\n",
       "      <td>2</td>\n",
       "      <td>25</td>\n",
       "      <td>8.00</td>\n",
       "    </tr>\n",
       "    <tr>\n",
       "      <th>B</th>\n",
       "      <td>354</td>\n",
       "      <td>5014</td>\n",
       "      <td>7.06</td>\n",
       "    </tr>\n",
       "    <tr>\n",
       "      <th>C</th>\n",
       "      <td>1353</td>\n",
       "      <td>15921</td>\n",
       "      <td>8.50</td>\n",
       "    </tr>\n",
       "    <tr>\n",
       "      <th>D</th>\n",
       "      <td>21</td>\n",
       "      <td>349</td>\n",
       "      <td>6.02</td>\n",
       "    </tr>\n",
       "    <tr>\n",
       "      <th>E</th>\n",
       "      <td>2</td>\n",
       "      <td>22</td>\n",
       "      <td>9.09</td>\n",
       "    </tr>\n",
       "  </tbody>\n",
       "</table>\n",
       "</div>"
      ],
      "text/plain": [
       "                       debt_sum  clients  percent\n",
       "total_income_category                            \n",
       "A                             2       25     8.00\n",
       "B                           354     5014     7.06\n",
       "C                          1353    15921     8.50\n",
       "D                            21      349     6.02\n",
       "E                             2       22     9.09"
      ]
     },
     "execution_count": 25,
     "metadata": {},
     "output_type": "execute_result"
    }
   ],
   "source": [
    "debt_percent('total_income_category')"
   ]
  },
  {
   "cell_type": "markdown",
   "id": "6dd14b57",
   "metadata": {
    "deletable": false,
    "id": "6dd14b57"
   },
   "source": [
    "**Вывод**: Возьмем для сравнения крупные категории по уровню дохода B и С. Реже возвращают кредит в срок клиенты категории C со средним уровнем дохода (50-200 тыс. рублей), процент должников составляет 8.5 процентов выборки. Клиенты категории B с доходом 200 тыс. - 1 млн. рублей чаще возвращают кредит в срок, процент должников около 7 процентов. Клиентов категорий A, D и E слишком мало, чтобы по ним делать выводы."
   ]
  },
  {
   "cell_type": "markdown",
   "id": "219545d1",
   "metadata": {},
   "source": [
    "<div class=\"alert alert-info\">\n",
    "Вывод скорректирован.\n",
    "</div> "
   ]
  },
  {
   "cell_type": "markdown",
   "id": "de8b537c",
   "metadata": {},
   "source": [
    "<div class=\"alert alert-danger\">\n",
    "<b>Комментарий ревьюера №1</b> ❌\n",
    "    \n",
    "Здесь лучше делать выводы по двум самым крупным категориям - B и С. По остальным категориям данных недостаточно для корректных выводов, статпогрешность большая\n",
    "</div>"
   ]
  },
  {
   "cell_type": "markdown",
   "id": "7d7e41d3",
   "metadata": {},
   "source": [
    "<div class=\"alert alert-success\">\n",
    "<b>Комментарий ревьюера №2</b> ✅\n",
    "    \n",
    "Чем выше доход, тем ниже процент должников\n",
    "</div>"
   ]
  },
  {
   "cell_type": "markdown",
   "id": "1dcc9b12",
   "metadata": {
    "deletable": false,
    "editable": false,
    "id": "1dcc9b12"
   },
   "source": [
    "#### 3.4 Как разные цели кредита влияют на его возврат в срок?"
   ]
  },
  {
   "cell_type": "code",
   "execution_count": 26,
   "id": "c602bc8b",
   "metadata": {
    "deletable": false,
    "id": "c602bc8b"
   },
   "outputs": [
    {
     "data": {
      "text/html": [
       "<div>\n",
       "<style scoped>\n",
       "    .dataframe tbody tr th:only-of-type {\n",
       "        vertical-align: middle;\n",
       "    }\n",
       "\n",
       "    .dataframe tbody tr th {\n",
       "        vertical-align: top;\n",
       "    }\n",
       "\n",
       "    .dataframe thead th {\n",
       "        text-align: right;\n",
       "    }\n",
       "</style>\n",
       "<table border=\"1\" class=\"dataframe\">\n",
       "  <thead>\n",
       "    <tr style=\"text-align: right;\">\n",
       "      <th></th>\n",
       "      <th>debt_sum</th>\n",
       "      <th>clients</th>\n",
       "      <th>percent</th>\n",
       "    </tr>\n",
       "    <tr>\n",
       "      <th>purpose_category</th>\n",
       "      <th></th>\n",
       "      <th></th>\n",
       "      <th></th>\n",
       "    </tr>\n",
       "  </thead>\n",
       "  <tbody>\n",
       "    <tr>\n",
       "      <th>операции с автомобилем</th>\n",
       "      <td>400</td>\n",
       "      <td>4279</td>\n",
       "      <td>9.35</td>\n",
       "    </tr>\n",
       "    <tr>\n",
       "      <th>операции с недвижимостью</th>\n",
       "      <td>780</td>\n",
       "      <td>10751</td>\n",
       "      <td>7.26</td>\n",
       "    </tr>\n",
       "    <tr>\n",
       "      <th>получение образования</th>\n",
       "      <td>369</td>\n",
       "      <td>3988</td>\n",
       "      <td>9.25</td>\n",
       "    </tr>\n",
       "    <tr>\n",
       "      <th>проведение свадьбы</th>\n",
       "      <td>183</td>\n",
       "      <td>2313</td>\n",
       "      <td>7.91</td>\n",
       "    </tr>\n",
       "  </tbody>\n",
       "</table>\n",
       "</div>"
      ],
      "text/plain": [
       "                          debt_sum  clients  percent\n",
       "purpose_category                                    \n",
       "операции с автомобилем         400     4279     9.35\n",
       "операции с недвижимостью       780    10751     7.26\n",
       "получение образования          369     3988     9.25\n",
       "проведение свадьбы             183     2313     7.91"
      ]
     },
     "execution_count": 26,
     "metadata": {},
     "output_type": "execute_result"
    }
   ],
   "source": [
    "debt_percent('purpose_category')"
   ]
  },
  {
   "cell_type": "markdown",
   "id": "cf05ed63",
   "metadata": {
    "deletable": false,
    "id": "cf05ed63"
   },
   "source": [
    "**Вывод:** Чаще всего (более 9 процентов клиентов) не возвращают в срок кредиты на операции с автомобилем и получение образования. Кредиты на проведение свадьбы и операции с недвижимостью не возвращают в срок реже, менее 8 процентов клиентов."
   ]
  },
  {
   "cell_type": "markdown",
   "id": "1f9892cb",
   "metadata": {},
   "source": [
    "<div class=\"alert alert-success\">\n",
    "<b>Комментарий ревьюера №1</b> ✅\n",
    "    \n",
    "Верно, можно подумать над причинами такого распределения\n",
    "</div>"
   ]
  },
  {
   "cell_type": "markdown",
   "id": "46c1f10b",
   "metadata": {
    "deletable": false,
    "editable": false,
    "id": "46c1f10b"
   },
   "source": [
    "#### 3.5 Приведите возможные причины появления пропусков в исходных данных."
   ]
  },
  {
   "cell_type": "markdown",
   "id": "3697d2a9",
   "metadata": {
    "deletable": false,
    "id": "3697d2a9"
   },
   "source": [
    "*Ответ:*\n",
    "Пропуски в исходных данных могут быть по причине:\n",
    "* Ошибок при сборе данных, например ошибка сотрудника, нежелание заемщика указывать информацию;\n",
    "* Технических проблем при передаче или хранении данных;\n",
    "* Неприменимости определенных значений, например уровень дохода для безработного."
   ]
  },
  {
   "cell_type": "markdown",
   "id": "31eb61ab",
   "metadata": {},
   "source": [
    "<div class=\"alert alert-info\">\n",
    "Ответ дополнен.</div>"
   ]
  },
  {
   "cell_type": "markdown",
   "id": "f8ae39cf",
   "metadata": {},
   "source": [
    "<div class=\"alert alert-danger\">\n",
    "<b>Комментарий ревьюера №1</b> ❌\n",
    "    \n",
    "Тут важно отметить человеческий и технический факторы. Дополни, пожалуйста, причины, исходя из этого\n",
    "</div>"
   ]
  },
  {
   "cell_type": "markdown",
   "id": "f99f0dca",
   "metadata": {},
   "source": [
    "<div class=\"alert alert-success\">\n",
    "<b>Комментарий ревьюера №2</b> ✅\n",
    "    \n",
    "Клиенты могли не предоставить данные. Возможно, эту информацию не требуют в некоторых случаях. Проблемы могли возникнуть на этапе загрузки и на этапе выгрузки данных. Неправильный запрос, объединение таблиц также может быть причиной.\n",
    "</div>"
   ]
  },
  {
   "cell_type": "markdown",
   "id": "3137d257",
   "metadata": {
    "deletable": false,
    "editable": false,
    "id": "3137d257"
   },
   "source": [
    "#### 3.6 Объясните, почему заполнить пропуски медианным значением — лучшее решение для количественных переменных."
   ]
  },
  {
   "cell_type": "markdown",
   "id": "cf40012a",
   "metadata": {
    "deletable": false,
    "id": "cf40012a"
   },
   "source": [
    "*Ответ:* Среднее значение некорректно характеризует данные, когда некоторые значения сильно выделяются среди большинства. Наличие отдельных клиентов с аномально низким или высоким уровнем дохода может сильно исказить среднее значение, в то время как медиана остается постоянной."
   ]
  },
  {
   "cell_type": "markdown",
   "id": "9ccac7ad",
   "metadata": {},
   "source": [
    "<div class=\"alert alert-success\">\n",
    "<b>Комментарий ревьюера №1</b> ✅\n",
    "    \n",
    "Да, смотрим на наличие выбросов👍\n",
    "</div>"
   ]
  },
  {
   "cell_type": "markdown",
   "id": "57bc304e",
   "metadata": {
    "deletable": false,
    "editable": false,
    "id": "57bc304e"
   },
   "source": [
    "### Шаг 4: общий вывод."
   ]
  },
  {
   "cell_type": "markdown",
   "id": "1ab75d1c",
   "metadata": {
    "deletable": false,
    "id": "1ab75d1c"
   },
   "source": [
    "Мы изучили полученные данные, содержащие статистику платежеспособности клиентов, заполнили пропуски в данных, устранили дубликаты, категоризировали клиентов по уровню дохода и целям получения кредита.\n",
    "\n",
    "После чего проанализировали зависимость возврата клиентом кредита в срок от следующих характеристик:\n",
    "* Количество детей;\n",
    "* Семейное положение;\n",
    "* Уровень дохода;\n",
    "* Цель кредита.\n",
    "\n",
    "По результатам анализа можно сделать выводы, что:\n",
    "* Бездетные клиенты чаще других возвращают кредит в срок.\n",
    "* Процент задолженности меньше у клиентов, которые состоят/состояли в браке (женатые/замужние, разведенные, вдовцы/вдовы). Вероятно, это более возрастная категория клиентов.\n",
    "* При сравнении самых многочисленных категорий по уровню дохода B и С, выявлено, что клиенты с более высоким уровнем дохода чаще возвращают кредит в срок, чем клиенты со средним доходом.\n",
    "* Кредиты на проведение свадьбы и операции с недвижимостью возвращают в срок чаще, чем кредиты на операции с автомобилем и получение образования.\n",
    "\n",
    "Из этого следует, что наиболее надежным клиентом будет являться клиент без детей, состоящий/состоявший в браке, с высоким уровнем дохода, который берет кредит на операции с недвижимостью. \n",
    "\n",
    "Рискованным заемщиком можно считать клиента с детьми, при этом не состоящего в браке, с недостаточно высоким уровнем дохода, который берет кредит на автомобиль или образование.\n",
    "\n",
    "Заказчику рекомендуется учесть в модели кредитного скоринга наличие детей у клиента, его возраст, состоял ли клиент когда-либо в браке, уровень его дохода и цель кредита."
   ]
  },
  {
   "cell_type": "markdown",
   "id": "af35400f",
   "metadata": {},
   "source": [
    "<div class=\"alert alert-warning\">\n",
    "<b>Комментарий ревьюера №1</b> ⚠️\n",
    "    \n",
    "Можно написать о том, что было сделано в предобработке. Рекомендованная структура выводов следующая:\n",
    "    \n",
    "- абзац по предобработке данных, что было сделано\n",
    "    \n",
    "- выявленные зависимости просрочки от разных факторов в общем виде\n",
    "    \n",
    "- портреты надежного и рискованного заемщика\n",
    "    \n",
    "- рекомендации заказчику\n",
    "</div>"
   ]
  },
  {
   "cell_type": "markdown",
   "id": "475235fe",
   "metadata": {},
   "source": [
    "<div class=\"alert alert-success\">\n",
    "<b>Комментарий ревьюера №2</b> ✅\n",
    "    \n",
    "В качестве рекомендаций можно предложить другую категоризацию по доходам. Или исследовать другие признаки, рассчитать другие метрики (отношение дохода к сумме выплат и др.). В анкете сделать поля о доходе и стаже обязательными к заполнению, добавить автопроверку на формат вводимых пользователем данных\n",
    "</div>"
   ]
  },
  {
   "cell_type": "markdown",
   "id": "17306bdc",
   "metadata": {},
   "source": [
    "<div style=\"border:solid purple 2px; padding: 20px\"> \n",
    "<b> <font color='purple' >   \n",
    "    \n",
    "В целом, работа хорошая. У тебя отличные аналитические навыки, но остались небольшие доработки. Нужно проверить выводы, дополнить причины пропусков. Доделывай и присылай на повторную проверку.\n",
    "        \n",
    "Жду твоих исправлений 😊\n",
    "</font></b>\n",
    "</div>"
   ]
  },
  {
   "cell_type": "markdown",
   "id": "b1f1dfa0",
   "metadata": {},
   "source": [
    "<div style=\"border:solid purple 2px; padding: 20px\"> \n",
    "<b> <font color='purple' >   \n",
    "Отлично! Критических замечаний больше нет. Проект принят! 👏 Поздравляю и желаю удачи!\n",
    "</font></b>\n",
    "</div>"
   ]
  }
 ],
 "metadata": {
  "ExecuteTimeLog": [
   {
    "duration": 484,
    "start_time": "2024-04-02T14:19:57.657Z"
   },
   {
    "duration": 25,
    "start_time": "2024-04-02T14:20:05.765Z"
   },
   {
    "duration": 14,
    "start_time": "2024-04-02T14:22:07.598Z"
   },
   {
    "duration": 497,
    "start_time": "2024-04-02T14:28:31.191Z"
   },
   {
    "duration": 28,
    "start_time": "2024-04-02T14:31:34.093Z"
   },
   {
    "duration": 20,
    "start_time": "2024-04-02T14:31:42.833Z"
   },
   {
    "duration": 12,
    "start_time": "2024-04-02T14:31:55.781Z"
   },
   {
    "duration": 461,
    "start_time": "2024-04-02T14:32:02.592Z"
   },
   {
    "duration": 22,
    "start_time": "2024-04-02T14:32:03.055Z"
   },
   {
    "duration": 44,
    "start_time": "2024-04-02T14:32:03.079Z"
   },
   {
    "duration": 25,
    "start_time": "2024-04-02T14:32:03.126Z"
   },
   {
    "duration": 66,
    "start_time": "2024-04-02T14:32:03.152Z"
   },
   {
    "duration": 3,
    "start_time": "2024-04-02T14:32:03.220Z"
   },
   {
    "duration": 33,
    "start_time": "2024-04-02T14:32:03.225Z"
   },
   {
    "duration": 44,
    "start_time": "2024-04-02T14:32:03.259Z"
   },
   {
    "duration": 48,
    "start_time": "2024-04-02T14:32:03.305Z"
   },
   {
    "duration": 7,
    "start_time": "2024-04-02T14:32:03.355Z"
   },
   {
    "duration": 63,
    "start_time": "2024-04-02T14:32:03.364Z"
   },
   {
    "duration": 11,
    "start_time": "2024-04-02T14:32:03.428Z"
   },
   {
    "duration": 30,
    "start_time": "2024-04-02T14:32:03.440Z"
   },
   {
    "duration": 24,
    "start_time": "2024-04-02T14:32:03.472Z"
   },
   {
    "duration": 57,
    "start_time": "2024-04-02T14:32:03.498Z"
   },
   {
    "duration": 18,
    "start_time": "2024-04-02T14:32:03.557Z"
   },
   {
    "duration": 13,
    "start_time": "2024-04-02T14:32:03.577Z"
   },
   {
    "duration": 21,
    "start_time": "2024-04-02T14:32:03.592Z"
   },
   {
    "duration": 44,
    "start_time": "2024-04-02T14:32:03.615Z"
   },
   {
    "duration": 14,
    "start_time": "2024-04-02T14:32:03.661Z"
   },
   {
    "duration": 41,
    "start_time": "2024-04-02T14:32:03.676Z"
   },
   {
    "duration": 31,
    "start_time": "2024-04-02T14:32:03.718Z"
   },
   {
    "duration": 59,
    "start_time": "2024-04-02T14:32:03.751Z"
   },
   {
    "duration": 31,
    "start_time": "2024-04-02T14:32:03.812Z"
   },
   {
    "duration": 30,
    "start_time": "2024-04-02T14:32:03.844Z"
   },
   {
    "duration": 5,
    "start_time": "2024-04-02T14:35:03.517Z"
   },
   {
    "duration": 8,
    "start_time": "2024-04-02T14:38:08.374Z"
   },
   {
    "duration": 30,
    "start_time": "2024-04-02T14:38:24.434Z"
   },
   {
    "duration": 9,
    "start_time": "2024-04-02T14:39:16.114Z"
   },
   {
    "duration": 8,
    "start_time": "2024-04-02T14:40:38.614Z"
   },
   {
    "duration": 8,
    "start_time": "2024-04-02T14:40:46.502Z"
   },
   {
    "duration": 7,
    "start_time": "2024-04-02T14:40:58.542Z"
   },
   {
    "duration": 7,
    "start_time": "2024-04-02T14:41:20.886Z"
   },
   {
    "duration": 11,
    "start_time": "2024-04-02T14:41:36.662Z"
   },
   {
    "duration": 15,
    "start_time": "2024-04-02T14:42:14.435Z"
   },
   {
    "duration": 12,
    "start_time": "2024-04-02T14:42:27.155Z"
   },
   {
    "duration": 11,
    "start_time": "2024-04-02T14:42:35.023Z"
   },
   {
    "duration": 12,
    "start_time": "2024-04-02T14:42:56.847Z"
   },
   {
    "duration": 10,
    "start_time": "2024-04-02T14:43:55.163Z"
   },
   {
    "duration": 10,
    "start_time": "2024-04-02T14:44:05.203Z"
   },
   {
    "duration": 13,
    "start_time": "2024-04-02T14:44:27.963Z"
   },
   {
    "duration": 13,
    "start_time": "2024-04-02T14:45:33.603Z"
   },
   {
    "duration": 14,
    "start_time": "2024-04-02T14:46:10.059Z"
   },
   {
    "duration": 12,
    "start_time": "2024-04-02T14:52:49.018Z"
   },
   {
    "duration": 76,
    "start_time": "2024-04-02T14:56:11.229Z"
   },
   {
    "duration": 21,
    "start_time": "2024-04-02T14:56:14.649Z"
   },
   {
    "duration": 23,
    "start_time": "2024-04-02T14:56:58.136Z"
   },
   {
    "duration": 21,
    "start_time": "2024-04-02T14:58:18.680Z"
   },
   {
    "duration": 19,
    "start_time": "2024-04-02T14:59:01.488Z"
   },
   {
    "duration": 578,
    "start_time": "2024-04-03T03:10:39.391Z"
   },
   {
    "duration": 19,
    "start_time": "2024-04-03T03:10:39.970Z"
   },
   {
    "duration": 11,
    "start_time": "2024-04-03T03:10:39.990Z"
   },
   {
    "duration": 14,
    "start_time": "2024-04-03T03:10:40.003Z"
   },
   {
    "duration": 31,
    "start_time": "2024-04-03T03:10:40.018Z"
   },
   {
    "duration": 3,
    "start_time": "2024-04-03T03:10:40.050Z"
   },
   {
    "duration": 32,
    "start_time": "2024-04-03T03:10:40.054Z"
   },
   {
    "duration": 12,
    "start_time": "2024-04-03T03:10:40.087Z"
   },
   {
    "duration": 9,
    "start_time": "2024-04-03T03:10:40.100Z"
   },
   {
    "duration": 21,
    "start_time": "2024-04-03T03:10:40.111Z"
   },
   {
    "duration": 27,
    "start_time": "2024-04-03T03:10:40.134Z"
   },
   {
    "duration": 7,
    "start_time": "2024-04-03T03:10:40.162Z"
   },
   {
    "duration": 2,
    "start_time": "2024-04-03T03:10:40.171Z"
   },
   {
    "duration": 13,
    "start_time": "2024-04-03T03:10:40.174Z"
   },
   {
    "duration": 18,
    "start_time": "2024-04-03T03:10:40.188Z"
   },
   {
    "duration": 14,
    "start_time": "2024-04-03T03:10:40.207Z"
   },
   {
    "duration": 3,
    "start_time": "2024-04-03T03:10:40.222Z"
   },
   {
    "duration": 27,
    "start_time": "2024-04-03T03:10:40.226Z"
   },
   {
    "duration": 5,
    "start_time": "2024-04-03T03:10:40.254Z"
   },
   {
    "duration": 6,
    "start_time": "2024-04-03T03:10:40.260Z"
   },
   {
    "duration": 12,
    "start_time": "2024-04-03T03:10:40.267Z"
   },
   {
    "duration": 18,
    "start_time": "2024-04-03T03:10:45.548Z"
   },
   {
    "duration": 54,
    "start_time": "2024-04-03T03:23:02.918Z"
   },
   {
    "duration": 6,
    "start_time": "2024-04-03T03:24:08.089Z"
   },
   {
    "duration": 6,
    "start_time": "2024-04-03T03:24:16.784Z"
   },
   {
    "duration": 7,
    "start_time": "2024-04-03T03:24:36.677Z"
   },
   {
    "duration": 18,
    "start_time": "2024-04-03T03:25:17.629Z"
   },
   {
    "duration": 9,
    "start_time": "2024-04-03T03:28:07.898Z"
   },
   {
    "duration": 10,
    "start_time": "2024-04-03T03:28:16.324Z"
   },
   {
    "duration": 71,
    "start_time": "2024-04-03T03:28:27.139Z"
   },
   {
    "duration": 9,
    "start_time": "2024-04-03T03:28:43.938Z"
   },
   {
    "duration": 9,
    "start_time": "2024-04-03T03:30:34.941Z"
   },
   {
    "duration": 11,
    "start_time": "2024-04-03T04:17:02.994Z"
   },
   {
    "duration": 11,
    "start_time": "2024-04-03T04:17:21.514Z"
   },
   {
    "duration": 15,
    "start_time": "2024-04-03T04:23:41.673Z"
   },
   {
    "duration": 12,
    "start_time": "2024-04-03T04:30:04.814Z"
   },
   {
    "duration": 11,
    "start_time": "2024-04-03T04:31:11.738Z"
   },
   {
    "duration": 11,
    "start_time": "2024-04-03T04:55:12.767Z"
   },
   {
    "duration": 11,
    "start_time": "2024-04-03T04:57:06.777Z"
   },
   {
    "duration": 702,
    "start_time": "2024-04-04T08:53:14.213Z"
   },
   {
    "duration": 23,
    "start_time": "2024-04-04T08:53:14.917Z"
   },
   {
    "duration": 16,
    "start_time": "2024-04-04T08:53:14.941Z"
   },
   {
    "duration": 12,
    "start_time": "2024-04-04T08:53:14.959Z"
   },
   {
    "duration": 58,
    "start_time": "2024-04-04T08:53:14.973Z"
   },
   {
    "duration": 3,
    "start_time": "2024-04-04T08:53:15.033Z"
   },
   {
    "duration": 57,
    "start_time": "2024-04-04T08:53:15.038Z"
   },
   {
    "duration": 16,
    "start_time": "2024-04-04T08:53:15.098Z"
   },
   {
    "duration": 42,
    "start_time": "2024-04-04T08:53:15.116Z"
   },
   {
    "duration": 68,
    "start_time": "2024-04-04T08:53:15.162Z"
   },
   {
    "duration": 84,
    "start_time": "2024-04-04T08:53:15.231Z"
   },
   {
    "duration": 11,
    "start_time": "2024-04-04T08:53:15.316Z"
   },
   {
    "duration": 38,
    "start_time": "2024-04-04T08:53:15.329Z"
   },
   {
    "duration": 48,
    "start_time": "2024-04-04T08:53:15.368Z"
   },
   {
    "duration": 56,
    "start_time": "2024-04-04T08:53:15.418Z"
   },
   {
    "duration": 31,
    "start_time": "2024-04-04T08:53:15.477Z"
   },
   {
    "duration": 10,
    "start_time": "2024-04-04T08:53:15.510Z"
   },
   {
    "duration": 40,
    "start_time": "2024-04-04T08:53:15.521Z"
   },
   {
    "duration": 40,
    "start_time": "2024-04-04T08:53:15.562Z"
   },
   {
    "duration": 11,
    "start_time": "2024-04-04T08:53:15.604Z"
   },
   {
    "duration": 23,
    "start_time": "2024-04-04T08:53:15.617Z"
   },
   {
    "duration": 21,
    "start_time": "2024-04-04T08:53:15.642Z"
   },
   {
    "duration": 13,
    "start_time": "2024-04-04T08:53:15.665Z"
   },
   {
    "duration": 12,
    "start_time": "2024-04-04T08:53:15.680Z"
   },
   {
    "duration": 22,
    "start_time": "2024-04-04T08:53:15.696Z"
   },
   {
    "duration": 473,
    "start_time": "2024-04-04T08:54:22.921Z"
   },
   {
    "duration": 24,
    "start_time": "2024-04-04T08:54:23.395Z"
   },
   {
    "duration": 19,
    "start_time": "2024-04-04T08:54:23.420Z"
   },
   {
    "duration": 13,
    "start_time": "2024-04-04T08:54:23.441Z"
   },
   {
    "duration": 49,
    "start_time": "2024-04-04T08:54:23.456Z"
   },
   {
    "duration": 3,
    "start_time": "2024-04-04T08:54:23.506Z"
   },
   {
    "duration": 18,
    "start_time": "2024-04-04T08:54:23.511Z"
   },
   {
    "duration": 3,
    "start_time": "2024-04-04T08:54:23.531Z"
   },
   {
    "duration": 13,
    "start_time": "2024-04-04T08:54:23.536Z"
   },
   {
    "duration": 5,
    "start_time": "2024-04-04T08:54:23.551Z"
   },
   {
    "duration": 56,
    "start_time": "2024-04-04T08:54:23.557Z"
   },
   {
    "duration": 11,
    "start_time": "2024-04-04T08:54:23.615Z"
   },
   {
    "duration": 5,
    "start_time": "2024-04-04T08:54:23.628Z"
   },
   {
    "duration": 15,
    "start_time": "2024-04-04T08:54:23.634Z"
   },
   {
    "duration": 37,
    "start_time": "2024-04-04T08:54:23.651Z"
   },
   {
    "duration": 17,
    "start_time": "2024-04-04T08:54:23.690Z"
   },
   {
    "duration": 3,
    "start_time": "2024-04-04T08:54:23.709Z"
   },
   {
    "duration": 13,
    "start_time": "2024-04-04T08:54:23.713Z"
   },
   {
    "duration": 6,
    "start_time": "2024-04-04T08:54:23.727Z"
   },
   {
    "duration": 4,
    "start_time": "2024-04-04T08:54:23.734Z"
   },
   {
    "duration": 14,
    "start_time": "2024-04-04T08:54:23.739Z"
   },
   {
    "duration": 14,
    "start_time": "2024-04-04T08:54:23.786Z"
   },
   {
    "duration": 18,
    "start_time": "2024-04-04T08:54:23.801Z"
   },
   {
    "duration": 31,
    "start_time": "2024-04-04T08:54:23.820Z"
   },
   {
    "duration": 21,
    "start_time": "2024-04-04T08:54:23.853Z"
   },
   {
    "duration": 51,
    "start_time": "2024-04-04T15:28:55.088Z"
   },
   {
    "duration": 700,
    "start_time": "2024-04-04T15:29:03.700Z"
   },
   {
    "duration": 25,
    "start_time": "2024-04-04T15:29:04.402Z"
   },
   {
    "duration": 17,
    "start_time": "2024-04-04T15:29:04.429Z"
   },
   {
    "duration": 12,
    "start_time": "2024-04-04T15:29:04.449Z"
   },
   {
    "duration": 41,
    "start_time": "2024-04-04T15:29:04.480Z"
   },
   {
    "duration": 3,
    "start_time": "2024-04-04T15:29:04.523Z"
   },
   {
    "duration": 11,
    "start_time": "2024-04-04T15:29:04.528Z"
   },
   {
    "duration": 4,
    "start_time": "2024-04-04T15:29:04.541Z"
   },
   {
    "duration": 39,
    "start_time": "2024-04-04T15:29:04.547Z"
   },
   {
    "duration": 5,
    "start_time": "2024-04-04T15:29:04.589Z"
   },
   {
    "duration": 45,
    "start_time": "2024-04-04T15:29:04.597Z"
   },
   {
    "duration": 11,
    "start_time": "2024-04-04T15:29:04.644Z"
   },
   {
    "duration": 23,
    "start_time": "2024-04-04T15:29:04.657Z"
   },
   {
    "duration": 22,
    "start_time": "2024-04-04T15:29:04.682Z"
   },
   {
    "duration": 36,
    "start_time": "2024-04-04T15:29:04.706Z"
   },
   {
    "duration": 24,
    "start_time": "2024-04-04T15:29:04.743Z"
   },
   {
    "duration": 4,
    "start_time": "2024-04-04T15:29:04.768Z"
   },
   {
    "duration": 29,
    "start_time": "2024-04-04T15:29:04.774Z"
   },
   {
    "duration": 10,
    "start_time": "2024-04-04T15:29:04.805Z"
   },
   {
    "duration": 5,
    "start_time": "2024-04-04T15:29:04.817Z"
   },
   {
    "duration": 14,
    "start_time": "2024-04-04T15:29:04.824Z"
   },
   {
    "duration": 4,
    "start_time": "2024-04-04T15:29:04.839Z"
   },
   {
    "duration": 508,
    "start_time": "2024-04-04T15:29:37.887Z"
   },
   {
    "duration": 24,
    "start_time": "2024-04-04T15:29:38.397Z"
   },
   {
    "duration": 17,
    "start_time": "2024-04-04T15:29:38.423Z"
   },
   {
    "duration": 24,
    "start_time": "2024-04-04T15:29:38.442Z"
   },
   {
    "duration": 52,
    "start_time": "2024-04-04T15:29:38.480Z"
   },
   {
    "duration": 4,
    "start_time": "2024-04-04T15:29:38.534Z"
   },
   {
    "duration": 26,
    "start_time": "2024-04-04T15:29:38.540Z"
   },
   {
    "duration": 13,
    "start_time": "2024-04-04T15:29:38.568Z"
   },
   {
    "duration": 26,
    "start_time": "2024-04-04T15:29:38.583Z"
   },
   {
    "duration": 5,
    "start_time": "2024-04-04T15:29:38.611Z"
   },
   {
    "duration": 43,
    "start_time": "2024-04-04T15:29:38.618Z"
   },
   {
    "duration": 18,
    "start_time": "2024-04-04T15:29:38.663Z"
   },
   {
    "duration": 5,
    "start_time": "2024-04-04T15:29:38.683Z"
   },
   {
    "duration": 23,
    "start_time": "2024-04-04T15:29:38.692Z"
   },
   {
    "duration": 26,
    "start_time": "2024-04-04T15:29:38.716Z"
   },
   {
    "duration": 20,
    "start_time": "2024-04-04T15:29:38.744Z"
   },
   {
    "duration": 4,
    "start_time": "2024-04-04T15:29:38.779Z"
   },
   {
    "duration": 18,
    "start_time": "2024-04-04T15:29:38.785Z"
   },
   {
    "duration": 7,
    "start_time": "2024-04-04T15:29:38.805Z"
   },
   {
    "duration": 7,
    "start_time": "2024-04-04T15:29:38.814Z"
   },
   {
    "duration": 13,
    "start_time": "2024-04-04T15:29:38.822Z"
   },
   {
    "duration": 8,
    "start_time": "2024-04-04T15:29:38.837Z"
   },
   {
    "duration": 38,
    "start_time": "2024-04-04T15:29:38.847Z"
   },
   {
    "duration": 16,
    "start_time": "2024-04-04T15:29:38.887Z"
   },
   {
    "duration": 14,
    "start_time": "2024-04-04T15:29:38.905Z"
   },
   {
    "duration": 15,
    "start_time": "2024-04-04T15:29:38.921Z"
   },
   {
    "duration": 13,
    "start_time": "2024-04-04T15:29:59.310Z"
   },
   {
    "duration": 22,
    "start_time": "2024-04-04T15:30:40.531Z"
   },
   {
    "duration": 15,
    "start_time": "2024-04-04T15:30:58.351Z"
   },
   {
    "duration": 15,
    "start_time": "2024-04-04T15:31:05.180Z"
   },
   {
    "duration": 3,
    "start_time": "2024-04-04T15:32:47.164Z"
   },
   {
    "duration": 9,
    "start_time": "2024-04-04T15:33:11.904Z"
   },
   {
    "duration": 11,
    "start_time": "2024-04-04T15:33:20.133Z"
   },
   {
    "duration": 12,
    "start_time": "2024-04-04T15:34:26.185Z"
   },
   {
    "duration": 13,
    "start_time": "2024-04-04T15:35:04.161Z"
   },
   {
    "duration": 13,
    "start_time": "2024-04-04T15:35:24.805Z"
   },
   {
    "duration": 70,
    "start_time": "2024-04-04T15:37:01.649Z"
   },
   {
    "duration": 9,
    "start_time": "2024-04-04T15:37:06.630Z"
   },
   {
    "duration": 4,
    "start_time": "2024-04-04T15:50:53.925Z"
   },
   {
    "duration": 522,
    "start_time": "2024-04-04T15:51:02.392Z"
   },
   {
    "duration": 25,
    "start_time": "2024-04-04T15:51:02.916Z"
   },
   {
    "duration": 32,
    "start_time": "2024-04-04T15:51:02.943Z"
   },
   {
    "duration": 13,
    "start_time": "2024-04-04T15:51:02.981Z"
   },
   {
    "duration": 70,
    "start_time": "2024-04-04T15:51:02.997Z"
   },
   {
    "duration": 4,
    "start_time": "2024-04-04T15:51:03.069Z"
   },
   {
    "duration": 42,
    "start_time": "2024-04-04T15:51:03.075Z"
   },
   {
    "duration": 30,
    "start_time": "2024-04-04T15:51:03.119Z"
   },
   {
    "duration": 24,
    "start_time": "2024-04-04T15:51:03.151Z"
   },
   {
    "duration": 8,
    "start_time": "2024-04-04T15:51:03.179Z"
   },
   {
    "duration": 52,
    "start_time": "2024-04-04T15:51:03.189Z"
   },
   {
    "duration": 11,
    "start_time": "2024-04-04T15:51:03.243Z"
   },
   {
    "duration": 26,
    "start_time": "2024-04-04T15:51:03.256Z"
   },
   {
    "duration": 15,
    "start_time": "2024-04-04T15:51:03.284Z"
   },
   {
    "duration": 31,
    "start_time": "2024-04-04T15:51:03.301Z"
   },
   {
    "duration": 19,
    "start_time": "2024-04-04T15:51:03.333Z"
   },
   {
    "duration": 3,
    "start_time": "2024-04-04T15:51:03.354Z"
   },
   {
    "duration": 30,
    "start_time": "2024-04-04T15:51:03.359Z"
   },
   {
    "duration": 17,
    "start_time": "2024-04-04T15:51:03.391Z"
   },
   {
    "duration": 5,
    "start_time": "2024-04-04T15:51:03.410Z"
   },
   {
    "duration": 34,
    "start_time": "2024-04-04T15:51:03.417Z"
   },
   {
    "duration": 26,
    "start_time": "2024-04-04T15:51:03.453Z"
   },
   {
    "duration": 20,
    "start_time": "2024-04-04T15:51:03.481Z"
   },
   {
    "duration": 13,
    "start_time": "2024-04-04T15:51:03.503Z"
   },
   {
    "duration": 16,
    "start_time": "2024-04-04T15:51:03.518Z"
   },
   {
    "duration": 20,
    "start_time": "2024-04-04T15:51:03.536Z"
   },
   {
    "duration": 86,
    "start_time": "2024-04-04T16:00:36.556Z"
   },
   {
    "duration": 90,
    "start_time": "2024-04-04T16:26:29.336Z"
   },
   {
    "duration": 4,
    "start_time": "2024-04-05T05:30:27.162Z"
   },
   {
    "duration": 629,
    "start_time": "2024-04-05T08:09:10.219Z"
   },
   {
    "duration": 23,
    "start_time": "2024-04-05T08:09:10.850Z"
   },
   {
    "duration": 15,
    "start_time": "2024-04-05T08:09:10.875Z"
   },
   {
    "duration": 12,
    "start_time": "2024-04-05T08:09:10.892Z"
   },
   {
    "duration": 37,
    "start_time": "2024-04-05T08:09:10.905Z"
   },
   {
    "duration": 4,
    "start_time": "2024-04-05T08:09:10.944Z"
   },
   {
    "duration": 12,
    "start_time": "2024-04-05T08:09:10.949Z"
   },
   {
    "duration": 25,
    "start_time": "2024-04-05T08:09:10.963Z"
   },
   {
    "duration": 7,
    "start_time": "2024-04-05T08:09:10.990Z"
   },
   {
    "duration": 5,
    "start_time": "2024-04-05T08:09:11.002Z"
   },
   {
    "duration": 39,
    "start_time": "2024-04-05T08:09:11.008Z"
   },
   {
    "duration": 11,
    "start_time": "2024-04-05T08:09:11.049Z"
   },
   {
    "duration": 3,
    "start_time": "2024-04-05T08:09:11.088Z"
   },
   {
    "duration": 16,
    "start_time": "2024-04-05T08:09:11.093Z"
   },
   {
    "duration": 20,
    "start_time": "2024-04-05T08:09:11.111Z"
   },
   {
    "duration": 16,
    "start_time": "2024-04-05T08:09:11.132Z"
   },
   {
    "duration": 18,
    "start_time": "2024-04-05T08:09:11.149Z"
   },
   {
    "duration": 26,
    "start_time": "2024-04-05T08:09:11.169Z"
   },
   {
    "duration": 10,
    "start_time": "2024-04-05T08:09:11.196Z"
   },
   {
    "duration": 8,
    "start_time": "2024-04-05T08:09:11.207Z"
   },
   {
    "duration": 22,
    "start_time": "2024-04-05T08:09:11.216Z"
   },
   {
    "duration": 5,
    "start_time": "2024-04-05T08:09:11.240Z"
   },
   {
    "duration": 24,
    "start_time": "2024-04-05T08:09:11.246Z"
   },
   {
    "duration": 11,
    "start_time": "2024-04-05T08:09:11.271Z"
   },
   {
    "duration": 12,
    "start_time": "2024-04-05T08:09:11.284Z"
   },
   {
    "duration": 11,
    "start_time": "2024-04-05T08:09:11.297Z"
   }
  ],
  "colab": {
   "provenance": []
  },
  "kernelspec": {
   "display_name": "Python 3 (ipykernel)",
   "language": "python",
   "name": "python3"
  },
  "language_info": {
   "codemirror_mode": {
    "name": "ipython",
    "version": 3
   },
   "file_extension": ".py",
   "mimetype": "text/x-python",
   "name": "python",
   "nbconvert_exporter": "python",
   "pygments_lexer": "ipython3",
   "version": "3.9.5"
  },
  "toc": {
   "base_numbering": 1,
   "nav_menu": {
    "height": "381.8px",
    "width": "762.8px"
   },
   "number_sections": true,
   "sideBar": true,
   "skip_h1_title": true,
   "title_cell": "Содержание",
   "title_sidebar": "Contents",
   "toc_cell": true,
   "toc_position": {},
   "toc_section_display": true,
   "toc_window_display": false
  }
 },
 "nbformat": 4,
 "nbformat_minor": 5
}
